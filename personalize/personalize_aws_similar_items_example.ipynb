{
 "cells": [
  {
   "cell_type": "markdown",
   "id": "40d23571",
   "metadata": {},
   "source": [
    "# Amazon Personalize: using item metadata to identify stronger similarities\n",
    "\n",
    "The relevance of the recommendations you deliver with Amazon Personalize depends on the data available when the recommendations are generated. Amazon Personalize uses your users’ historical interactions, the attributes of your items, and your users’ metadata to learn what items are most relevant for each user. The primary data required by Amazon Personalize is user-item interactions. The interactions users have with items in your catalog, such as clicking on a product, reading an article, watching a video, or purchasing a product, are an important signal of what they have found relevant in the past. Including item and user attributes, also known as metadata, can enhance the relevance of recommendations; especially for new items that are similar to what your users have found relevant. However, structured metadata such as an item’s category, style, or genre may not always be readily available or doesn’t provide all the information that you have in your narrative descriptions. \n",
    "\n",
    "Now Amazon Personalize allows you to add item metadata such as product descriptions, genre of a movie, etc.. Amazon Personalize hosts, manages, and automatically processes your item metadata attributes and use it to improve the performance of your Amazon Personalize related items solutions.\n",
    "\n",
    "This notebook will demonstrate how the new recipe `aws-similar-items` plus item metadata improves the relevance of recommendations compared to the `SIMS` recipe.\n",
    "\n",
    "Amazon Reviews data from the Amazon Prime Pantry category are used for the interactions and items datasets.\n",
    "\n",
    "When considering including text in your items dataset, keep the following best practices in mind.\n",
    "\n",
    "One dataset group will be created that will include the interactions data plus item metadata this way we can train two separate models and compare their offline and online results."
   ]
  },
  {
   "cell_type": "code",
   "execution_count": 4,
   "id": "a0def2ce",
   "metadata": {},
   "outputs": [],
   "source": [
    "import pandas as pd\n",
    "import json\n",
    "import numpy as np\n",
    "from datetime import datetime\n",
    "import boto3\n",
    "import time\n",
    "from time import sleep\n",
    "from lxml import html"
   ]
  },
  {
   "cell_type": "markdown",
   "id": "efc989f6",
   "metadata": {},
   "source": [
    "## Load and inspect datasets\n",
    "\n",
    "We'll start by loading the Prime Pantry reviews dataset. You will need to fill out the form for access to the data files:\n",
    "\n",
    "http://deepyeti.ucsd.edu/jianmo/amazon/index.html\n",
    "\n",
    "Citation:\n",
    "> Justifying recommendations using distantly-labeled reviews and fined-grained aspects  \n",
    "> Jianmo Ni, Jiacheng Li, Julian McAuley  \n",
    "> Empirical Methods in Natural Language Processing (EMNLP), 2019 [pdf](http://cseweb.ucsd.edu/~jmcauley/pdfs/emnlp19a.pdf)"
   ]
  },
  {
   "cell_type": "code",
   "execution_count": 2,
   "id": "3dcf0653",
   "metadata": {},
   "outputs": [],
   "source": [
    "data_dir = 'raw_data'"
   ]
  },
  {
   "cell_type": "code",
   "execution_count": 26,
   "id": "44c1e452",
   "metadata": {},
   "outputs": [
    {
     "name": "stdout",
     "output_type": "stream",
     "text": [
      "mkdir: cannot create directory ‘raw_data’: File exists\n",
      "--2022-02-22 09:33:51--  http://deepyeti.ucsd.edu/jianmo/amazon/categoryFiles/Prime_Pantry.json.gz\n",
      "Resolving deepyeti.ucsd.edu (deepyeti.ucsd.edu)... 169.228.63.50\n",
      "Connecting to deepyeti.ucsd.edu (deepyeti.ucsd.edu)|169.228.63.50|:80... connected.\n",
      "HTTP request sent, awaiting response... 200 OK\n",
      "Length: 45435146 (43M) [application/octet-stream]\n",
      "Saving to: ‘Prime_Pantry.json.gz.1’\n",
      "\n",
      "Prime_Pantry.json.g 100%[===================>]  43.33M  3.11MB/s    in 17s     \n",
      "\n",
      "2022-02-22 09:34:08 (2.59 MB/s) - ‘Prime_Pantry.json.gz.1’ saved [45435146/45435146]\n",
      "\n",
      "--2022-02-22 09:34:08--  http://deepyeti.ucsd.edu/jianmo/amazon/metaFiles2/meta_Prime_Pantry.json.gz\n",
      "Resolving deepyeti.ucsd.edu (deepyeti.ucsd.edu)... 169.228.63.50\n",
      "Connecting to deepyeti.ucsd.edu (deepyeti.ucsd.edu)|169.228.63.50|:80... connected.\n",
      "HTTP request sent, awaiting response... 200 OK\n",
      "Length: 5281662 (5.0M) [application/octet-stream]\n",
      "Saving to: ‘meta_Prime_Pantry.json.gz.1’\n",
      "\n",
      "meta_Prime_Pantry.j 100%[===================>]   5.04M   641KB/s    in 5.5s    \n",
      "\n",
      "2022-02-22 09:34:14 (933 KB/s) - ‘meta_Prime_Pantry.json.gz.1’ saved [5281662/5281662]\n",
      "\n"
     ]
    }
   ],
   "source": [
    "!mkdir $data_dir\n",
    "\n",
    "!cd $data_dir && \\\n",
    "    wget http://deepyeti.ucsd.edu/jianmo/amazon/categoryFiles/Prime_Pantry.json.gz && \\\n",
    "    wget http://deepyeti.ucsd.edu/jianmo/amazon/metaFiles2/meta_Prime_Pantry.json.gz"
   ]
  },
  {
   "cell_type": "markdown",
   "id": "06b2c820",
   "metadata": {},
   "source": [
    "### Load and inspect reviews data\n",
    "\n",
    "We'll start by loading the reviews dataset for the Prime Pantry products and running some commands to see what we have to work with."
   ]
  },
  {
   "cell_type": "code",
   "execution_count": 3,
   "id": "48aa2063",
   "metadata": {},
   "outputs": [
    {
     "data": {
      "text/html": [
       "<div>\n",
       "<style scoped>\n",
       "    .dataframe tbody tr th:only-of-type {\n",
       "        vertical-align: middle;\n",
       "    }\n",
       "\n",
       "    .dataframe tbody tr th {\n",
       "        vertical-align: top;\n",
       "    }\n",
       "\n",
       "    .dataframe thead th {\n",
       "        text-align: right;\n",
       "    }\n",
       "</style>\n",
       "<table border=\"1\" class=\"dataframe\">\n",
       "  <thead>\n",
       "    <tr style=\"text-align: right;\">\n",
       "      <th></th>\n",
       "      <th>overall</th>\n",
       "      <th>verified</th>\n",
       "      <th>reviewTime</th>\n",
       "      <th>reviewerID</th>\n",
       "      <th>asin</th>\n",
       "      <th>reviewerName</th>\n",
       "      <th>reviewText</th>\n",
       "      <th>summary</th>\n",
       "      <th>unixReviewTime</th>\n",
       "      <th>vote</th>\n",
       "      <th>image</th>\n",
       "      <th>style</th>\n",
       "    </tr>\n",
       "  </thead>\n",
       "  <tbody>\n",
       "    <tr>\n",
       "      <th>0</th>\n",
       "      <td>5</td>\n",
       "      <td>True</td>\n",
       "      <td>12 14, 2014</td>\n",
       "      <td>A1NKJW0TNRVS7O</td>\n",
       "      <td>B0000DIWNZ</td>\n",
       "      <td>Tamara M.</td>\n",
       "      <td>Good clinging</td>\n",
       "      <td>Clings  well</td>\n",
       "      <td>1418515200</td>\n",
       "      <td>NaN</td>\n",
       "      <td>NaN</td>\n",
       "      <td>NaN</td>\n",
       "    </tr>\n",
       "    <tr>\n",
       "      <th>1</th>\n",
       "      <td>4</td>\n",
       "      <td>True</td>\n",
       "      <td>11 20, 2014</td>\n",
       "      <td>A2L6X37E8TFTCC</td>\n",
       "      <td>B0000DIWNZ</td>\n",
       "      <td>Amazon Customer</td>\n",
       "      <td>Fantastic buy and a good plastic wrap.  Even t...</td>\n",
       "      <td>Saran could use more Plus to Cling better.</td>\n",
       "      <td>1416441600</td>\n",
       "      <td>NaN</td>\n",
       "      <td>NaN</td>\n",
       "      <td>NaN</td>\n",
       "    </tr>\n",
       "    <tr>\n",
       "      <th>2</th>\n",
       "      <td>4</td>\n",
       "      <td>True</td>\n",
       "      <td>10 11, 2014</td>\n",
       "      <td>A2WPR4W6V48121</td>\n",
       "      <td>B0000DIWNZ</td>\n",
       "      <td>noname</td>\n",
       "      <td>ok</td>\n",
       "      <td>Four Stars</td>\n",
       "      <td>1412985600</td>\n",
       "      <td>NaN</td>\n",
       "      <td>NaN</td>\n",
       "      <td>NaN</td>\n",
       "    </tr>\n",
       "    <tr>\n",
       "      <th>3</th>\n",
       "      <td>3</td>\n",
       "      <td>False</td>\n",
       "      <td>09 1, 2014</td>\n",
       "      <td>A27EE7X7L29UMU</td>\n",
       "      <td>B0000DIWNZ</td>\n",
       "      <td>ZapNZs</td>\n",
       "      <td>Saran Cling Plus is kind of like most of the C...</td>\n",
       "      <td>The wrap is fantastic, but the dispensing, cut...</td>\n",
       "      <td>1409529600</td>\n",
       "      <td>4</td>\n",
       "      <td>NaN</td>\n",
       "      <td>NaN</td>\n",
       "    </tr>\n",
       "    <tr>\n",
       "      <th>4</th>\n",
       "      <td>4</td>\n",
       "      <td>True</td>\n",
       "      <td>08 10, 2014</td>\n",
       "      <td>A1OWT4YZGB5GV9</td>\n",
       "      <td>B0000DIWNZ</td>\n",
       "      <td>Amy Rogers</td>\n",
       "      <td>This is my go to plastic wrap so there isn't m...</td>\n",
       "      <td>has been doing it's job for years</td>\n",
       "      <td>1407628800</td>\n",
       "      <td>NaN</td>\n",
       "      <td>NaN</td>\n",
       "      <td>NaN</td>\n",
       "    </tr>\n",
       "  </tbody>\n",
       "</table>\n",
       "</div>"
      ],
      "text/plain": [
       "   overall  verified   reviewTime      reviewerID        asin  \\\n",
       "0        5      True  12 14, 2014  A1NKJW0TNRVS7O  B0000DIWNZ   \n",
       "1        4      True  11 20, 2014  A2L6X37E8TFTCC  B0000DIWNZ   \n",
       "2        4      True  10 11, 2014  A2WPR4W6V48121  B0000DIWNZ   \n",
       "3        3     False   09 1, 2014  A27EE7X7L29UMU  B0000DIWNZ   \n",
       "4        4      True  08 10, 2014  A1OWT4YZGB5GV9  B0000DIWNZ   \n",
       "\n",
       "      reviewerName                                         reviewText  \\\n",
       "0        Tamara M.                                      Good clinging   \n",
       "1  Amazon Customer  Fantastic buy and a good plastic wrap.  Even t...   \n",
       "2           noname                                                 ok   \n",
       "3           ZapNZs  Saran Cling Plus is kind of like most of the C...   \n",
       "4       Amy Rogers  This is my go to plastic wrap so there isn't m...   \n",
       "\n",
       "                                             summary  unixReviewTime vote  \\\n",
       "0                                       Clings  well      1418515200  NaN   \n",
       "1         Saran could use more Plus to Cling better.      1416441600  NaN   \n",
       "2                                         Four Stars      1412985600  NaN   \n",
       "3  The wrap is fantastic, but the dispensing, cut...      1409529600    4   \n",
       "4                  has been doing it's job for years      1407628800  NaN   \n",
       "\n",
       "  image style  \n",
       "0   NaN   NaN  \n",
       "1   NaN   NaN  \n",
       "2   NaN   NaN  \n",
       "3   NaN   NaN  \n",
       "4   NaN   NaN  "
      ]
     },
     "execution_count": 3,
     "metadata": {},
     "output_type": "execute_result"
    }
   ],
   "source": [
    "pantry_df = pd.read_json(data_dir + '/Prime_Pantry.json.gz', lines=True, compression='infer')\n",
    "pantry_df.head()"
   ]
  },
  {
   "cell_type": "code",
   "execution_count": 4,
   "id": "fbb365e2",
   "metadata": {},
   "outputs": [
    {
     "data": {
      "text/plain": [
       "(471614, 12)"
      ]
     },
     "execution_count": 4,
     "metadata": {},
     "output_type": "execute_result"
    }
   ],
   "source": [
    "pantry_df.shape"
   ]
  },
  {
   "cell_type": "markdown",
   "id": "13b0ee1b",
   "metadata": {},
   "source": [
    "What can we learn from this output? There are over 471K reviews and 12 columns of data. The `asin` column is our unique item identifier, `reviewerID` is our unique user identifier, `unixReviewTime` is our timestamp for the review, and `overall` indicates the positivity of the review on a scale of 1-5. We will use this file as the basis for our interactions dataset for Personalize. "
   ]
  },
  {
   "cell_type": "markdown",
   "id": "d13c97c6",
   "metadata": {},
   "source": [
    "### Build and save interactions dataset\n",
    "\n",
    "Let's start building our interactions dataset by narrowing down the rows we want to include. The first step is to isolate only the positive reviews. For this we will assume any reviews with an overall rating of 4 or higher is a positive review. Anything rating of 3 or below are either mediocre or negative reviews."
   ]
  },
  {
   "cell_type": "code",
   "execution_count": 5,
   "id": "279ef1cc",
   "metadata": {},
   "outputs": [
    {
     "data": {
      "text/plain": [
       "(387692, 12)"
      ]
     },
     "execution_count": 5,
     "metadata": {},
     "output_type": "execute_result"
    }
   ],
   "source": [
    "positive_reviews_df = pantry_df[pantry_df['overall'] > 3]\n",
    "positive_reviews_df.shape"
   ]
  },
  {
   "cell_type": "markdown",
   "id": "4b5b43dd",
   "metadata": {},
   "source": [
    "We're down to 387K positive reviews. Still plenty for training a model in Personalize.\n",
    "\n",
    "Next let's narrow down the dataset to just the columns we need and add an `EVENT_TYPE` column to indicate the type of events we're capturing. Adding an `EVENT_TYPE` column now will make it easier to explore testing real-time events later if you choose to do so (since `eventType` is a required field for the [PutEvents](https://docs.aws.amazon.com/personalize/latest/dg/API_UBS_PutEvents.html) API)."
   ]
  },
  {
   "cell_type": "code",
   "execution_count": 6,
   "id": "8c6dff70",
   "metadata": {},
   "outputs": [
    {
     "data": {
      "text/html": [
       "<div>\n",
       "<style scoped>\n",
       "    .dataframe tbody tr th:only-of-type {\n",
       "        vertical-align: middle;\n",
       "    }\n",
       "\n",
       "    .dataframe tbody tr th {\n",
       "        vertical-align: top;\n",
       "    }\n",
       "\n",
       "    .dataframe thead th {\n",
       "        text-align: right;\n",
       "    }\n",
       "</style>\n",
       "<table border=\"1\" class=\"dataframe\">\n",
       "  <thead>\n",
       "    <tr style=\"text-align: right;\">\n",
       "      <th></th>\n",
       "      <th>reviewerID</th>\n",
       "      <th>asin</th>\n",
       "      <th>unixReviewTime</th>\n",
       "      <th>overall</th>\n",
       "      <th>EVENT_TYPE</th>\n",
       "    </tr>\n",
       "  </thead>\n",
       "  <tbody>\n",
       "    <tr>\n",
       "      <th>0</th>\n",
       "      <td>A1NKJW0TNRVS7O</td>\n",
       "      <td>B0000DIWNZ</td>\n",
       "      <td>1418515200</td>\n",
       "      <td>5</td>\n",
       "      <td>reviewed</td>\n",
       "    </tr>\n",
       "    <tr>\n",
       "      <th>1</th>\n",
       "      <td>A2L6X37E8TFTCC</td>\n",
       "      <td>B0000DIWNZ</td>\n",
       "      <td>1416441600</td>\n",
       "      <td>4</td>\n",
       "      <td>reviewed</td>\n",
       "    </tr>\n",
       "    <tr>\n",
       "      <th>2</th>\n",
       "      <td>A2WPR4W6V48121</td>\n",
       "      <td>B0000DIWNZ</td>\n",
       "      <td>1412985600</td>\n",
       "      <td>4</td>\n",
       "      <td>reviewed</td>\n",
       "    </tr>\n",
       "    <tr>\n",
       "      <th>4</th>\n",
       "      <td>A1OWT4YZGB5GV9</td>\n",
       "      <td>B0000DIWNZ</td>\n",
       "      <td>1407628800</td>\n",
       "      <td>4</td>\n",
       "      <td>reviewed</td>\n",
       "    </tr>\n",
       "    <tr>\n",
       "      <th>5</th>\n",
       "      <td>A1GN2ADKF1IE7K</td>\n",
       "      <td>B0000DIWNZ</td>\n",
       "      <td>1405296000</td>\n",
       "      <td>5</td>\n",
       "      <td>reviewed</td>\n",
       "    </tr>\n",
       "  </tbody>\n",
       "</table>\n",
       "</div>"
      ],
      "text/plain": [
       "       reviewerID        asin  unixReviewTime  overall EVENT_TYPE\n",
       "0  A1NKJW0TNRVS7O  B0000DIWNZ      1418515200        5   reviewed\n",
       "1  A2L6X37E8TFTCC  B0000DIWNZ      1416441600        4   reviewed\n",
       "2  A2WPR4W6V48121  B0000DIWNZ      1412985600        4   reviewed\n",
       "4  A1OWT4YZGB5GV9  B0000DIWNZ      1407628800        4   reviewed\n",
       "5  A1GN2ADKF1IE7K  B0000DIWNZ      1405296000        5   reviewed"
      ]
     },
     "execution_count": 6,
     "metadata": {},
     "output_type": "execute_result"
    }
   ],
   "source": [
    "positive_reviews_df = positive_reviews_df[['reviewerID', 'asin', 'unixReviewTime', 'overall']]\n",
    "positive_reviews_df['EVENT_TYPE']='reviewed'\n",
    "\n",
    "positive_reviews_df.head()"
   ]
  },
  {
   "cell_type": "markdown",
   "id": "05f1c8bf",
   "metadata": {},
   "source": [
    "One last check we should do is sanity check a `unixReviewTime` column value. Since Personalize builds sequence models based on the date and time of each interaction, it's important that the timestamp of each interaction is represented in the expected format so that it is interpreted correctly.\n",
    "\n",
    "Let's pick a value for the `unixReviewTime` column and parse it into a human-readable date so we can verify that it's reasonable."
   ]
  },
  {
   "cell_type": "code",
   "execution_count": 7,
   "id": "85959397",
   "metadata": {},
   "outputs": [
    {
     "name": "stdout",
     "output_type": "stream",
     "text": [
      "1321488000\n",
      "2011-11-17 00:00:00\n"
     ]
    }
   ],
   "source": [
    "time_stamp = positive_reviews_df.iloc[50]['unixReviewTime']\n",
    "print(time_stamp)\n",
    "print(datetime.utcfromtimestamp(time_stamp).strftime('%Y-%m-%d %H:%M:%S'))"
   ]
  },
  {
   "cell_type": "markdown",
   "id": "89e0ccf8",
   "metadata": {},
   "source": [
    "The timestamp value looks good. Let's get some final summary information for our dataset."
   ]
  },
  {
   "cell_type": "code",
   "execution_count": 8,
   "id": "f998b8ea",
   "metadata": {},
   "outputs": [
    {
     "data": {
      "text/html": [
       "<div>\n",
       "<style scoped>\n",
       "    .dataframe tbody tr th:only-of-type {\n",
       "        vertical-align: middle;\n",
       "    }\n",
       "\n",
       "    .dataframe tbody tr th {\n",
       "        vertical-align: top;\n",
       "    }\n",
       "\n",
       "    .dataframe thead th {\n",
       "        text-align: right;\n",
       "    }\n",
       "</style>\n",
       "<table border=\"1\" class=\"dataframe\">\n",
       "  <thead>\n",
       "    <tr style=\"text-align: right;\">\n",
       "      <th></th>\n",
       "      <th>reviewerID</th>\n",
       "      <th>asin</th>\n",
       "      <th>unixReviewTime</th>\n",
       "      <th>overall</th>\n",
       "      <th>EVENT_TYPE</th>\n",
       "    </tr>\n",
       "  </thead>\n",
       "  <tbody>\n",
       "    <tr>\n",
       "      <th>count</th>\n",
       "      <td>387692</td>\n",
       "      <td>387692</td>\n",
       "      <td>3.876920e+05</td>\n",
       "      <td>387692.000000</td>\n",
       "      <td>387692</td>\n",
       "    </tr>\n",
       "    <tr>\n",
       "      <th>unique</th>\n",
       "      <td>202254</td>\n",
       "      <td>10584</td>\n",
       "      <td>NaN</td>\n",
       "      <td>NaN</td>\n",
       "      <td>1</td>\n",
       "    </tr>\n",
       "    <tr>\n",
       "      <th>top</th>\n",
       "      <td>A35Q0RBM3YNQNF</td>\n",
       "      <td>B00XA9DADC</td>\n",
       "      <td>NaN</td>\n",
       "      <td>NaN</td>\n",
       "      <td>reviewed</td>\n",
       "    </tr>\n",
       "    <tr>\n",
       "      <th>freq</th>\n",
       "      <td>176</td>\n",
       "      <td>5288</td>\n",
       "      <td>NaN</td>\n",
       "      <td>NaN</td>\n",
       "      <td>387692</td>\n",
       "    </tr>\n",
       "    <tr>\n",
       "      <th>mean</th>\n",
       "      <td>NaN</td>\n",
       "      <td>NaN</td>\n",
       "      <td>1.468847e+09</td>\n",
       "      <td>4.847227</td>\n",
       "      <td>NaN</td>\n",
       "    </tr>\n",
       "    <tr>\n",
       "      <th>std</th>\n",
       "      <td>NaN</td>\n",
       "      <td>NaN</td>\n",
       "      <td>4.314975e+07</td>\n",
       "      <td>0.359769</td>\n",
       "      <td>NaN</td>\n",
       "    </tr>\n",
       "    <tr>\n",
       "      <th>min</th>\n",
       "      <td>NaN</td>\n",
       "      <td>NaN</td>\n",
       "      <td>1.073693e+09</td>\n",
       "      <td>4.000000</td>\n",
       "      <td>NaN</td>\n",
       "    </tr>\n",
       "    <tr>\n",
       "      <th>25%</th>\n",
       "      <td>NaN</td>\n",
       "      <td>NaN</td>\n",
       "      <td>1.447200e+09</td>\n",
       "      <td>5.000000</td>\n",
       "      <td>NaN</td>\n",
       "    </tr>\n",
       "    <tr>\n",
       "      <th>50%</th>\n",
       "      <td>NaN</td>\n",
       "      <td>NaN</td>\n",
       "      <td>1.474718e+09</td>\n",
       "      <td>5.000000</td>\n",
       "      <td>NaN</td>\n",
       "    </tr>\n",
       "    <tr>\n",
       "      <th>75%</th>\n",
       "      <td>NaN</td>\n",
       "      <td>NaN</td>\n",
       "      <td>1.498435e+09</td>\n",
       "      <td>5.000000</td>\n",
       "      <td>NaN</td>\n",
       "    </tr>\n",
       "    <tr>\n",
       "      <th>max</th>\n",
       "      <td>NaN</td>\n",
       "      <td>NaN</td>\n",
       "      <td>1.538611e+09</td>\n",
       "      <td>5.000000</td>\n",
       "      <td>NaN</td>\n",
       "    </tr>\n",
       "  </tbody>\n",
       "</table>\n",
       "</div>"
      ],
      "text/plain": [
       "            reviewerID        asin  unixReviewTime        overall EVENT_TYPE\n",
       "count           387692      387692    3.876920e+05  387692.000000     387692\n",
       "unique          202254       10584             NaN            NaN          1\n",
       "top     A35Q0RBM3YNQNF  B00XA9DADC             NaN            NaN   reviewed\n",
       "freq               176        5288             NaN            NaN     387692\n",
       "mean               NaN         NaN    1.468847e+09       4.847227        NaN\n",
       "std                NaN         NaN    4.314975e+07       0.359769        NaN\n",
       "min                NaN         NaN    1.073693e+09       4.000000        NaN\n",
       "25%                NaN         NaN    1.447200e+09       5.000000        NaN\n",
       "50%                NaN         NaN    1.474718e+09       5.000000        NaN\n",
       "75%                NaN         NaN    1.498435e+09       5.000000        NaN\n",
       "max                NaN         NaN    1.538611e+09       5.000000        NaN"
      ]
     },
     "execution_count": 8,
     "metadata": {},
     "output_type": "execute_result"
    }
   ],
   "source": [
    "positive_reviews_df.describe(include='all')"
   ]
  },
  {
   "cell_type": "markdown",
   "id": "78b4f171",
   "metadata": {},
   "source": [
    "We have 387K reviews for 202K distinct reviewers/users across 10K unique products. This is basis of our interactions dataset.\n",
    "\n",
    "Before we can use this as our interactions dataset, though, we need to rename the columns to match those expected by Personalize."
   ]
  },
  {
   "cell_type": "code",
   "execution_count": 9,
   "id": "468897a7",
   "metadata": {},
   "outputs": [
    {
     "data": {
      "text/html": [
       "<div>\n",
       "<style scoped>\n",
       "    .dataframe tbody tr th:only-of-type {\n",
       "        vertical-align: middle;\n",
       "    }\n",
       "\n",
       "    .dataframe tbody tr th {\n",
       "        vertical-align: top;\n",
       "    }\n",
       "\n",
       "    .dataframe thead th {\n",
       "        text-align: right;\n",
       "    }\n",
       "</style>\n",
       "<table border=\"1\" class=\"dataframe\">\n",
       "  <thead>\n",
       "    <tr style=\"text-align: right;\">\n",
       "      <th></th>\n",
       "      <th>USER_ID</th>\n",
       "      <th>ITEM_ID</th>\n",
       "      <th>TIMESTAMP</th>\n",
       "      <th>EVENT_VALUE</th>\n",
       "      <th>EVENT_TYPE</th>\n",
       "    </tr>\n",
       "  </thead>\n",
       "  <tbody>\n",
       "    <tr>\n",
       "      <th>0</th>\n",
       "      <td>A1NKJW0TNRVS7O</td>\n",
       "      <td>B0000DIWNZ</td>\n",
       "      <td>1418515200</td>\n",
       "      <td>5</td>\n",
       "      <td>reviewed</td>\n",
       "    </tr>\n",
       "    <tr>\n",
       "      <th>1</th>\n",
       "      <td>A2L6X37E8TFTCC</td>\n",
       "      <td>B0000DIWNZ</td>\n",
       "      <td>1416441600</td>\n",
       "      <td>4</td>\n",
       "      <td>reviewed</td>\n",
       "    </tr>\n",
       "    <tr>\n",
       "      <th>2</th>\n",
       "      <td>A2WPR4W6V48121</td>\n",
       "      <td>B0000DIWNZ</td>\n",
       "      <td>1412985600</td>\n",
       "      <td>4</td>\n",
       "      <td>reviewed</td>\n",
       "    </tr>\n",
       "    <tr>\n",
       "      <th>4</th>\n",
       "      <td>A1OWT4YZGB5GV9</td>\n",
       "      <td>B0000DIWNZ</td>\n",
       "      <td>1407628800</td>\n",
       "      <td>4</td>\n",
       "      <td>reviewed</td>\n",
       "    </tr>\n",
       "    <tr>\n",
       "      <th>5</th>\n",
       "      <td>A1GN2ADKF1IE7K</td>\n",
       "      <td>B0000DIWNZ</td>\n",
       "      <td>1405296000</td>\n",
       "      <td>5</td>\n",
       "      <td>reviewed</td>\n",
       "    </tr>\n",
       "    <tr>\n",
       "      <th>...</th>\n",
       "      <td>...</td>\n",
       "      <td>...</td>\n",
       "      <td>...</td>\n",
       "      <td>...</td>\n",
       "      <td>...</td>\n",
       "    </tr>\n",
       "    <tr>\n",
       "      <th>471609</th>\n",
       "      <td>A19GSVHXVT5NNF</td>\n",
       "      <td>B01HI8JVI8</td>\n",
       "      <td>1494892800</td>\n",
       "      <td>5</td>\n",
       "      <td>reviewed</td>\n",
       "    </tr>\n",
       "    <tr>\n",
       "      <th>471610</th>\n",
       "      <td>ABSCTKLX9F9IU</td>\n",
       "      <td>B01HI8JVI8</td>\n",
       "      <td>1493769600</td>\n",
       "      <td>5</td>\n",
       "      <td>reviewed</td>\n",
       "    </tr>\n",
       "    <tr>\n",
       "      <th>471611</th>\n",
       "      <td>A2R33RCWKDHZ3L</td>\n",
       "      <td>B01HI8JVI8</td>\n",
       "      <td>1492646400</td>\n",
       "      <td>5</td>\n",
       "      <td>reviewed</td>\n",
       "    </tr>\n",
       "    <tr>\n",
       "      <th>471612</th>\n",
       "      <td>A2INGHYEXZDHMC</td>\n",
       "      <td>B01HI8JVI8</td>\n",
       "      <td>1492560000</td>\n",
       "      <td>5</td>\n",
       "      <td>reviewed</td>\n",
       "    </tr>\n",
       "    <tr>\n",
       "      <th>471613</th>\n",
       "      <td>AJ8M6GVFGIRLS</td>\n",
       "      <td>B01HI8JVI8</td>\n",
       "      <td>1487808000</td>\n",
       "      <td>5</td>\n",
       "      <td>reviewed</td>\n",
       "    </tr>\n",
       "  </tbody>\n",
       "</table>\n",
       "<p>387692 rows × 5 columns</p>\n",
       "</div>"
      ],
      "text/plain": [
       "               USER_ID     ITEM_ID   TIMESTAMP  EVENT_VALUE EVENT_TYPE\n",
       "0       A1NKJW0TNRVS7O  B0000DIWNZ  1418515200            5   reviewed\n",
       "1       A2L6X37E8TFTCC  B0000DIWNZ  1416441600            4   reviewed\n",
       "2       A2WPR4W6V48121  B0000DIWNZ  1412985600            4   reviewed\n",
       "4       A1OWT4YZGB5GV9  B0000DIWNZ  1407628800            4   reviewed\n",
       "5       A1GN2ADKF1IE7K  B0000DIWNZ  1405296000            5   reviewed\n",
       "...                ...         ...         ...          ...        ...\n",
       "471609  A19GSVHXVT5NNF  B01HI8JVI8  1494892800            5   reviewed\n",
       "471610   ABSCTKLX9F9IU  B01HI8JVI8  1493769600            5   reviewed\n",
       "471611  A2R33RCWKDHZ3L  B01HI8JVI8  1492646400            5   reviewed\n",
       "471612  A2INGHYEXZDHMC  B01HI8JVI8  1492560000            5   reviewed\n",
       "471613   AJ8M6GVFGIRLS  B01HI8JVI8  1487808000            5   reviewed\n",
       "\n",
       "[387692 rows x 5 columns]"
      ]
     },
     "execution_count": 9,
     "metadata": {},
     "output_type": "execute_result"
    }
   ],
   "source": [
    "positive_reviews_df.rename(columns = {'reviewerID':'USER_ID', 'asin':'ITEM_ID', \n",
    "                              'unixReviewTime':'TIMESTAMP', 'overall': 'EVENT_VALUE'}, inplace = True)\n",
    "positive_reviews_df"
   ]
  },
  {
   "cell_type": "markdown",
   "id": "f93092b3",
   "metadata": {},
   "source": [
    "Finally, let's save our positive reviews dataframe as a CSV. We'll upload this CSV to Personalize later in this notebook."
   ]
  },
  {
   "cell_type": "code",
   "execution_count": 10,
   "id": "9e2bdc8b",
   "metadata": {},
   "outputs": [],
   "source": [
    "interactions_filename = \"interactions.csv\"\n",
    "positive_reviews_df.to_csv(interactions_filename, index=False, float_format='%.0f')"
   ]
  },
  {
   "cell_type": "markdown",
   "id": "61836a57",
   "metadata": {},
   "source": [
    "### Load and inspect item metadata\n",
    "\n",
    "Now that we have the interactions dataset established, let's turn to the items dataset. This is where we will find the unstructured text value that we will include in the model.\n",
    "\n",
    "Like the reviews dataset, the Prime Pantry item metadata file is also represented in JSON. Due to the nested nature of this file, this will present some challenges in getting our data formatted the way we need it.\n",
    "\n",
    "Let's start by loading the metadata file into a dataframe and taking a look the data."
   ]
  },
  {
   "cell_type": "code",
   "execution_count": 11,
   "id": "5a372a3c",
   "metadata": {},
   "outputs": [
    {
     "data": {
      "text/html": [
       "<div>\n",
       "<style scoped>\n",
       "    .dataframe tbody tr th:only-of-type {\n",
       "        vertical-align: middle;\n",
       "    }\n",
       "\n",
       "    .dataframe tbody tr th {\n",
       "        vertical-align: top;\n",
       "    }\n",
       "\n",
       "    .dataframe thead th {\n",
       "        text-align: right;\n",
       "    }\n",
       "</style>\n",
       "<table border=\"1\" class=\"dataframe\">\n",
       "  <thead>\n",
       "    <tr style=\"text-align: right;\">\n",
       "      <th></th>\n",
       "      <th>category</th>\n",
       "      <th>tech1</th>\n",
       "      <th>description</th>\n",
       "      <th>fit</th>\n",
       "      <th>title</th>\n",
       "      <th>also_buy</th>\n",
       "      <th>tech2</th>\n",
       "      <th>brand</th>\n",
       "      <th>feature</th>\n",
       "      <th>rank</th>\n",
       "      <th>also_view</th>\n",
       "      <th>details</th>\n",
       "      <th>main_cat</th>\n",
       "      <th>similar_item</th>\n",
       "      <th>date</th>\n",
       "      <th>price</th>\n",
       "      <th>asin</th>\n",
       "      <th>imageURL</th>\n",
       "      <th>imageURLHighRes</th>\n",
       "    </tr>\n",
       "  </thead>\n",
       "  <tbody>\n",
       "    <tr>\n",
       "      <th>0</th>\n",
       "      <td>[]</td>\n",
       "      <td></td>\n",
       "      <td>[Sink your sweet tooth into MILK DUDS Candya d...</td>\n",
       "      <td></td>\n",
       "      <td>HERSHEY'S Milk Duds Candy, 5 Ounce(Halloween C...</td>\n",
       "      <td>[B019KE37WO, B007NQSWEU]</td>\n",
       "      <td></td>\n",
       "      <td>Milk Duds</td>\n",
       "      <td>[]</td>\n",
       "      <td>[]</td>\n",
       "      <td>[]</td>\n",
       "      <td>{'ASIN: ': 'B00005BPJO', 'Item model number:':...</td>\n",
       "      <td>&lt;img src=\"https://m.media-amazon.com/images/G/...</td>\n",
       "      <td></td>\n",
       "      <td>NaT</td>\n",
       "      <td>$5.00</td>\n",
       "      <td>B00005BPJO</td>\n",
       "      <td>[https://images-na.ssl-images-amazon.com/image...</td>\n",
       "      <td>[https://images-na.ssl-images-amazon.com/image...</td>\n",
       "    </tr>\n",
       "    <tr>\n",
       "      <th>1</th>\n",
       "      <td>[]</td>\n",
       "      <td></td>\n",
       "      <td>[Sink your sweet tooth into MILK DUDS Candya d...</td>\n",
       "      <td></td>\n",
       "      <td>HERSHEY'S Milk Duds Candy, 5 Ounce(Halloween C...</td>\n",
       "      <td>[B019KE37WO, B007NQSWEU]</td>\n",
       "      <td></td>\n",
       "      <td>Milk Duds</td>\n",
       "      <td>[]</td>\n",
       "      <td>[]</td>\n",
       "      <td>[]</td>\n",
       "      <td>{'ASIN: ': 'B00005BPJO', 'Item model number:':...</td>\n",
       "      <td>&lt;img src=\"https://m.media-amazon.com/images/G/...</td>\n",
       "      <td></td>\n",
       "      <td>NaT</td>\n",
       "      <td>$5.00</td>\n",
       "      <td>B00005BPJO</td>\n",
       "      <td>[https://images-na.ssl-images-amazon.com/image...</td>\n",
       "      <td>[https://images-na.ssl-images-amazon.com/image...</td>\n",
       "    </tr>\n",
       "    <tr>\n",
       "      <th>2</th>\n",
       "      <td>[]</td>\n",
       "      <td></td>\n",
       "      <td>[A perfect Lentil soup starts with Goya Lentil...</td>\n",
       "      <td></td>\n",
       "      <td>Goya Dry Lentils, 16 oz</td>\n",
       "      <td>[B003SI144W, B000VDRKEK]</td>\n",
       "      <td></td>\n",
       "      <td>Goya</td>\n",
       "      <td>[]</td>\n",
       "      <td>[]</td>\n",
       "      <td>[B074MFVZG7, B079PTH69L, B000VDRKEK, B074M9T81...</td>\n",
       "      <td>{'ASIN: ': 'B0000DIF38'}</td>\n",
       "      <td>&lt;img src=\"https://images-na.ssl-images-amazon....</td>\n",
       "      <td></td>\n",
       "      <td>NaT</td>\n",
       "      <td></td>\n",
       "      <td>B0000DIF38</td>\n",
       "      <td>[https://images-na.ssl-images-amazon.com/image...</td>\n",
       "      <td>[https://images-na.ssl-images-amazon.com/image...</td>\n",
       "    </tr>\n",
       "    <tr>\n",
       "      <th>3</th>\n",
       "      <td>[]</td>\n",
       "      <td></td>\n",
       "      <td>[Saran Premium Wrap is an extra tough yet easy...</td>\n",
       "      <td></td>\n",
       "      <td>Saran Premium Plastic Wrap, 100 Sq Ft</td>\n",
       "      <td>[B01MY5FHT6, B000PYF8VM, B000SRMDFA, B07CX6LN8...</td>\n",
       "      <td></td>\n",
       "      <td>Saran</td>\n",
       "      <td>[]</td>\n",
       "      <td>[]</td>\n",
       "      <td>[B077QLSLRQ, B00JPKW1RQ, B000FE2IK6, B00XUJHJ9...</td>\n",
       "      <td>{'Domestic Shipping: ': 'This item can only be...</td>\n",
       "      <td>&lt;img src=\"https://images-na.ssl-images-amazon....</td>\n",
       "      <td></td>\n",
       "      <td>NaT</td>\n",
       "      <td></td>\n",
       "      <td>B0000DIWNI</td>\n",
       "      <td>[https://images-na.ssl-images-amazon.com/image...</td>\n",
       "      <td>[https://images-na.ssl-images-amazon.com/image...</td>\n",
       "    </tr>\n",
       "    <tr>\n",
       "      <th>4</th>\n",
       "      <td>[]</td>\n",
       "      <td></td>\n",
       "      <td>[200 sq ft (285 ft x 11-3/4 in x 18.6 m2). Eas...</td>\n",
       "      <td></td>\n",
       "      <td>Saran Cling Plus Plastic Wrap, 200 Sq Ft</td>\n",
       "      <td>[]</td>\n",
       "      <td></td>\n",
       "      <td>Saran</td>\n",
       "      <td>[]</td>\n",
       "      <td>[]</td>\n",
       "      <td>[B0014CZ0TE]</td>\n",
       "      <td>{'Domestic Shipping: ': 'This item can only be...</td>\n",
       "      <td>&lt;img src=\"https://images-na.ssl-images-amazon....</td>\n",
       "      <td></td>\n",
       "      <td>NaT</td>\n",
       "      <td></td>\n",
       "      <td>B0000DIWNZ</td>\n",
       "      <td>[https://images-na.ssl-images-amazon.com/image...</td>\n",
       "      <td>[https://images-na.ssl-images-amazon.com/image...</td>\n",
       "    </tr>\n",
       "    <tr>\n",
       "      <th>...</th>\n",
       "      <td>...</td>\n",
       "      <td>...</td>\n",
       "      <td>...</td>\n",
       "      <td>...</td>\n",
       "      <td>...</td>\n",
       "      <td>...</td>\n",
       "      <td>...</td>\n",
       "      <td>...</td>\n",
       "      <td>...</td>\n",
       "      <td>...</td>\n",
       "      <td>...</td>\n",
       "      <td>...</td>\n",
       "      <td>...</td>\n",
       "      <td>...</td>\n",
       "      <td>...</td>\n",
       "      <td>...</td>\n",
       "      <td>...</td>\n",
       "      <td>...</td>\n",
       "      <td>...</td>\n",
       "    </tr>\n",
       "    <tr>\n",
       "      <th>10808</th>\n",
       "      <td>[]</td>\n",
       "      <td></td>\n",
       "      <td>[These bars are where our journey started and ...</td>\n",
       "      <td></td>\n",
       "      <td>KIND Bars, Caramel Almond &amp;amp; Sea Salt, Glut...</td>\n",
       "      <td>[]</td>\n",
       "      <td></td>\n",
       "      <td>KIND</td>\n",
       "      <td>[]</td>\n",
       "      <td>26,259 in Grocery &amp; Gourmet Food (</td>\n",
       "      <td>[B00JQQAN60, B00JQQAWSY, B0111K7V54, B0111K8L9...</td>\n",
       "      <td>{'ASIN: ': 'B01HI76312', 'Item model number:':...</td>\n",
       "      <td>&lt;img src=\"https://images-na.ssl-images-amazon....</td>\n",
       "      <td></td>\n",
       "      <td>NaT</td>\n",
       "      <td>$3.98</td>\n",
       "      <td>B01HI76312</td>\n",
       "      <td>[https://images-na.ssl-images-amazon.com/image...</td>\n",
       "      <td>[https://images-na.ssl-images-amazon.com/image...</td>\n",
       "    </tr>\n",
       "    <tr>\n",
       "      <th>10809</th>\n",
       "      <td>[]</td>\n",
       "      <td></td>\n",
       "      <td>[These bars are where our journey started and ...</td>\n",
       "      <td></td>\n",
       "      <td>KIND Bars, Maple Glazed Pecan &amp;amp; Sea Salt, ...</td>\n",
       "      <td>[]</td>\n",
       "      <td></td>\n",
       "      <td>KIND</td>\n",
       "      <td>[]</td>\n",
       "      <td>16,822 in Grocery &amp; Gourmet Food (</td>\n",
       "      <td>[B0111K97JC, B00JQQAN60, B0111K8L9Y, B01HI7631...</td>\n",
       "      <td>{'ASIN: ': 'B01HI76790'}</td>\n",
       "      <td>&lt;img src=\"https://images-na.ssl-images-amazon....</td>\n",
       "      <td></td>\n",
       "      <td>NaT</td>\n",
       "      <td>$5.81</td>\n",
       "      <td>B01HI76790</td>\n",
       "      <td>[https://images-na.ssl-images-amazon.com/image...</td>\n",
       "      <td>[https://images-na.ssl-images-amazon.com/image...</td>\n",
       "    </tr>\n",
       "    <tr>\n",
       "      <th>10810</th>\n",
       "      <td>[]</td>\n",
       "      <td></td>\n",
       "      <td>[These bars are where our journey started and ...</td>\n",
       "      <td></td>\n",
       "      <td>KIND Bars, Dark Chocolate Almond &amp;amp; Coconut...</td>\n",
       "      <td>[]</td>\n",
       "      <td></td>\n",
       "      <td>KIND</td>\n",
       "      <td>[]</td>\n",
       "      <td>107,057 in Grocery &amp; Gourmet Food (</td>\n",
       "      <td>[B0111K7V54, B01HI76312, B00JQQAL0S, B0111K97J...</td>\n",
       "      <td>{'ASIN: ': 'B01HI76SA8'}</td>\n",
       "      <td>&lt;img src=\"https://images-na.ssl-images-amazon....</td>\n",
       "      <td></td>\n",
       "      <td>NaT</td>\n",
       "      <td>$4.98</td>\n",
       "      <td>B01HI76SA8</td>\n",
       "      <td>[]</td>\n",
       "      <td>[]</td>\n",
       "    </tr>\n",
       "    <tr>\n",
       "      <th>10811</th>\n",
       "      <td>[]</td>\n",
       "      <td></td>\n",
       "      <td>[These bars are where our journey started and ...</td>\n",
       "      <td></td>\n",
       "      <td>KIND Bars, Honey Roasted Nuts &amp;amp; Sea Salt, ...</td>\n",
       "      <td>[]</td>\n",
       "      <td></td>\n",
       "      <td>KIND</td>\n",
       "      <td>[]</td>\n",
       "      <td>24,648 in Grocery &amp; Gourmet Food (</td>\n",
       "      <td>[B00JQQAN60, B0111K7V54, B01HI76312, B0111K97J...</td>\n",
       "      <td>{'ASIN: ': 'B01HI76XS0'}</td>\n",
       "      <td>&lt;img src=\"https://images-na.ssl-images-amazon....</td>\n",
       "      <td></td>\n",
       "      <td>NaT</td>\n",
       "      <td>$5.81</td>\n",
       "      <td>B01HI76XS0</td>\n",
       "      <td>[https://images-na.ssl-images-amazon.com/image...</td>\n",
       "      <td>[https://images-na.ssl-images-amazon.com/image...</td>\n",
       "    </tr>\n",
       "    <tr>\n",
       "      <th>10812</th>\n",
       "      <td>[]</td>\n",
       "      <td></td>\n",
       "      <td>[Delicious, crowd pleasing and convenient it c...</td>\n",
       "      <td></td>\n",
       "      <td>Tostitos Salsa, Mild, 69 Ounce</td>\n",
       "      <td>[B00ID0EBP4, B00ID0EB1S, B00N0WZSOS, B00IAE65L...</td>\n",
       "      <td></td>\n",
       "      <td>Tostitos</td>\n",
       "      <td>[]</td>\n",
       "      <td>259,965 in Grocery &amp; Gourmet Food (</td>\n",
       "      <td>[]</td>\n",
       "      <td>{'ASIN: ': 'B01HI8JVI8'}</td>\n",
       "      <td>&lt;img src=\"https://images-na.ssl-images-amazon....</td>\n",
       "      <td></td>\n",
       "      <td>NaT</td>\n",
       "      <td>$6.82</td>\n",
       "      <td>B01HI8JVI8</td>\n",
       "      <td>[]</td>\n",
       "      <td>[]</td>\n",
       "    </tr>\n",
       "  </tbody>\n",
       "</table>\n",
       "<p>10813 rows × 19 columns</p>\n",
       "</div>"
      ],
      "text/plain": [
       "      category tech1                                        description fit  \\\n",
       "0           []        [Sink your sweet tooth into MILK DUDS Candya d...       \n",
       "1           []        [Sink your sweet tooth into MILK DUDS Candya d...       \n",
       "2           []        [A perfect Lentil soup starts with Goya Lentil...       \n",
       "3           []        [Saran Premium Wrap is an extra tough yet easy...       \n",
       "4           []        [200 sq ft (285 ft x 11-3/4 in x 18.6 m2). Eas...       \n",
       "...        ...   ...                                                ...  ..   \n",
       "10808       []        [These bars are where our journey started and ...       \n",
       "10809       []        [These bars are where our journey started and ...       \n",
       "10810       []        [These bars are where our journey started and ...       \n",
       "10811       []        [These bars are where our journey started and ...       \n",
       "10812       []        [Delicious, crowd pleasing and convenient it c...       \n",
       "\n",
       "                                                   title  \\\n",
       "0      HERSHEY'S Milk Duds Candy, 5 Ounce(Halloween C...   \n",
       "1      HERSHEY'S Milk Duds Candy, 5 Ounce(Halloween C...   \n",
       "2                                Goya Dry Lentils, 16 oz   \n",
       "3                  Saran Premium Plastic Wrap, 100 Sq Ft   \n",
       "4               Saran Cling Plus Plastic Wrap, 200 Sq Ft   \n",
       "...                                                  ...   \n",
       "10808  KIND Bars, Caramel Almond &amp; Sea Salt, Glut...   \n",
       "10809  KIND Bars, Maple Glazed Pecan &amp; Sea Salt, ...   \n",
       "10810  KIND Bars, Dark Chocolate Almond &amp; Coconut...   \n",
       "10811  KIND Bars, Honey Roasted Nuts &amp; Sea Salt, ...   \n",
       "10812                     Tostitos Salsa, Mild, 69 Ounce   \n",
       "\n",
       "                                                also_buy tech2      brand  \\\n",
       "0                               [B019KE37WO, B007NQSWEU]        Milk Duds   \n",
       "1                               [B019KE37WO, B007NQSWEU]        Milk Duds   \n",
       "2                               [B003SI144W, B000VDRKEK]             Goya   \n",
       "3      [B01MY5FHT6, B000PYF8VM, B000SRMDFA, B07CX6LN8...            Saran   \n",
       "4                                                     []            Saran   \n",
       "...                                                  ...   ...        ...   \n",
       "10808                                                 []             KIND   \n",
       "10809                                                 []             KIND   \n",
       "10810                                                 []             KIND   \n",
       "10811                                                 []             KIND   \n",
       "10812  [B00ID0EBP4, B00ID0EB1S, B00N0WZSOS, B00IAE65L...         Tostitos   \n",
       "\n",
       "      feature                                 rank  \\\n",
       "0          []                                   []   \n",
       "1          []                                   []   \n",
       "2          []                                   []   \n",
       "3          []                                   []   \n",
       "4          []                                   []   \n",
       "...       ...                                  ...   \n",
       "10808      []   26,259 in Grocery & Gourmet Food (   \n",
       "10809      []   16,822 in Grocery & Gourmet Food (   \n",
       "10810      []  107,057 in Grocery & Gourmet Food (   \n",
       "10811      []   24,648 in Grocery & Gourmet Food (   \n",
       "10812      []  259,965 in Grocery & Gourmet Food (   \n",
       "\n",
       "                                               also_view  \\\n",
       "0                                                     []   \n",
       "1                                                     []   \n",
       "2      [B074MFVZG7, B079PTH69L, B000VDRKEK, B074M9T81...   \n",
       "3      [B077QLSLRQ, B00JPKW1RQ, B000FE2IK6, B00XUJHJ9...   \n",
       "4                                           [B0014CZ0TE]   \n",
       "...                                                  ...   \n",
       "10808  [B00JQQAN60, B00JQQAWSY, B0111K7V54, B0111K8L9...   \n",
       "10809  [B0111K97JC, B00JQQAN60, B0111K8L9Y, B01HI7631...   \n",
       "10810  [B0111K7V54, B01HI76312, B00JQQAL0S, B0111K97J...   \n",
       "10811  [B00JQQAN60, B0111K7V54, B01HI76312, B0111K97J...   \n",
       "10812                                                 []   \n",
       "\n",
       "                                                 details  \\\n",
       "0      {'ASIN: ': 'B00005BPJO', 'Item model number:':...   \n",
       "1      {'ASIN: ': 'B00005BPJO', 'Item model number:':...   \n",
       "2                               {'ASIN: ': 'B0000DIF38'}   \n",
       "3      {'Domestic Shipping: ': 'This item can only be...   \n",
       "4      {'Domestic Shipping: ': 'This item can only be...   \n",
       "...                                                  ...   \n",
       "10808  {'ASIN: ': 'B01HI76312', 'Item model number:':...   \n",
       "10809                           {'ASIN: ': 'B01HI76790'}   \n",
       "10810                           {'ASIN: ': 'B01HI76SA8'}   \n",
       "10811                           {'ASIN: ': 'B01HI76XS0'}   \n",
       "10812                           {'ASIN: ': 'B01HI8JVI8'}   \n",
       "\n",
       "                                                main_cat similar_item date  \\\n",
       "0      <img src=\"https://m.media-amazon.com/images/G/...               NaT   \n",
       "1      <img src=\"https://m.media-amazon.com/images/G/...               NaT   \n",
       "2      <img src=\"https://images-na.ssl-images-amazon....               NaT   \n",
       "3      <img src=\"https://images-na.ssl-images-amazon....               NaT   \n",
       "4      <img src=\"https://images-na.ssl-images-amazon....               NaT   \n",
       "...                                                  ...          ...  ...   \n",
       "10808  <img src=\"https://images-na.ssl-images-amazon....               NaT   \n",
       "10809  <img src=\"https://images-na.ssl-images-amazon....               NaT   \n",
       "10810  <img src=\"https://images-na.ssl-images-amazon....               NaT   \n",
       "10811  <img src=\"https://images-na.ssl-images-amazon....               NaT   \n",
       "10812  <img src=\"https://images-na.ssl-images-amazon....               NaT   \n",
       "\n",
       "       price        asin                                           imageURL  \\\n",
       "0      $5.00  B00005BPJO  [https://images-na.ssl-images-amazon.com/image...   \n",
       "1      $5.00  B00005BPJO  [https://images-na.ssl-images-amazon.com/image...   \n",
       "2             B0000DIF38  [https://images-na.ssl-images-amazon.com/image...   \n",
       "3             B0000DIWNI  [https://images-na.ssl-images-amazon.com/image...   \n",
       "4             B0000DIWNZ  [https://images-na.ssl-images-amazon.com/image...   \n",
       "...      ...         ...                                                ...   \n",
       "10808  $3.98  B01HI76312  [https://images-na.ssl-images-amazon.com/image...   \n",
       "10809  $5.81  B01HI76790  [https://images-na.ssl-images-amazon.com/image...   \n",
       "10810  $4.98  B01HI76SA8                                                 []   \n",
       "10811  $5.81  B01HI76XS0  [https://images-na.ssl-images-amazon.com/image...   \n",
       "10812  $6.82  B01HI8JVI8                                                 []   \n",
       "\n",
       "                                         imageURLHighRes  \n",
       "0      [https://images-na.ssl-images-amazon.com/image...  \n",
       "1      [https://images-na.ssl-images-amazon.com/image...  \n",
       "2      [https://images-na.ssl-images-amazon.com/image...  \n",
       "3      [https://images-na.ssl-images-amazon.com/image...  \n",
       "4      [https://images-na.ssl-images-amazon.com/image...  \n",
       "...                                                  ...  \n",
       "10808  [https://images-na.ssl-images-amazon.com/image...  \n",
       "10809  [https://images-na.ssl-images-amazon.com/image...  \n",
       "10810                                                 []  \n",
       "10811  [https://images-na.ssl-images-amazon.com/image...  \n",
       "10812                                                 []  \n",
       "\n",
       "[10813 rows x 19 columns]"
      ]
     },
     "execution_count": 11,
     "metadata": {},
     "output_type": "execute_result"
    }
   ],
   "source": [
    "pantry_meta_df = pd.read_json('raw_data/meta_Prime_Pantry.json.gz', lines=True, compression='infer')\n",
    "pantry_meta_df"
   ]
  },
  {
   "cell_type": "code",
   "execution_count": 12,
   "id": "3693ebd8",
   "metadata": {},
   "outputs": [
    {
     "data": {
      "text/html": [
       "<div>\n",
       "<style scoped>\n",
       "    .dataframe tbody tr th:only-of-type {\n",
       "        vertical-align: middle;\n",
       "    }\n",
       "\n",
       "    .dataframe tbody tr th {\n",
       "        vertical-align: top;\n",
       "    }\n",
       "\n",
       "    .dataframe thead th {\n",
       "        text-align: right;\n",
       "    }\n",
       "</style>\n",
       "<table border=\"1\" class=\"dataframe\">\n",
       "  <thead>\n",
       "    <tr style=\"text-align: right;\">\n",
       "      <th></th>\n",
       "      <th>category</th>\n",
       "      <th>tech1</th>\n",
       "      <th>description</th>\n",
       "      <th>fit</th>\n",
       "      <th>title</th>\n",
       "      <th>also_buy</th>\n",
       "      <th>tech2</th>\n",
       "      <th>brand</th>\n",
       "      <th>feature</th>\n",
       "      <th>rank</th>\n",
       "      <th>also_view</th>\n",
       "      <th>details</th>\n",
       "      <th>main_cat</th>\n",
       "      <th>similar_item</th>\n",
       "      <th>date</th>\n",
       "      <th>price</th>\n",
       "      <th>asin</th>\n",
       "      <th>imageURL</th>\n",
       "      <th>imageURLHighRes</th>\n",
       "    </tr>\n",
       "  </thead>\n",
       "  <tbody>\n",
       "    <tr>\n",
       "      <th>count</th>\n",
       "      <td>10813</td>\n",
       "      <td>10813</td>\n",
       "      <td>10813</td>\n",
       "      <td>10813</td>\n",
       "      <td>10813</td>\n",
       "      <td>10813</td>\n",
       "      <td>10813</td>\n",
       "      <td>10813</td>\n",
       "      <td>10813</td>\n",
       "      <td>10813</td>\n",
       "      <td>10813</td>\n",
       "      <td>10813</td>\n",
       "      <td>10813</td>\n",
       "      <td>10813</td>\n",
       "      <td>0</td>\n",
       "      <td>10813</td>\n",
       "      <td>10813</td>\n",
       "      <td>10813</td>\n",
       "      <td>10813</td>\n",
       "    </tr>\n",
       "    <tr>\n",
       "      <th>unique</th>\n",
       "      <td>1</td>\n",
       "      <td>1</td>\n",
       "      <td>9409</td>\n",
       "      <td>1</td>\n",
       "      <td>10782</td>\n",
       "      <td>3957</td>\n",
       "      <td>1</td>\n",
       "      <td>1960</td>\n",
       "      <td>763</td>\n",
       "      <td>4828</td>\n",
       "      <td>5940</td>\n",
       "      <td>10786</td>\n",
       "      <td>4</td>\n",
       "      <td>1</td>\n",
       "      <td>0</td>\n",
       "      <td>1482</td>\n",
       "      <td>10812</td>\n",
       "      <td>8940</td>\n",
       "      <td>8940</td>\n",
       "    </tr>\n",
       "    <tr>\n",
       "      <th>top</th>\n",
       "      <td>[]</td>\n",
       "      <td></td>\n",
       "      <td>[]</td>\n",
       "      <td></td>\n",
       "      <td>Deo Pure Antiperspirant Roll-On by Biotherm, 2...</td>\n",
       "      <td>[]</td>\n",
       "      <td></td>\n",
       "      <td>L'Oreal Paris</td>\n",
       "      <td>[]</td>\n",
       "      <td>[]</td>\n",
       "      <td>[]</td>\n",
       "      <td>{}</td>\n",
       "      <td>&lt;img src=\"https://images-na.ssl-images-amazon....</td>\n",
       "      <td></td>\n",
       "      <td>NaN</td>\n",
       "      <td></td>\n",
       "      <td>B00005BPJO</td>\n",
       "      <td>[]</td>\n",
       "      <td>[]</td>\n",
       "    </tr>\n",
       "    <tr>\n",
       "      <th>freq</th>\n",
       "      <td>10813</td>\n",
       "      <td>10813</td>\n",
       "      <td>98</td>\n",
       "      <td>10813</td>\n",
       "      <td>2</td>\n",
       "      <td>6754</td>\n",
       "      <td>10813</td>\n",
       "      <td>171</td>\n",
       "      <td>9777</td>\n",
       "      <td>5937</td>\n",
       "      <td>4835</td>\n",
       "      <td>24</td>\n",
       "      <td>10621</td>\n",
       "      <td>10813</td>\n",
       "      <td>NaN</td>\n",
       "      <td>4063</td>\n",
       "      <td>2</td>\n",
       "      <td>1781</td>\n",
       "      <td>1781</td>\n",
       "    </tr>\n",
       "  </tbody>\n",
       "</table>\n",
       "</div>"
      ],
      "text/plain": [
       "       category  tech1 description    fit  \\\n",
       "count     10813  10813       10813  10813   \n",
       "unique        1      1        9409      1   \n",
       "top          []                 []          \n",
       "freq      10813  10813          98  10813   \n",
       "\n",
       "                                                    title also_buy  tech2  \\\n",
       "count                                               10813    10813  10813   \n",
       "unique                                              10782     3957      1   \n",
       "top     Deo Pure Antiperspirant Roll-On by Biotherm, 2...       []          \n",
       "freq                                                    2     6754  10813   \n",
       "\n",
       "                brand feature   rank also_view details  \\\n",
       "count           10813   10813  10813     10813   10813   \n",
       "unique           1960     763   4828      5940   10786   \n",
       "top     L'Oreal Paris      []     []        []      {}   \n",
       "freq              171    9777   5937      4835      24   \n",
       "\n",
       "                                                 main_cat similar_item date  \\\n",
       "count                                               10813        10813    0   \n",
       "unique                                                  4            1    0   \n",
       "top     <img src=\"https://images-na.ssl-images-amazon....               NaN   \n",
       "freq                                                10621        10813  NaN   \n",
       "\n",
       "        price        asin imageURL imageURLHighRes  \n",
       "count   10813       10813    10813           10813  \n",
       "unique   1482       10812     8940            8940  \n",
       "top            B00005BPJO       []              []  \n",
       "freq     4063           2     1781            1781  "
      ]
     },
     "execution_count": 12,
     "metadata": {},
     "output_type": "execute_result"
    }
   ],
   "source": [
    "pantry_meta_df.describe()"
   ]
  },
  {
   "cell_type": "markdown",
   "id": "6c067198",
   "metadata": {},
   "source": [
    "So what can we learn from this information? First, there are over 10K products represented in the metadata file. Most of the columns will be of little value to us for Personalize since they aren't relevant as features (image URLs, `details`, `also_viewed`, `also_buy`, etc) or are mostly blank/sparse (`category`, `fit`, `tech1`, etc). The `asin` column is our unique identifier for each item (although there looks to be one duplicate) and `brand` and `price` look like they may be useful. The `description` column is what we will use for unstructured text.\n",
    "\n",
    "However, we have to do some cleanup and reformatting of the fields we want to use in our items dataset. For example, the `price` field is a formatted currency value (string) and not numeric and the `description` field was loaded as an array of strings due to how they values were represented and parsed from the original JSON file. Lastly, the `description` values also contain HTML markup that needs to stripped.\n",
    "\n",
    "Let's start by creating a dataframe with just the columns we need for the items dataset."
   ]
  },
  {
   "cell_type": "code",
   "execution_count": 13,
   "id": "351123cd",
   "metadata": {},
   "outputs": [
    {
     "data": {
      "text/html": [
       "<div>\n",
       "<style scoped>\n",
       "    .dataframe tbody tr th:only-of-type {\n",
       "        vertical-align: middle;\n",
       "    }\n",
       "\n",
       "    .dataframe tbody tr th {\n",
       "        vertical-align: top;\n",
       "    }\n",
       "\n",
       "    .dataframe thead th {\n",
       "        text-align: right;\n",
       "    }\n",
       "</style>\n",
       "<table border=\"1\" class=\"dataframe\">\n",
       "  <thead>\n",
       "    <tr style=\"text-align: right;\">\n",
       "      <th></th>\n",
       "      <th>asin</th>\n",
       "      <th>brand</th>\n",
       "      <th>price</th>\n",
       "      <th>description</th>\n",
       "    </tr>\n",
       "  </thead>\n",
       "  <tbody>\n",
       "    <tr>\n",
       "      <th>0</th>\n",
       "      <td>B00005BPJO</td>\n",
       "      <td>Milk Duds</td>\n",
       "      <td>$5.00</td>\n",
       "      <td>[Sink your sweet tooth into MILK DUDS Candya d...</td>\n",
       "    </tr>\n",
       "    <tr>\n",
       "      <th>1</th>\n",
       "      <td>B00005BPJO</td>\n",
       "      <td>Milk Duds</td>\n",
       "      <td>$5.00</td>\n",
       "      <td>[Sink your sweet tooth into MILK DUDS Candya d...</td>\n",
       "    </tr>\n",
       "    <tr>\n",
       "      <th>2</th>\n",
       "      <td>B0000DIF38</td>\n",
       "      <td>Goya</td>\n",
       "      <td></td>\n",
       "      <td>[A perfect Lentil soup starts with Goya Lentil...</td>\n",
       "    </tr>\n",
       "    <tr>\n",
       "      <th>3</th>\n",
       "      <td>B0000DIWNI</td>\n",
       "      <td>Saran</td>\n",
       "      <td></td>\n",
       "      <td>[Saran Premium Wrap is an extra tough yet easy...</td>\n",
       "    </tr>\n",
       "    <tr>\n",
       "      <th>4</th>\n",
       "      <td>B0000DIWNZ</td>\n",
       "      <td>Saran</td>\n",
       "      <td></td>\n",
       "      <td>[200 sq ft (285 ft x 11-3/4 in x 18.6 m2). Eas...</td>\n",
       "    </tr>\n",
       "    <tr>\n",
       "      <th>5</th>\n",
       "      <td>B0000GH6UG</td>\n",
       "      <td>Ibarra</td>\n",
       "      <td></td>\n",
       "      <td>[Ibarra Chocolate, 19 Oz, , ]</td>\n",
       "    </tr>\n",
       "    <tr>\n",
       "      <th>6</th>\n",
       "      <td>B0000KC2BK</td>\n",
       "      <td>Knorr</td>\n",
       "      <td>$3.09</td>\n",
       "      <td>[Knorr Granulated Chicken Flavor Bouillon is a...</td>\n",
       "    </tr>\n",
       "    <tr>\n",
       "      <th>7</th>\n",
       "      <td>B0001E1IN8</td>\n",
       "      <td>Castillo</td>\n",
       "      <td></td>\n",
       "      <td>[Red chili habanero sauces. They are present t...</td>\n",
       "    </tr>\n",
       "    <tr>\n",
       "      <th>8</th>\n",
       "      <td>B00032E8XK</td>\n",
       "      <td>Chicken of the Sea</td>\n",
       "      <td>$1.48</td>\n",
       "      <td>[Chicken of the Sea Solid White Albacore Tuna ...</td>\n",
       "    </tr>\n",
       "    <tr>\n",
       "      <th>9</th>\n",
       "      <td>B0005XMTHE</td>\n",
       "      <td>Smucker's</td>\n",
       "      <td>$2.29</td>\n",
       "      <td>[Helps build muscles with bcaa's amino acids, ...</td>\n",
       "    </tr>\n",
       "  </tbody>\n",
       "</table>\n",
       "</div>"
      ],
      "text/plain": [
       "         asin               brand  price  \\\n",
       "0  B00005BPJO           Milk Duds  $5.00   \n",
       "1  B00005BPJO           Milk Duds  $5.00   \n",
       "2  B0000DIF38                Goya          \n",
       "3  B0000DIWNI               Saran          \n",
       "4  B0000DIWNZ               Saran          \n",
       "5  B0000GH6UG              Ibarra          \n",
       "6  B0000KC2BK               Knorr  $3.09   \n",
       "7  B0001E1IN8            Castillo          \n",
       "8  B00032E8XK  Chicken of the Sea  $1.48   \n",
       "9  B0005XMTHE           Smucker's  $2.29   \n",
       "\n",
       "                                         description  \n",
       "0  [Sink your sweet tooth into MILK DUDS Candya d...  \n",
       "1  [Sink your sweet tooth into MILK DUDS Candya d...  \n",
       "2  [A perfect Lentil soup starts with Goya Lentil...  \n",
       "3  [Saran Premium Wrap is an extra tough yet easy...  \n",
       "4  [200 sq ft (285 ft x 11-3/4 in x 18.6 m2). Eas...  \n",
       "5                      [Ibarra Chocolate, 19 Oz, , ]  \n",
       "6  [Knorr Granulated Chicken Flavor Bouillon is a...  \n",
       "7  [Red chili habanero sauces. They are present t...  \n",
       "8  [Chicken of the Sea Solid White Albacore Tuna ...  \n",
       "9  [Helps build muscles with bcaa's amino acids, ...  "
      ]
     },
     "execution_count": 13,
     "metadata": {},
     "output_type": "execute_result"
    }
   ],
   "source": [
    "items_df = pantry_meta_df.copy()\n",
    "items_df = items_df[['asin', 'brand', 'price', 'description']]\n",
    "items_df.head(10)"
   ]
  },
  {
   "cell_type": "markdown",
   "id": "f833f323",
   "metadata": {},
   "source": [
    "Next let's drop duplicate rows based on the `asin` column value. There should only be one duplicate based on the `describe()` output above."
   ]
  },
  {
   "cell_type": "code",
   "execution_count": 14,
   "id": "6f794b00",
   "metadata": {},
   "outputs": [
    {
     "data": {
      "text/plain": [
       "(10812, 4)"
      ]
     },
     "execution_count": 14,
     "metadata": {},
     "output_type": "execute_result"
    }
   ],
   "source": [
    "items_df = items_df.drop_duplicates(subset=['asin'], keep='last')\n",
    "items_df.shape"
   ]
  },
  {
   "cell_type": "markdown",
   "id": "dc46efc8",
   "metadata": {},
   "source": [
    "Next let's focus on reformatting and cleaning up the `description` column values. As you can see above, the `description` is currently represented as an array of strings (because that's how it is represented in the JSON file). We need to flatten this array into a single string and strip all HTML markup from each fragment.\n",
    "\n",
    "We'll start by creating two utility functions that will be used to clean the `description` (and later the `title` column in the original dataset when we want to display titles for recommended products)."
   ]
  },
  {
   "cell_type": "code",
   "execution_count": 15,
   "id": "a45aa8f3",
   "metadata": {},
   "outputs": [],
   "source": [
    "# Strips and cleans a value of HTML markup and whitespace.\n",
    "def clean_markup(value):\n",
    "    s = str(value).strip()\n",
    "    if s != '':\n",
    "        s = str(html.fromstring(s).text_content())\n",
    "        s = ' '.join(s.split())\n",
    "                \n",
    "    return s.strip()\n",
    "\n",
    "# Cleans and reformats the description column value for a dataframe row.\n",
    "def clean_and_reformat_description(row):\n",
    "    s = ''\n",
    "    for el in row['description']:\n",
    "        el = clean_markup(el)\n",
    "        if el != '':\n",
    "            s += ' ' + el\n",
    "                \n",
    "    return s.strip()"
   ]
  },
  {
   "cell_type": "code",
   "execution_count": 16,
   "id": "348dcda4",
   "metadata": {},
   "outputs": [
    {
     "data": {
      "text/html": [
       "<div>\n",
       "<style scoped>\n",
       "    .dataframe tbody tr th:only-of-type {\n",
       "        vertical-align: middle;\n",
       "    }\n",
       "\n",
       "    .dataframe tbody tr th {\n",
       "        vertical-align: top;\n",
       "    }\n",
       "\n",
       "    .dataframe thead th {\n",
       "        text-align: right;\n",
       "    }\n",
       "</style>\n",
       "<table border=\"1\" class=\"dataframe\">\n",
       "  <thead>\n",
       "    <tr style=\"text-align: right;\">\n",
       "      <th></th>\n",
       "      <th>asin</th>\n",
       "      <th>brand</th>\n",
       "      <th>price</th>\n",
       "      <th>description</th>\n",
       "    </tr>\n",
       "  </thead>\n",
       "  <tbody>\n",
       "    <tr>\n",
       "      <th>1</th>\n",
       "      <td>B00005BPJO</td>\n",
       "      <td>Milk Duds</td>\n",
       "      <td>$5.00</td>\n",
       "      <td>Sink your sweet tooth into MILK DUDS Candya de...</td>\n",
       "    </tr>\n",
       "    <tr>\n",
       "      <th>2</th>\n",
       "      <td>B0000DIF38</td>\n",
       "      <td>Goya</td>\n",
       "      <td></td>\n",
       "      <td>A perfect Lentil soup starts with Goya Lentils...</td>\n",
       "    </tr>\n",
       "    <tr>\n",
       "      <th>3</th>\n",
       "      <td>B0000DIWNI</td>\n",
       "      <td>Saran</td>\n",
       "      <td></td>\n",
       "      <td>Saran Premium Wrap is an extra tough yet easy ...</td>\n",
       "    </tr>\n",
       "    <tr>\n",
       "      <th>4</th>\n",
       "      <td>B0000DIWNZ</td>\n",
       "      <td>Saran</td>\n",
       "      <td></td>\n",
       "      <td>200 sq ft (285 ft x 11-3/4 in x 18.6 m2). Easy...</td>\n",
       "    </tr>\n",
       "    <tr>\n",
       "      <th>5</th>\n",
       "      <td>B0000GH6UG</td>\n",
       "      <td>Ibarra</td>\n",
       "      <td></td>\n",
       "      <td>Ibarra Chocolate, 19 Oz</td>\n",
       "    </tr>\n",
       "    <tr>\n",
       "      <th>...</th>\n",
       "      <td>...</td>\n",
       "      <td>...</td>\n",
       "      <td>...</td>\n",
       "      <td>...</td>\n",
       "    </tr>\n",
       "    <tr>\n",
       "      <th>10808</th>\n",
       "      <td>B01HI76312</td>\n",
       "      <td>KIND</td>\n",
       "      <td>$3.98</td>\n",
       "      <td>These bars are where our journey started and i...</td>\n",
       "    </tr>\n",
       "    <tr>\n",
       "      <th>10809</th>\n",
       "      <td>B01HI76790</td>\n",
       "      <td>KIND</td>\n",
       "      <td>$5.81</td>\n",
       "      <td>These bars are where our journey started and i...</td>\n",
       "    </tr>\n",
       "    <tr>\n",
       "      <th>10810</th>\n",
       "      <td>B01HI76SA8</td>\n",
       "      <td>KIND</td>\n",
       "      <td>$4.98</td>\n",
       "      <td>These bars are where our journey started and i...</td>\n",
       "    </tr>\n",
       "    <tr>\n",
       "      <th>10811</th>\n",
       "      <td>B01HI76XS0</td>\n",
       "      <td>KIND</td>\n",
       "      <td>$5.81</td>\n",
       "      <td>These bars are where our journey started and i...</td>\n",
       "    </tr>\n",
       "    <tr>\n",
       "      <th>10812</th>\n",
       "      <td>B01HI8JVI8</td>\n",
       "      <td>Tostitos</td>\n",
       "      <td>$6.82</td>\n",
       "      <td>Delicious, crowd pleasing and convenient it ca...</td>\n",
       "    </tr>\n",
       "  </tbody>\n",
       "</table>\n",
       "<p>10812 rows × 4 columns</p>\n",
       "</div>"
      ],
      "text/plain": [
       "             asin      brand  price  \\\n",
       "1      B00005BPJO  Milk Duds  $5.00   \n",
       "2      B0000DIF38       Goya          \n",
       "3      B0000DIWNI      Saran          \n",
       "4      B0000DIWNZ      Saran          \n",
       "5      B0000GH6UG     Ibarra          \n",
       "...           ...        ...    ...   \n",
       "10808  B01HI76312       KIND  $3.98   \n",
       "10809  B01HI76790       KIND  $5.81   \n",
       "10810  B01HI76SA8       KIND  $4.98   \n",
       "10811  B01HI76XS0       KIND  $5.81   \n",
       "10812  B01HI8JVI8   Tostitos  $6.82   \n",
       "\n",
       "                                             description  \n",
       "1      Sink your sweet tooth into MILK DUDS Candya de...  \n",
       "2      A perfect Lentil soup starts with Goya Lentils...  \n",
       "3      Saran Premium Wrap is an extra tough yet easy ...  \n",
       "4      200 sq ft (285 ft x 11-3/4 in x 18.6 m2). Easy...  \n",
       "5                                Ibarra Chocolate, 19 Oz  \n",
       "...                                                  ...  \n",
       "10808  These bars are where our journey started and i...  \n",
       "10809  These bars are where our journey started and i...  \n",
       "10810  These bars are where our journey started and i...  \n",
       "10811  These bars are where our journey started and i...  \n",
       "10812  Delicious, crowd pleasing and convenient it ca...  \n",
       "\n",
       "[10812 rows x 4 columns]"
      ]
     },
     "execution_count": 16,
     "metadata": {},
     "output_type": "execute_result"
    }
   ],
   "source": [
    "items_df['description'] = items_df.apply(clean_and_reformat_description, axis=1)\n",
    "items_df"
   ]
  },
  {
   "cell_type": "markdown",
   "id": "c17e504e",
   "metadata": {},
   "source": [
    "Next let's take a look at the `price` column and change its type from a string to a float."
   ]
  },
  {
   "cell_type": "code",
   "execution_count": 17,
   "id": "1705b91b",
   "metadata": {},
   "outputs": [
    {
     "data": {
      "text/plain": [
       "          4063\n",
       "$2.99      114\n",
       "$3.99      113\n",
       "$4.99      103\n",
       "$5.99       87\n",
       "          ... \n",
       "$15.03       1\n",
       "$8.80        1\n",
       "$22.68       1\n",
       "$24.00       1\n",
       "$22.92       1\n",
       "Name: price, Length: 1482, dtype: int64"
      ]
     },
     "execution_count": 17,
     "metadata": {},
     "output_type": "execute_result"
    }
   ],
   "source": [
    "items_df['price'].value_counts()"
   ]
  },
  {
   "cell_type": "markdown",
   "id": "c8bcfbcc",
   "metadata": {},
   "source": [
    "The following cell with convert empty/non-numeric prices to `np.nan` and all others will have the `$` currency symbol removed. This will allow us to coerce the type to a float."
   ]
  },
  {
   "cell_type": "code",
   "execution_count": 18,
   "id": "d715a641",
   "metadata": {},
   "outputs": [
    {
     "data": {
      "text/html": [
       "<div>\n",
       "<style scoped>\n",
       "    .dataframe tbody tr th:only-of-type {\n",
       "        vertical-align: middle;\n",
       "    }\n",
       "\n",
       "    .dataframe tbody tr th {\n",
       "        vertical-align: top;\n",
       "    }\n",
       "\n",
       "    .dataframe thead th {\n",
       "        text-align: right;\n",
       "    }\n",
       "</style>\n",
       "<table border=\"1\" class=\"dataframe\">\n",
       "  <thead>\n",
       "    <tr style=\"text-align: right;\">\n",
       "      <th></th>\n",
       "      <th>asin</th>\n",
       "      <th>brand</th>\n",
       "      <th>price</th>\n",
       "      <th>description</th>\n",
       "    </tr>\n",
       "  </thead>\n",
       "  <tbody>\n",
       "    <tr>\n",
       "      <th>1</th>\n",
       "      <td>B00005BPJO</td>\n",
       "      <td>Milk Duds</td>\n",
       "      <td>5.00</td>\n",
       "      <td>Sink your sweet tooth into MILK DUDS Candya de...</td>\n",
       "    </tr>\n",
       "    <tr>\n",
       "      <th>2</th>\n",
       "      <td>B0000DIF38</td>\n",
       "      <td>Goya</td>\n",
       "      <td>NaN</td>\n",
       "      <td>A perfect Lentil soup starts with Goya Lentils...</td>\n",
       "    </tr>\n",
       "    <tr>\n",
       "      <th>3</th>\n",
       "      <td>B0000DIWNI</td>\n",
       "      <td>Saran</td>\n",
       "      <td>NaN</td>\n",
       "      <td>Saran Premium Wrap is an extra tough yet easy ...</td>\n",
       "    </tr>\n",
       "    <tr>\n",
       "      <th>4</th>\n",
       "      <td>B0000DIWNZ</td>\n",
       "      <td>Saran</td>\n",
       "      <td>NaN</td>\n",
       "      <td>200 sq ft (285 ft x 11-3/4 in x 18.6 m2). Easy...</td>\n",
       "    </tr>\n",
       "    <tr>\n",
       "      <th>5</th>\n",
       "      <td>B0000GH6UG</td>\n",
       "      <td>Ibarra</td>\n",
       "      <td>NaN</td>\n",
       "      <td>Ibarra Chocolate, 19 Oz</td>\n",
       "    </tr>\n",
       "    <tr>\n",
       "      <th>...</th>\n",
       "      <td>...</td>\n",
       "      <td>...</td>\n",
       "      <td>...</td>\n",
       "      <td>...</td>\n",
       "    </tr>\n",
       "    <tr>\n",
       "      <th>10808</th>\n",
       "      <td>B01HI76312</td>\n",
       "      <td>KIND</td>\n",
       "      <td>3.98</td>\n",
       "      <td>These bars are where our journey started and i...</td>\n",
       "    </tr>\n",
       "    <tr>\n",
       "      <th>10809</th>\n",
       "      <td>B01HI76790</td>\n",
       "      <td>KIND</td>\n",
       "      <td>5.81</td>\n",
       "      <td>These bars are where our journey started and i...</td>\n",
       "    </tr>\n",
       "    <tr>\n",
       "      <th>10810</th>\n",
       "      <td>B01HI76SA8</td>\n",
       "      <td>KIND</td>\n",
       "      <td>4.98</td>\n",
       "      <td>These bars are where our journey started and i...</td>\n",
       "    </tr>\n",
       "    <tr>\n",
       "      <th>10811</th>\n",
       "      <td>B01HI76XS0</td>\n",
       "      <td>KIND</td>\n",
       "      <td>5.81</td>\n",
       "      <td>These bars are where our journey started and i...</td>\n",
       "    </tr>\n",
       "    <tr>\n",
       "      <th>10812</th>\n",
       "      <td>B01HI8JVI8</td>\n",
       "      <td>Tostitos</td>\n",
       "      <td>6.82</td>\n",
       "      <td>Delicious, crowd pleasing and convenient it ca...</td>\n",
       "    </tr>\n",
       "  </tbody>\n",
       "</table>\n",
       "<p>10812 rows × 4 columns</p>\n",
       "</div>"
      ],
      "text/plain": [
       "             asin      brand price  \\\n",
       "1      B00005BPJO  Milk Duds  5.00   \n",
       "2      B0000DIF38       Goya   NaN   \n",
       "3      B0000DIWNI      Saran   NaN   \n",
       "4      B0000DIWNZ      Saran   NaN   \n",
       "5      B0000GH6UG     Ibarra   NaN   \n",
       "...           ...        ...   ...   \n",
       "10808  B01HI76312       KIND  3.98   \n",
       "10809  B01HI76790       KIND  5.81   \n",
       "10810  B01HI76SA8       KIND  4.98   \n",
       "10811  B01HI76XS0       KIND  5.81   \n",
       "10812  B01HI8JVI8   Tostitos  6.82   \n",
       "\n",
       "                                             description  \n",
       "1      Sink your sweet tooth into MILK DUDS Candya de...  \n",
       "2      A perfect Lentil soup starts with Goya Lentils...  \n",
       "3      Saran Premium Wrap is an extra tough yet easy ...  \n",
       "4      200 sq ft (285 ft x 11-3/4 in x 18.6 m2). Easy...  \n",
       "5                                Ibarra Chocolate, 19 Oz  \n",
       "...                                                  ...  \n",
       "10808  These bars are where our journey started and i...  \n",
       "10809  These bars are where our journey started and i...  \n",
       "10810  These bars are where our journey started and i...  \n",
       "10811  These bars are where our journey started and i...  \n",
       "10812  Delicious, crowd pleasing and convenient it ca...  \n",
       "\n",
       "[10812 rows x 4 columns]"
      ]
     },
     "execution_count": 18,
     "metadata": {},
     "output_type": "execute_result"
    }
   ],
   "source": [
    "def convert_price(row):\n",
    "    v = str(row['price']).strip().replace('$', '')\n",
    "    if v == '' or not v.lstrip('-').replace('.', '').isdigit():\n",
    "        return np.nan\n",
    "    return v\n",
    "\n",
    "items_df['price'] = items_df.apply(convert_price, axis=1)\n",
    "items_df"
   ]
  },
  {
   "cell_type": "code",
   "execution_count": 19,
   "id": "72bca69d",
   "metadata": {},
   "outputs": [
    {
     "data": {
      "text/plain": [
       "2.99     114\n",
       "3.99     113\n",
       "4.99     103\n",
       "5.99      87\n",
       "2.98      76\n",
       "        ... \n",
       "9.80       1\n",
       "31.69      1\n",
       "29.85      1\n",
       "14.22      1\n",
       "32.88      1\n",
       "Name: price, Length: 1480, dtype: int64"
      ]
     },
     "execution_count": 19,
     "metadata": {},
     "output_type": "execute_result"
    }
   ],
   "source": [
    "items_df['price'].value_counts()"
   ]
  },
  {
   "cell_type": "code",
   "execution_count": 20,
   "id": "426a65ae",
   "metadata": {},
   "outputs": [],
   "source": [
    "items_df['price'] = items_df['price'].astype(float)"
   ]
  },
  {
   "cell_type": "markdown",
   "id": "f39a6e8a",
   "metadata": {},
   "source": [
    "Next we'll rename the columns to match the names and uppercase name format expected by Personalize."
   ]
  },
  {
   "cell_type": "code",
   "execution_count": 21,
   "id": "90be07a3",
   "metadata": {},
   "outputs": [
    {
     "data": {
      "text/html": [
       "<div>\n",
       "<style scoped>\n",
       "    .dataframe tbody tr th:only-of-type {\n",
       "        vertical-align: middle;\n",
       "    }\n",
       "\n",
       "    .dataframe tbody tr th {\n",
       "        vertical-align: top;\n",
       "    }\n",
       "\n",
       "    .dataframe thead th {\n",
       "        text-align: right;\n",
       "    }\n",
       "</style>\n",
       "<table border=\"1\" class=\"dataframe\">\n",
       "  <thead>\n",
       "    <tr style=\"text-align: right;\">\n",
       "      <th></th>\n",
       "      <th>ITEM_ID</th>\n",
       "      <th>BRAND</th>\n",
       "      <th>PRICE</th>\n",
       "      <th>DESCRIPTION</th>\n",
       "    </tr>\n",
       "  </thead>\n",
       "  <tbody>\n",
       "    <tr>\n",
       "      <th>1</th>\n",
       "      <td>B00005BPJO</td>\n",
       "      <td>Milk Duds</td>\n",
       "      <td>5.00</td>\n",
       "      <td>Sink your sweet tooth into MILK DUDS Candya de...</td>\n",
       "    </tr>\n",
       "    <tr>\n",
       "      <th>2</th>\n",
       "      <td>B0000DIF38</td>\n",
       "      <td>Goya</td>\n",
       "      <td>NaN</td>\n",
       "      <td>A perfect Lentil soup starts with Goya Lentils...</td>\n",
       "    </tr>\n",
       "    <tr>\n",
       "      <th>3</th>\n",
       "      <td>B0000DIWNI</td>\n",
       "      <td>Saran</td>\n",
       "      <td>NaN</td>\n",
       "      <td>Saran Premium Wrap is an extra tough yet easy ...</td>\n",
       "    </tr>\n",
       "    <tr>\n",
       "      <th>4</th>\n",
       "      <td>B0000DIWNZ</td>\n",
       "      <td>Saran</td>\n",
       "      <td>NaN</td>\n",
       "      <td>200 sq ft (285 ft x 11-3/4 in x 18.6 m2). Easy...</td>\n",
       "    </tr>\n",
       "    <tr>\n",
       "      <th>5</th>\n",
       "      <td>B0000GH6UG</td>\n",
       "      <td>Ibarra</td>\n",
       "      <td>NaN</td>\n",
       "      <td>Ibarra Chocolate, 19 Oz</td>\n",
       "    </tr>\n",
       "    <tr>\n",
       "      <th>6</th>\n",
       "      <td>B0000KC2BK</td>\n",
       "      <td>Knorr</td>\n",
       "      <td>3.09</td>\n",
       "      <td>Knorr Granulated Chicken Flavor Bouillon is a ...</td>\n",
       "    </tr>\n",
       "    <tr>\n",
       "      <th>7</th>\n",
       "      <td>B0001E1IN8</td>\n",
       "      <td>Castillo</td>\n",
       "      <td>NaN</td>\n",
       "      <td>Red chili habanero sauces. They are present to...</td>\n",
       "    </tr>\n",
       "    <tr>\n",
       "      <th>8</th>\n",
       "      <td>B00032E8XK</td>\n",
       "      <td>Chicken of the Sea</td>\n",
       "      <td>1.48</td>\n",
       "      <td>Chicken of the Sea Solid White Albacore Tuna i...</td>\n",
       "    </tr>\n",
       "    <tr>\n",
       "      <th>9</th>\n",
       "      <td>B0005XMTHE</td>\n",
       "      <td>Smucker's</td>\n",
       "      <td>2.29</td>\n",
       "      <td>Helps build muscles with bcaa's amino acids, i...</td>\n",
       "    </tr>\n",
       "    <tr>\n",
       "      <th>10</th>\n",
       "      <td>B0005XNE6E</td>\n",
       "      <td>Snapple</td>\n",
       "      <td>1.99</td>\n",
       "      <td>At Snapple, we believe lifes a peach. Weve bee...</td>\n",
       "    </tr>\n",
       "  </tbody>\n",
       "</table>\n",
       "</div>"
      ],
      "text/plain": [
       "       ITEM_ID               BRAND  PRICE  \\\n",
       "1   B00005BPJO           Milk Duds   5.00   \n",
       "2   B0000DIF38                Goya    NaN   \n",
       "3   B0000DIWNI               Saran    NaN   \n",
       "4   B0000DIWNZ               Saran    NaN   \n",
       "5   B0000GH6UG              Ibarra    NaN   \n",
       "6   B0000KC2BK               Knorr   3.09   \n",
       "7   B0001E1IN8            Castillo    NaN   \n",
       "8   B00032E8XK  Chicken of the Sea   1.48   \n",
       "9   B0005XMTHE           Smucker's   2.29   \n",
       "10  B0005XNE6E             Snapple   1.99   \n",
       "\n",
       "                                          DESCRIPTION  \n",
       "1   Sink your sweet tooth into MILK DUDS Candya de...  \n",
       "2   A perfect Lentil soup starts with Goya Lentils...  \n",
       "3   Saran Premium Wrap is an extra tough yet easy ...  \n",
       "4   200 sq ft (285 ft x 11-3/4 in x 18.6 m2). Easy...  \n",
       "5                             Ibarra Chocolate, 19 Oz  \n",
       "6   Knorr Granulated Chicken Flavor Bouillon is a ...  \n",
       "7   Red chili habanero sauces. They are present to...  \n",
       "8   Chicken of the Sea Solid White Albacore Tuna i...  \n",
       "9   Helps build muscles with bcaa's amino acids, i...  \n",
       "10  At Snapple, we believe lifes a peach. Weve bee...  "
      ]
     },
     "execution_count": 21,
     "metadata": {},
     "output_type": "execute_result"
    }
   ],
   "source": [
    "items_df.rename(columns = {'asin':'ITEM_ID', 'brand':'BRAND', \n",
    "                              'price':'PRICE', 'description': 'DESCRIPTION'}, inplace = True)\n",
    "items_df.head(10)"
   ]
  },
  {
   "cell_type": "markdown",
   "id": "d2950515",
   "metadata": {},
   "source": [
    "We'll be creating one items CSV. We'll use this file to train our personalize models so we can compare the offline metrics and do some online inspection of recommendations."
   ]
  },
  {
   "cell_type": "code",
   "execution_count": 22,
   "id": "5d95e3a8",
   "metadata": {},
   "outputs": [],
   "source": [
    "items_filename = \"items-metadata.csv\"\n",
    "items_df.to_csv(items_filename, index=False, float_format='%.2f')"
   ]
  },
  {
   "cell_type": "markdown",
   "id": "51a4ccb1",
   "metadata": {},
   "source": [
    "## Create dataset groups and upload datasets\n",
    "\n",
    "With the datasets that we need built, now it's time to upload them to Personalize using dataset import jobs. Before we can upload the CSVs, we need to create dataset groups, create schemas for our datasets, and create datasets.\n",
    "\n",
    "We'll start by creating SDK client that we'll need to interact with Personalize."
   ]
  },
  {
   "cell_type": "markdown",
   "id": "409e94f8",
   "metadata": {},
   "source": [
    "### Create dataset groups\n",
    "\n",
    "Let's create our dataset group."
   ]
  },
  {
   "cell_type": "code",
   "execution_count": 5,
   "id": "70077c3e",
   "metadata": {},
   "outputs": [],
   "source": [
    "personalize = boto3.client('personalize')\n",
    "personalize_runtime = boto3.client('personalize-runtime')"
   ]
  },
  {
   "cell_type": "markdown",
   "id": "6473cf37",
   "metadata": {},
   "source": [
    "## Divert from tutorial"
   ]
  },
  {
   "attachments": {
    "image.png": {
     "image/png": "[encoded data removed]"
    }
   },
   "cell_type": "markdown",
   "id": "103fe70d",
   "metadata": {},
   "source": [
    "![image.png](attachment:image.png)"
   ]
  },
  {
   "cell_type": "code",
   "execution_count": 24,
   "id": "1e0a36ab",
   "metadata": {},
   "outputs": [
    {
     "data": {
      "text/plain": [
       "['_PY_TO_OP_NAME',\n",
       " '__class__',\n",
       " '__delattr__',\n",
       " '__dict__',\n",
       " '__dir__',\n",
       " '__doc__',\n",
       " '__eq__',\n",
       " '__format__',\n",
       " '__ge__',\n",
       " '__getattr__',\n",
       " '__getattribute__',\n",
       " '__gt__',\n",
       " '__hash__',\n",
       " '__init__',\n",
       " '__init_subclass__',\n",
       " '__le__',\n",
       " '__lt__',\n",
       " '__module__',\n",
       " '__ne__',\n",
       " '__new__',\n",
       " '__reduce__',\n",
       " '__reduce_ex__',\n",
       " '__repr__',\n",
       " '__setattr__',\n",
       " '__sizeof__',\n",
       " '__str__',\n",
       " '__subclasshook__',\n",
       " '__weakref__',\n",
       " '_cache',\n",
       " '_client_config',\n",
       " '_convert_to_request_dict',\n",
       " '_emit_api_params',\n",
       " '_endpoint',\n",
       " '_exceptions',\n",
       " '_exceptions_factory',\n",
       " '_get_waiter_config',\n",
       " '_load_exceptions',\n",
       " '_loader',\n",
       " '_make_api_call',\n",
       " '_make_request',\n",
       " '_register_handlers',\n",
       " '_request_signer',\n",
       " '_response_parser',\n",
       " '_serializer',\n",
       " '_service_model',\n",
       " 'can_paginate',\n",
       " 'create_batch_inference_job',\n",
       " 'create_batch_segment_job',\n",
       " 'create_campaign',\n",
       " 'create_dataset',\n",
       " 'create_dataset_export_job',\n",
       " 'create_dataset_group',\n",
       " 'create_dataset_import_job',\n",
       " 'create_event_tracker',\n",
       " 'create_filter',\n",
       " 'create_recommender',\n",
       " 'create_schema',\n",
       " 'create_solution',\n",
       " 'create_solution_version',\n",
       " 'delete_campaign',\n",
       " 'delete_dataset',\n",
       " 'delete_dataset_group',\n",
       " 'delete_event_tracker',\n",
       " 'delete_filter',\n",
       " 'delete_recommender',\n",
       " 'delete_schema',\n",
       " 'delete_solution',\n",
       " 'describe_algorithm',\n",
       " 'describe_batch_inference_job',\n",
       " 'describe_batch_segment_job',\n",
       " 'describe_campaign',\n",
       " 'describe_dataset',\n",
       " 'describe_dataset_export_job',\n",
       " 'describe_dataset_group',\n",
       " 'describe_dataset_import_job',\n",
       " 'describe_event_tracker',\n",
       " 'describe_feature_transformation',\n",
       " 'describe_filter',\n",
       " 'describe_recipe',\n",
       " 'describe_recommender',\n",
       " 'describe_schema',\n",
       " 'describe_solution',\n",
       " 'describe_solution_version',\n",
       " 'exceptions',\n",
       " 'generate_presigned_url',\n",
       " 'get_paginator',\n",
       " 'get_solution_metrics',\n",
       " 'get_waiter',\n",
       " 'list_batch_inference_jobs',\n",
       " 'list_batch_segment_jobs',\n",
       " 'list_campaigns',\n",
       " 'list_dataset_export_jobs',\n",
       " 'list_dataset_groups',\n",
       " 'list_dataset_import_jobs',\n",
       " 'list_datasets',\n",
       " 'list_event_trackers',\n",
       " 'list_filters',\n",
       " 'list_recipes',\n",
       " 'list_recommenders',\n",
       " 'list_schemas',\n",
       " 'list_solution_versions',\n",
       " 'list_solutions',\n",
       " 'meta',\n",
       " 'stop_solution_version_creation',\n",
       " 'update_campaign',\n",
       " 'update_recommender',\n",
       " 'waiter_names']"
      ]
     },
     "execution_count": 24,
     "metadata": {},
     "output_type": "execute_result"
    }
   ],
   "source": [
    "dir(personalize)"
   ]
  },
  {
   "cell_type": "code",
   "execution_count": 1,
   "id": "cd2d0639",
   "metadata": {},
   "outputs": [],
   "source": [
    "from ipywidgets import interact,Dropdown,Button,Output\n",
    "from pprint import pprint\n",
    "import re"
   ]
  },
  {
   "cell_type": "code",
   "execution_count": 6,
   "id": "665be7ca",
   "metadata": {},
   "outputs": [],
   "source": [
    "def ARN_konmari(personalize, command='solution'):\n",
    "    \"\"\"\n",
    "    command : 'solution', 'dataset', 'datasetGroup', 'schema', 'solutionVersion'\n",
    "    \"\"\"\n",
    "    snake = re.sub(\"([A-Z])\",lambda x:\"_\" + x.group(1).lower(), command)\n",
    "    \n",
    "    button = Button(description=\"Delete Me!\")\n",
    "    output = Output()\n",
    "    \n",
    "    dd = Dropdown(\n",
    "        options=[(i[command + 'Arn']) for i in eval('personalize.list_' + snake + 's')()[command + 's']],\n",
    "        description='Select {}:'.format(command))\n",
    "    @interact(dd=dd)\n",
    "    def f(dd):    \n",
    "        pprint(eval('personalize.describe_' + snake +'(' + command + 'Arn=dd)')[command])\n",
    "\n",
    "    display(button, output)\n",
    "    def on_button_clicked(b):\n",
    "        with output:\n",
    "            print('deleting...{}'.format(dd.value))\n",
    "            eval('personalize.delete_' + snake +'(' + command + 'Arn=dd.value)')\n",
    "\n",
    "    button.on_click(on_button_clicked)\n",
    "\n"
   ]
  },
  {
   "cell_type": "code",
   "execution_count": 8,
   "id": "d8515031",
   "metadata": {},
   "outputs": [
    {
     "data": {
      "application/vnd.jupyter.widget-view+json": {
       "model_id": "56e37d131d044545b4b0dcddd029914e",
       "version_major": 2,
       "version_minor": 0
      },
      "text/plain": [
       "interactive(children=(Dropdown(description='Select solutionVersion:', options=('arn:aws:personalize:ap-northea…"
      ]
     },
     "metadata": {},
     "output_type": "display_data"
    },
    {
     "data": {
      "application/vnd.jupyter.widget-view+json": {
       "model_id": "500ab5703ed845228ad9df05862ed361",
       "version_major": 2,
       "version_minor": 0
      },
      "text/plain": [
       "Button(description='Delete Me!', style=ButtonStyle())"
      ]
     },
     "metadata": {},
     "output_type": "display_data"
    },
    {
     "data": {
      "application/vnd.jupyter.widget-view+json": {
       "model_id": "cd6418397ce84bc8aade256c9ad78352",
       "version_major": 2,
       "version_minor": 0
      },
      "text/plain": [
       "Output()"
      ]
     },
     "metadata": {},
     "output_type": "display_data"
    }
   ],
   "source": [
    "ARN_konmari(personalize, 'solutionVersion')"
   ]
  },
  {
   "cell_type": "code",
   "execution_count": 7,
   "id": "1aedf1fc",
   "metadata": {},
   "outputs": [
    {
     "data": {
      "application/vnd.jupyter.widget-view+json": {
       "model_id": "d1ea88ae19c949708e0972acf7af694c",
       "version_major": 2,
       "version_minor": 0
      },
      "text/plain": [
       "interactive(children=(Dropdown(description='Select datasetGroup:', options=('arn:aws:personalize:ap-northeast-…"
      ]
     },
     "metadata": {},
     "output_type": "display_data"
    },
    {
     "data": {
      "application/vnd.jupyter.widget-view+json": {
       "model_id": "6bad8f42f02d474b900bf37619aa451d",
       "version_major": 2,
       "version_minor": 0
      },
      "text/plain": [
       "Button(description='Delete Me!', style=ButtonStyle())"
      ]
     },
     "metadata": {},
     "output_type": "display_data"
    },
    {
     "data": {
      "application/vnd.jupyter.widget-view+json": {
       "model_id": "20cdf792bcd94caf91acb03ce152b239",
       "version_major": 2,
       "version_minor": 0
      },
      "text/plain": [
       "Output()"
      ]
     },
     "metadata": {},
     "output_type": "display_data"
    }
   ],
   "source": [
    "ARN_konmari(personalize, 'datasetGroup')"
   ]
  },
  {
   "cell_type": "code",
   "execution_count": 34,
   "id": "fd561c6e",
   "metadata": {},
   "outputs": [
    {
     "data": {
      "application/vnd.jupyter.widget-view+json": {
       "model_id": "64998fdb2a884b92b7efc2c476f43cf5",
       "version_major": 2,
       "version_minor": 0
      },
      "text/plain": [
       "interactive(children=(Dropdown(description='Select schema:', options=('arn:aws:personalize:ap-northeast-1:3591…"
      ]
     },
     "metadata": {},
     "output_type": "display_data"
    },
    {
     "data": {
      "application/vnd.jupyter.widget-view+json": {
       "model_id": "a47e9e452bda4b31be4048696f6f1fce",
       "version_major": 2,
       "version_minor": 0
      },
      "text/plain": [
       "Button(description='Delete Me!', style=ButtonStyle())"
      ]
     },
     "metadata": {},
     "output_type": "display_data"
    },
    {
     "data": {
      "application/vnd.jupyter.widget-view+json": {
       "model_id": "674a5fafcd9b4e08b5b54baa26ebb0d5",
       "version_major": 2,
       "version_minor": 0
      },
      "text/plain": [
       "Output()"
      ]
     },
     "metadata": {},
     "output_type": "display_data"
    }
   ],
   "source": [
    "ARN_konmari(personalize, 'schema')"
   ]
  },
  {
   "cell_type": "code",
   "execution_count": 28,
   "id": "896d0f89",
   "metadata": {},
   "outputs": [
    {
     "data": {
      "application/vnd.jupyter.widget-view+json": {
       "model_id": "27a1286d80024d2cac50acb119f43922",
       "version_major": 2,
       "version_minor": 0
      },
      "text/plain": [
       "interactive(children=(Dropdown(description='Select dataset:', options=('arn:aws:personalize:ap-northeast-1:359…"
      ]
     },
     "metadata": {},
     "output_type": "display_data"
    },
    {
     "data": {
      "application/vnd.jupyter.widget-view+json": {
       "model_id": "d867c76355fa4e93b0aae587e0c0b1c0",
       "version_major": 2,
       "version_minor": 0
      },
      "text/plain": [
       "Button(description='Delete Me!', style=ButtonStyle())"
      ]
     },
     "metadata": {},
     "output_type": "display_data"
    },
    {
     "data": {
      "application/vnd.jupyter.widget-view+json": {
       "model_id": "c2410111b41040bf953be360e106c2d6",
       "version_major": 2,
       "version_minor": 0
      },
      "text/plain": [
       "Output()"
      ]
     },
     "metadata": {},
     "output_type": "display_data"
    }
   ],
   "source": [
    "ARN_konmari(personalize, 'dataset')"
   ]
  },
  {
   "cell_type": "code",
   "execution_count": 29,
   "id": "b2937318",
   "metadata": {},
   "outputs": [
    {
     "data": {
      "application/vnd.jupyter.widget-view+json": {
       "model_id": "d78bf2d6b9fd461e903a115268f71f6c",
       "version_major": 2,
       "version_minor": 0
      },
      "text/plain": [
       "interactive(children=(Dropdown(description='Select solution:', options=('arn:aws:personalize:ap-northeast-1:35…"
      ]
     },
     "metadata": {},
     "output_type": "display_data"
    },
    {
     "data": {
      "application/vnd.jupyter.widget-view+json": {
       "model_id": "fac647ca10214cb783e135413501416f",
       "version_major": 2,
       "version_minor": 0
      },
      "text/plain": [
       "Button(description='Delete Me!', style=ButtonStyle())"
      ]
     },
     "metadata": {},
     "output_type": "display_data"
    },
    {
     "data": {
      "application/vnd.jupyter.widget-view+json": {
       "model_id": "7cfa796b5628416eaa62b17dc52f125e",
       "version_major": 2,
       "version_minor": 0
      },
      "text/plain": [
       "Output()"
      ]
     },
     "metadata": {},
     "output_type": "display_data"
    }
   ],
   "source": [
    "ARN_konmari(personalize, 'solution')"
   ]
  },
  {
   "cell_type": "markdown",
   "id": "40d10d86",
   "metadata": {},
   "source": [
    "## back to tutorial"
   ]
  },
  {
   "cell_type": "code",
   "execution_count": 30,
   "id": "3527f755",
   "metadata": {},
   "outputs": [
    {
     "name": "stdout",
     "output_type": "stream",
     "text": [
      "{\n",
      "  \"datasetGroupArn\": \"arn:aws:personalize:ap-northeast-1:359123155553:dataset-group/amazon-pantry-aws-similar-items-ngym\",\n",
      "  \"ResponseMetadata\": {\n",
      "    \"RequestId\": \"db054fed-222a-4114-9d73-62689f2966a5\",\n",
      "    \"HTTPStatusCode\": 200,\n",
      "    \"HTTPHeaders\": {\n",
      "      \"date\": \"Sat, 16 Apr 2022 14:29:27 GMT\",\n",
      "      \"content-type\": \"application/x-amz-json-1.1\",\n",
      "      \"content-length\": \"120\",\n",
      "      \"connection\": \"keep-alive\",\n",
      "      \"x-amzn-requestid\": \"db054fed-222a-4114-9d73-62689f2966a5\"\n",
      "    },\n",
      "    \"RetryAttempts\": 0\n",
      "  }\n",
      "}\n"
     ]
    }
   ],
   "source": [
    "create_dataset_group_response = personalize.create_dataset_group(\n",
    "    name = \"amazon-pantry-aws-similar-items-ngym\"\n",
    ")\n",
    "\n",
    "dataset_group = create_dataset_group_response['datasetGroupArn']\n",
    "print(json.dumps(create_dataset_group_response, indent=2))"
   ]
  },
  {
   "cell_type": "markdown",
   "id": "12454abb",
   "metadata": {},
   "source": [
    "Since dataset groups can take a few seconds to be fully created, let's wait until they both have a status of ACTIVE."
   ]
  },
  {
   "cell_type": "code",
   "execution_count": 31,
   "id": "16d91ef2",
   "metadata": {},
   "outputs": [
    {
     "name": "stdout",
     "output_type": "stream",
     "text": [
      "Dataset group create succeeded for arn:aws:personalize:ap-northeast-1:359123155553:dataset-group/amazon-pantry-aws-similar-items-ngym\n"
     ]
    }
   ],
   "source": [
    "in_progress_dataset_group_arns = [ dataset_group ]\n",
    "\n",
    "max_time = time.time() + 3*60*60 # 3 hours\n",
    "while time.time() < max_time:\n",
    "    for dataset_group_arn in in_progress_dataset_group_arns:\n",
    "        describe_dataset_group_response = personalize.describe_dataset_group(\n",
    "            datasetGroupArn = dataset_group_arn\n",
    "        )\n",
    "        status = describe_dataset_group_response[\"datasetGroup\"][\"status\"]\n",
    "        if status == \"ACTIVE\":\n",
    "            print(\"Dataset group create succeeded for {}\".format(dataset_group_arn))\n",
    "            in_progress_dataset_group_arns.remove(dataset_group_arn)\n",
    "        elif status == \"CREATE FAILED\":\n",
    "            print(\"Create failed for {}\".format(dataset_group_arn))\n",
    "            in_progress_dataset_group_arns.remove(dataset_group_arn)\n",
    "\n",
    "    if len(in_progress_dataset_group_arns) <= 0:\n",
    "        break\n",
    "    else:\n",
    "        print(\"At least one dataset group create is still in progress\")\n",
    "                \n",
    "    time.sleep(10)"
   ]
  },
  {
   "cell_type": "markdown",
   "id": "c2aa0e63",
   "metadata": {},
   "source": [
    "### Create Interactions dataset schema and datasets\n",
    "\n",
    "We will be creating a single schema for the interactions dataset type and sharing it across both solution versions. This is possible since schemas are global to your AWS account and not specific to a dataset group."
   ]
  },
  {
   "cell_type": "code",
   "execution_count": 35,
   "id": "ff748507",
   "metadata": {},
   "outputs": [
    {
     "name": "stdout",
     "output_type": "stream",
     "text": [
      "{\n",
      "  \"schemaArn\": \"arn:aws:personalize:ap-northeast-1:359123155553:schema/amazon-pantry-interactions-1-ngym\",\n",
      "  \"ResponseMetadata\": {\n",
      "    \"RequestId\": \"31609b8d-ff5d-44ab-b042-ab3764646b7b\",\n",
      "    \"HTTPStatusCode\": 200,\n",
      "    \"HTTPHeaders\": {\n",
      "      \"date\": \"Sat, 16 Apr 2022 14:35:05 GMT\",\n",
      "      \"content-type\": \"application/x-amz-json-1.1\",\n",
      "      \"content-length\": \"104\",\n",
      "      \"connection\": \"keep-alive\",\n",
      "      \"x-amzn-requestid\": \"31609b8d-ff5d-44ab-b042-ab3764646b7b\"\n",
      "    },\n",
      "    \"RetryAttempts\": 0\n",
      "  }\n",
      "}\n"
     ]
    }
   ],
   "source": [
    "interactions_schema = schema = {\n",
    "    \"type\": \"record\",\n",
    "    \"name\": \"Interactions\",\n",
    "    \"namespace\": \"com.amazonaws.personalize.schema\",\n",
    "    \"fields\": [\n",
    "        {\n",
    "            \"name\": \"USER_ID\",\n",
    "            \"type\": \"string\"\n",
    "        },\n",
    "        {\n",
    "            \"name\": \"ITEM_ID\",\n",
    "            \"type\": \"string\"\n",
    "        },\n",
    "        {\n",
    "            \"name\": \"TIMESTAMP\",\n",
    "            \"type\": \"long\"\n",
    "        },\n",
    "        {\n",
    "            \"name\": \"EVENT_VALUE\",\n",
    "            \"type\": \"float\"\n",
    "        },\n",
    "        {\n",
    "            \"name\": \"EVENT_TYPE\",\n",
    "            \"type\": \"string\"\n",
    "        }\n",
    "    ],\n",
    "    \"version\": \"1.0\"\n",
    "}\n",
    "            \n",
    "create_schema_response = personalize.create_schema(\n",
    "    name = \"amazon-pantry-interactions-1-ngym\",\n",
    "    schema = json.dumps(interactions_schema)\n",
    ")\n",
    "\n",
    "interaction_schema_arn = create_schema_response['schemaArn']\n",
    "print(json.dumps(create_schema_response, indent=2))"
   ]
  },
  {
   "cell_type": "markdown",
   "id": "aaaad351",
   "metadata": {},
   "source": [
    "Next we'll create an Interactions dataset in our dataset group specifying the schema we just created."
   ]
  },
  {
   "cell_type": "code",
   "execution_count": 36,
   "id": "23e3d396",
   "metadata": {},
   "outputs": [
    {
     "name": "stdout",
     "output_type": "stream",
     "text": [
      "{\n",
      "  \"datasetArn\": \"arn:aws:personalize:ap-northeast-1:359123155553:dataset/amazon-pantry-aws-similar-items-ngym/INTERACTIONS\",\n",
      "  \"ResponseMetadata\": {\n",
      "    \"RequestId\": \"55357a47-8598-4879-bbe7-3913c214e256\",\n",
      "    \"HTTPStatusCode\": 200,\n",
      "    \"HTTPHeaders\": {\n",
      "      \"date\": \"Sat, 16 Apr 2022 14:36:52 GMT\",\n",
      "      \"content-type\": \"application/x-amz-json-1.1\",\n",
      "      \"content-length\": \"122\",\n",
      "      \"connection\": \"keep-alive\",\n",
      "      \"x-amzn-requestid\": \"55357a47-8598-4879-bbe7-3913c214e256\"\n",
      "    },\n",
      "    \"RetryAttempts\": 0\n",
      "  }\n",
      "}\n"
     ]
    }
   ],
   "source": [
    "dataset_type = \"INTERACTIONS\"\n",
    "create_dataset_response = personalize.create_dataset(\n",
    "    name = \"amazon-pantry-ints-ngym\",\n",
    "    datasetType = dataset_type,\n",
    "    datasetGroupArn = dataset_group,\n",
    "    schemaArn = interaction_schema_arn\n",
    ")\n",
    "\n",
    "interactions_dataset = create_dataset_response['datasetArn']\n",
    "print(json.dumps(create_dataset_response, indent=2))"
   ]
  },
  {
   "cell_type": "markdown",
   "id": "967d1c22",
   "metadata": {},
   "source": [
    "### Stage Interactions CSV in S3\n",
    "\n",
    "Before we can upload the interactions CSV we created earlier into the Personalize datasets that we just created, we need to stage the CSV in an S3 bucket.\n",
    "\n",
    "Let's create an S3 bucket and copy the interactions CSV file to the bucket."
   ]
  },
  {
   "cell_type": "code",
   "execution_count": 37,
   "id": "7d65344e",
   "metadata": {},
   "outputs": [
    {
     "name": "stdout",
     "output_type": "stream",
     "text": [
      "ap-northeast-1\n"
     ]
    }
   ],
   "source": [
    "# Determine the current S3 region where this notebook is being hosted in SageMaker.\n",
    "with open('/opt/ml/metadata/resource-metadata.json') as notebook_info:\n",
    "    data = json.load(notebook_info)\n",
    "    resource_arn = data['ResourceArn']\n",
    "    region = resource_arn.split(':')[3]\n",
    "print(region)"
   ]
  },
  {
   "cell_type": "code",
   "execution_count": 38,
   "id": "8be1b7e7",
   "metadata": {},
   "outputs": [
    {
     "name": "stdout",
     "output_type": "stream",
     "text": [
      "amazon-pantry-personalize-example-ngym359123155553\n"
     ]
    }
   ],
   "source": [
    "\n",
    "s3 = boto3.client('s3')\n",
    "account_id = boto3.client('sts').get_caller_identity().get('Account')\n",
    "bucket_name = \"amazon-pantry-personalize-example-ngym\"+account_id\n",
    "print(bucket_name)\n",
    "if region == \"us-east-1\":\n",
    "    s3.create_bucket(Bucket=bucket_name)\n",
    "else:\n",
    "    region='ap-northeast-1'\n",
    "    s3.create_bucket(\n",
    "        Bucket=bucket_name,\n",
    "        CreateBucketConfiguration={'LocationConstraint': region}\n",
    "    )"
   ]
  },
  {
   "cell_type": "markdown",
   "id": "c681ea98",
   "metadata": {},
   "source": [
    "#### Upload Interactions CSV to S3"
   ]
  },
  {
   "cell_type": "code",
   "execution_count": 39,
   "id": "17bfe570",
   "metadata": {},
   "outputs": [],
   "source": [
    "boto3.Session().resource('s3').Bucket(bucket_name).Object(interactions_filename).upload_file(interactions_filename)"
   ]
  },
  {
   "cell_type": "markdown",
   "id": "4bf04925",
   "metadata": {},
   "source": [
    "### Create S3 bucket policy and IAM role\n",
    "\n",
    "Before we can submit a dataset import job to Personalize, we have to create a bucket policy and IAM role that will give Personalize access to our bucket."
   ]
  },
  {
   "cell_type": "code",
   "execution_count": 40,
   "id": "8383c4fe",
   "metadata": {},
   "outputs": [
    {
     "data": {
      "text/plain": [
       "{'ResponseMetadata': {'RequestId': 'FEB804JXQNZ0E1J5',\n",
       "  'HostId': 'uO084Fpc5523A5+zAl0gwa4HgvmytpoTARN94FIn3sKTFqe8jj9JNbPKQjTUNvEQW1jILMMig2s=',\n",
       "  'HTTPStatusCode': 204,\n",
       "  'HTTPHeaders': {'x-amz-id-2': 'uO084Fpc5523A5+zAl0gwa4HgvmytpoTARN94FIn3sKTFqe8jj9JNbPKQjTUNvEQW1jILMMig2s=',\n",
       "   'x-amz-request-id': 'FEB804JXQNZ0E1J5',\n",
       "   'date': 'Sat, 16 Apr 2022 14:39:18 GMT',\n",
       "   'server': 'AmazonS3'},\n",
       "  'RetryAttempts': 0}}"
      ]
     },
     "execution_count": 40,
     "metadata": {},
     "output_type": "execute_result"
    }
   ],
   "source": [
    "policy = {\n",
    "    \"Version\": \"2012-10-17\",\n",
    "    \"Id\": \"PersonalizeS3BucketAccessPolicy\",\n",
    "    \"Statement\": [\n",
    "        {\n",
    "            \"Sid\": \"PersonalizeS3BucketAccessPolicy\",\n",
    "            \"Effect\": \"Allow\",\n",
    "            \"Principal\": {\n",
    "                \"Service\": \"personalize.amazonaws.com\"\n",
    "            },\n",
    "            \"Action\": [\n",
    "                \"s3:*Object\",\n",
    "                \"s3:ListBucket\"\n",
    "            ],\n",
    "            \"Resource\": [\n",
    "                \"arn:aws:s3:::{}\".format(bucket_name),\n",
    "                \"arn:aws:s3:::{}/*\".format(bucket_name)\n",
    "            ]\n",
    "        }\n",
    "    ]\n",
    "}\n",
    "\n",
    "s3.put_bucket_policy(Bucket=bucket_name, Policy=json.dumps(policy))"
   ]
  },
  {
   "cell_type": "code",
   "execution_count": 41,
   "id": "9267f46e",
   "metadata": {},
   "outputs": [
    {
     "name": "stdout",
     "output_type": "stream",
     "text": [
      "arn:aws:iam::359123155553:role/PersonalizeRoleAmazonPantryAwsSimilarItems-ngym\n"
     ]
    }
   ],
   "source": [
    "iam = boto3.client(\"iam\")\n",
    "\n",
    "role_name = \"PersonalizeRoleAmazonPantryAwsSimilarItems-ngym\"\n",
    "assume_role_policy_document = {\n",
    "    \"Version\": \"2012-10-17\",\n",
    "    \"Statement\": [\n",
    "        {\n",
    "          \"Effect\": \"Allow\",\n",
    "          \"Principal\": {\n",
    "            \"Service\": \"personalize.amazonaws.com\"\n",
    "          },\n",
    "          \"Action\": \"sts:AssumeRole\"\n",
    "        }\n",
    "    ]\n",
    "}\n",
    "\n",
    "create_role_response = iam.create_role(\n",
    "    RoleName = role_name,\n",
    "    AssumeRolePolicyDocument = json.dumps(assume_role_policy_document)\n",
    ")\n",
    "\n",
    "# AmazonPersonalizeFullAccess provides access to any S3 bucket with a name that includes \"personalize\" or \"Personalize\" \n",
    "# if you would like to use a bucket with a different name, please consider creating and attaching a new policy\n",
    "# that provides read access to your bucket or attaching the AmazonS3ReadOnlyAccess policy to the role\n",
    "policy_arn = \"arn:aws:iam::aws:policy/service-role/AmazonPersonalizeFullAccess\"\n",
    "iam.attach_role_policy(\n",
    "    RoleName = role_name,\n",
    "    PolicyArn = policy_arn\n",
    ")\n",
    "\n",
    "# Now add S3 support\n",
    "iam.attach_role_policy(\n",
    "    PolicyArn='arn:aws:iam::aws:policy/AmazonS3FullAccess',\n",
    "    RoleName=role_name\n",
    ")\n",
    "time.sleep(20) # wait for a minute to allow IAM role policy attachment to propagate\n",
    "\n",
    "role_arn = create_role_response[\"Role\"][\"Arn\"]\n",
    "print(role_arn)"
   ]
  },
  {
   "cell_type": "markdown",
   "id": "c5a79e00",
   "metadata": {},
   "source": [
    "### Import Interactions datasets\n",
    "\n",
    "Now we're ready to import the staged Interactions CSV in our S3 bucket to the Personalize dataset we created."
   ]
  },
  {
   "cell_type": "code",
   "execution_count": 44,
   "id": "554f1095",
   "metadata": {},
   "outputs": [
    {
     "name": "stdout",
     "output_type": "stream",
     "text": [
      "{\n",
      "  \"datasetImportJobArn\": \"arn:aws:personalize:ap-northeast-1:359123155553:dataset-import-job/amazon-pantry-interactions-import-ngym\",\n",
      "  \"ResponseMetadata\": {\n",
      "    \"RequestId\": \"b528f8f3-7f7e-4cfb-825b-4d58ab647fb0\",\n",
      "    \"HTTPStatusCode\": 200,\n",
      "    \"HTTPHeaders\": {\n",
      "      \"date\": \"Sat, 16 Apr 2022 14:51:44 GMT\",\n",
      "      \"content-type\": \"application/x-amz-json-1.1\",\n",
      "      \"content-length\": \"131\",\n",
      "      \"connection\": \"keep-alive\",\n",
      "      \"x-amzn-requestid\": \"b528f8f3-7f7e-4cfb-825b-4d58ab647fb0\"\n",
      "    },\n",
      "    \"RetryAttempts\": 0\n",
      "  }\n",
      "}\n"
     ]
    }
   ],
   "source": [
    "create_dataset_import_job_response = personalize.create_dataset_import_job(\n",
    "    jobName = \"amazon-pantry-interactions-import-ngym\",\n",
    "    datasetArn = interactions_dataset,\n",
    "    dataSource = {\n",
    "        \"dataLocation\": \"s3://{}/{}\".format(bucket_name, interactions_filename)\n",
    "    },\n",
    "    roleArn = role_arn\n",
    ")\n",
    "\n",
    "dataset_import_job = create_dataset_import_job_response['datasetImportJobArn']\n",
    "print(json.dumps(create_dataset_import_job_response, indent=2))"
   ]
  },
  {
   "cell_type": "markdown",
   "id": "2a11e39a",
   "metadata": {},
   "source": [
    "### Create Items dataset schema and datasets\n",
    "\n",
    "Next we will repeat the process for the items datasets."
   ]
  },
  {
   "cell_type": "markdown",
   "id": "eef1201e",
   "metadata": {},
   "source": [
    "Create a schema that includes the description. Be sure to take note of the `\"textual\": True` attribute on the `DESCRIPTION` field. This is how you differentiate unstructured text fields from categorical and string fields. Without this attribute, Personalize will not apply natural language processing techniques to extract features from this text."
   ]
  },
  {
   "cell_type": "code",
   "execution_count": 45,
   "id": "3b1dc002",
   "metadata": {},
   "outputs": [
    {
     "name": "stdout",
     "output_type": "stream",
     "text": [
      "{\n",
      "  \"schemaArn\": \"arn:aws:personalize:ap-northeast-1:359123155553:schema/amazon-pantry-items-schema-ngym\",\n",
      "  \"ResponseMetadata\": {\n",
      "    \"RequestId\": \"b7030a6f-e3bb-41b1-9594-e20b2906f797\",\n",
      "    \"HTTPStatusCode\": 200,\n",
      "    \"HTTPHeaders\": {\n",
      "      \"date\": \"Sat, 16 Apr 2022 14:53:28 GMT\",\n",
      "      \"content-type\": \"application/x-amz-json-1.1\",\n",
      "      \"content-length\": \"102\",\n",
      "      \"connection\": \"keep-alive\",\n",
      "      \"x-amzn-requestid\": \"b7030a6f-e3bb-41b1-9594-e20b2906f797\"\n",
      "    },\n",
      "    \"RetryAttempts\": 0\n",
      "  }\n",
      "}\n"
     ]
    }
   ],
   "source": [
    "item_schema = {\n",
    "    \"type\": \"record\",\n",
    "    \"name\": \"Items\",\n",
    "    \"namespace\": \"com.amazonaws.personalize.schema\",\n",
    "    \"fields\": [\n",
    "        {\n",
    "            \"name\": \"ITEM_ID\",\n",
    "            \"type\": \"string\"\n",
    "        },\n",
    "        {\n",
    "            \"name\": \"BRAND\",\n",
    "            \"type\": [ \"null\", \"string\" ],\n",
    "            \"categorical\": True\n",
    "        },{\n",
    "            \"name\": \"PRICE\",\n",
    "            \"type\": [ \"null\", \"float\" ],\n",
    "        },{\n",
    "            \"name\": \"DESCRIPTION\",\n",
    "            \"type\": [ \"null\", \"string\" ],\n",
    "            \"textual\": True\n",
    "        }\n",
    "    ],\n",
    "    \"version\": \"1.0\"\n",
    "}\n",
    "\n",
    "create_schema_response = personalize.create_schema(\n",
    "    name = \"amazon-pantry-items-schema-ngym\",\n",
    "    schema = json.dumps(item_schema)\n",
    ")\n",
    "\n",
    "item_schema_arn = create_schema_response['schemaArn']\n",
    "print(json.dumps(create_schema_response, indent=2))"
   ]
  },
  {
   "cell_type": "markdown",
   "id": "e88ab99f",
   "metadata": {},
   "source": [
    "Next we will create Personalize datasets in our dataset group, taking special care to specify the approprate schema ARN for each dataset."
   ]
  },
  {
   "cell_type": "code",
   "execution_count": 46,
   "id": "b85a1c0c",
   "metadata": {},
   "outputs": [
    {
     "name": "stdout",
     "output_type": "stream",
     "text": [
      "{\n",
      "  \"datasetArn\": \"arn:aws:personalize:ap-northeast-1:359123155553:dataset/amazon-pantry-aws-similar-items-ngym/ITEMS\",\n",
      "  \"ResponseMetadata\": {\n",
      "    \"RequestId\": \"e736031d-d9ce-47f0-9e9e-fc076269fc2c\",\n",
      "    \"HTTPStatusCode\": 200,\n",
      "    \"HTTPHeaders\": {\n",
      "      \"date\": \"Sat, 16 Apr 2022 14:53:44 GMT\",\n",
      "      \"content-type\": \"application/x-amz-json-1.1\",\n",
      "      \"content-length\": \"115\",\n",
      "      \"connection\": \"keep-alive\",\n",
      "      \"x-amzn-requestid\": \"e736031d-d9ce-47f0-9e9e-fc076269fc2c\"\n",
      "    },\n",
      "    \"RetryAttempts\": 0\n",
      "  }\n",
      "}\n"
     ]
    }
   ],
   "source": [
    "dataset_type = \"ITEMS\"\n",
    "create_dataset_response = personalize.create_dataset(\n",
    "    name = \"amazon-pantry-items-ngym\",\n",
    "    datasetType = dataset_type,\n",
    "    datasetGroupArn = dataset_group_arn,\n",
    "    schemaArn = item_schema_arn\n",
    ")\n",
    "\n",
    "items_dataset_arn = create_dataset_response['datasetArn']\n",
    "print(json.dumps(create_dataset_response, indent=2))"
   ]
  },
  {
   "cell_type": "markdown",
   "id": "043591ac",
   "metadata": {},
   "source": [
    "#### Stage Items CSV in S3\n",
    "\n",
    "Next we'll copy our two items CSV files to the same S3 bucket create above."
   ]
  },
  {
   "cell_type": "code",
   "execution_count": 47,
   "id": "b58d6179",
   "metadata": {},
   "outputs": [],
   "source": [
    "boto3.Session().resource('s3').Bucket(bucket_name).Object(items_filename).upload_file(items_filename)"
   ]
  },
  {
   "cell_type": "markdown",
   "id": "8074e790",
   "metadata": {},
   "source": [
    "### Import Items datasets for each dataset group\n",
    "\n",
    "Since the S3 bucket policy and IAM role are already setup, we can just submit two dataset import jobs to import the Items CSVs."
   ]
  },
  {
   "cell_type": "code",
   "execution_count": 48,
   "id": "a68771b3",
   "metadata": {},
   "outputs": [
    {
     "name": "stdout",
     "output_type": "stream",
     "text": [
      "{\n",
      "  \"datasetImportJobArn\": \"arn:aws:personalize:ap-northeast-1:359123155553:dataset-import-job/amazon-pantry-items-import-job-ngym\",\n",
      "  \"ResponseMetadata\": {\n",
      "    \"RequestId\": \"1ff3e335-d042-4a3e-a045-ba872484c473\",\n",
      "    \"HTTPStatusCode\": 200,\n",
      "    \"HTTPHeaders\": {\n",
      "      \"date\": \"Sat, 16 Apr 2022 14:54:13 GMT\",\n",
      "      \"content-type\": \"application/x-amz-json-1.1\",\n",
      "      \"content-length\": \"128\",\n",
      "      \"connection\": \"keep-alive\",\n",
      "      \"x-amzn-requestid\": \"1ff3e335-d042-4a3e-a045-ba872484c473\"\n",
      "    },\n",
      "    \"RetryAttempts\": 0\n",
      "  }\n",
      "}\n"
     ]
    }
   ],
   "source": [
    "create_dataset_import_job_response = personalize.create_dataset_import_job(\n",
    "    jobName = \"amazon-pantry-items-import-job-ngym\",\n",
    "    datasetArn = items_dataset_arn,\n",
    "    dataSource = {\n",
    "        \"dataLocation\": \"s3://{}/{}\".format(bucket_name, items_filename)\n",
    "    },\n",
    "    roleArn = role_arn\n",
    ")\n",
    "\n",
    "dataset_import_job_items_arn = create_dataset_import_job_response['datasetImportJobArn']\n",
    "print(json.dumps(create_dataset_import_job_response, indent=2))"
   ]
  },
  {
   "cell_type": "markdown",
   "id": "5a58cad8",
   "metadata": {},
   "source": [
    "### Wait for Interactions dataset import jobs to complete\n",
    "\n",
    "The following cell will wait for both import jobs to complete."
   ]
  },
  {
   "cell_type": "code",
   "execution_count": 49,
   "id": "a7839815",
   "metadata": {},
   "outputs": [
    {
     "name": "stdout",
     "output_type": "stream",
     "text": [
      "At least one dataset import job is still in progress\n",
      "At least one dataset import job is still in progress\n",
      "Dataset import succeeded for arn:aws:personalize:ap-northeast-1:359123155553:dataset-import-job/amazon-pantry-interactions-import-ngym\n",
      "CPU times: user 34.9 ms, sys: 0 ns, total: 34.9 ms\n",
      "Wall time: 2min\n"
     ]
    }
   ],
   "source": [
    "%%time\n",
    "\n",
    "in_progress_import_arns = [ dataset_import_job ]\n",
    "\n",
    "max_time = time.time() + 3*60*60 # 3 hours\n",
    "while time.time() < max_time:\n",
    "    for import_arn in in_progress_import_arns:\n",
    "        describe_dataset_import_job_response = personalize.describe_dataset_import_job(\n",
    "            datasetImportJobArn = import_arn\n",
    "        )\n",
    "        status = describe_dataset_import_job_response[\"datasetImportJob\"]['status']\n",
    "        if status == \"ACTIVE\":\n",
    "            print(\"Dataset import succeeded for {}\".format(import_arn))\n",
    "            in_progress_import_arns.remove(import_arn)\n",
    "        elif status == \"CREATE FAILED\":\n",
    "            print(\"Create failed for {}\".format(import_arn))\n",
    "            in_progress_import_arns.remove(import_arn)\n",
    "\n",
    "    if len(in_progress_import_arns) <= 0:\n",
    "        break\n",
    "    else:\n",
    "        print(\"At least one dataset import job is still in progress\")\n",
    "                \n",
    "    time.sleep(60)"
   ]
  },
  {
   "cell_type": "markdown",
   "id": "e594ce39",
   "metadata": {},
   "source": [
    "### Wait for Items import job to complete\n",
    "\n",
    "The following logic will wait until both items datasets are fully imported into each dataset group."
   ]
  },
  {
   "cell_type": "code",
   "execution_count": 51,
   "id": "68f3c1d6",
   "metadata": {},
   "outputs": [
    {
     "name": "stdout",
     "output_type": "stream",
     "text": [
      "Dataset import succeeded for arn:aws:personalize:ap-northeast-1:359123155553:dataset-import-job/amazon-pantry-items-import-job-ngym\n",
      "CPU times: user 12.6 ms, sys: 3.86 ms, total: 16.5 ms\n",
      "Wall time: 63.3 ms\n"
     ]
    }
   ],
   "source": [
    "%%time\n",
    "\n",
    "in_progress_import_arns = [ dataset_import_job_items_arn ]\n",
    "\n",
    "max_time = time.time() + 3*60*60 # 3 hours\n",
    "while time.time() < max_time:\n",
    "    for import_arn in in_progress_import_arns:\n",
    "        describe_dataset_import_job_response = personalize.describe_dataset_import_job(\n",
    "            datasetImportJobArn = import_arn\n",
    "        )\n",
    "        status = describe_dataset_import_job_response[\"datasetImportJob\"]['status']\n",
    "        if status == \"ACTIVE\":\n",
    "            print(\"Dataset import succeeded for {}\".format(import_arn))\n",
    "            in_progress_import_arns.remove(import_arn)\n",
    "        elif status == \"CREATE FAILED\":\n",
    "            print(\"Create failed for {}\".format(import_arn))\n",
    "            in_progress_import_arns.remove(import_arn)\n",
    "\n",
    "    if len(in_progress_import_arns) <= 0:\n",
    "        break\n",
    "    else:\n",
    "        print(\"At least one dataset import job is still in progress\")\n",
    "                \n",
    "    time.sleep(60)"
   ]
  },
  {
   "cell_type": "markdown",
   "id": "7635527a",
   "metadata": {},
   "source": [
    "## Create solutions and solution versions\n",
    "\n",
    "With the interactions and items datasets imported into each dataset group, we will next create solutions and solution versions using the user-personalization recipe for the data in each dataset group.\n",
    "\n",
    "First, let's list the Personalize recipes available."
   ]
  },
  {
   "cell_type": "code",
   "execution_count": 52,
   "id": "19f04885",
   "metadata": {},
   "outputs": [
    {
     "data": {
      "text/plain": [
       "{'recipes': [{'name': 'aws-ecomm-customers-who-viewed-x-also-viewed',\n",
       "   'recipeArn': 'arn:aws:personalize:::recipe/aws-ecomm-customers-who-viewed-x-also-viewed',\n",
       "   'status': 'ACTIVE',\n",
       "   'creationDateTime': datetime.datetime(2019, 6, 10, 0, 0, tzinfo=tzlocal()),\n",
       "   'lastUpdatedDateTime': datetime.datetime(2022, 4, 7, 18, 49, 24, 7000, tzinfo=tzlocal()),\n",
       "   'domain': 'ECOMMERCE'},\n",
       "  {'name': 'aws-ecomm-frequently-bought-together',\n",
       "   'recipeArn': 'arn:aws:personalize:::recipe/aws-ecomm-frequently-bought-together',\n",
       "   'status': 'ACTIVE',\n",
       "   'creationDateTime': datetime.datetime(2019, 6, 10, 0, 0, tzinfo=tzlocal()),\n",
       "   'lastUpdatedDateTime': datetime.datetime(2022, 4, 7, 18, 49, 24, 7000, tzinfo=tzlocal()),\n",
       "   'domain': 'ECOMMERCE'},\n",
       "  {'name': 'aws-ecomm-popular-items-by-purchases',\n",
       "   'recipeArn': 'arn:aws:personalize:::recipe/aws-ecomm-popular-items-by-purchases',\n",
       "   'status': 'ACTIVE',\n",
       "   'creationDateTime': datetime.datetime(2019, 6, 10, 0, 0, tzinfo=tzlocal()),\n",
       "   'lastUpdatedDateTime': datetime.datetime(2022, 4, 7, 18, 49, 24, 7000, tzinfo=tzlocal()),\n",
       "   'domain': 'ECOMMERCE'},\n",
       "  {'name': 'aws-ecomm-popular-items-by-views',\n",
       "   'recipeArn': 'arn:aws:personalize:::recipe/aws-ecomm-popular-items-by-views',\n",
       "   'status': 'ACTIVE',\n",
       "   'creationDateTime': datetime.datetime(2019, 6, 10, 0, 0, tzinfo=tzlocal()),\n",
       "   'lastUpdatedDateTime': datetime.datetime(2022, 4, 7, 18, 49, 24, 7000, tzinfo=tzlocal()),\n",
       "   'domain': 'ECOMMERCE'},\n",
       "  {'name': 'aws-ecomm-recommended-for-you',\n",
       "   'recipeArn': 'arn:aws:personalize:::recipe/aws-ecomm-recommended-for-you',\n",
       "   'status': 'ACTIVE',\n",
       "   'creationDateTime': datetime.datetime(2019, 6, 10, 0, 0, tzinfo=tzlocal()),\n",
       "   'lastUpdatedDateTime': datetime.datetime(2022, 4, 7, 18, 49, 24, 7000, tzinfo=tzlocal()),\n",
       "   'domain': 'ECOMMERCE'},\n",
       "  {'name': 'aws-hrnn',\n",
       "   'recipeArn': 'arn:aws:personalize:::recipe/aws-hrnn',\n",
       "   'status': 'ACTIVE',\n",
       "   'creationDateTime': datetime.datetime(2019, 6, 10, 0, 0, tzinfo=tzlocal()),\n",
       "   'lastUpdatedDateTime': datetime.datetime(2022, 4, 7, 18, 49, 24, 7000, tzinfo=tzlocal())},\n",
       "  {'name': 'aws-hrnn-coldstart',\n",
       "   'recipeArn': 'arn:aws:personalize:::recipe/aws-hrnn-coldstart',\n",
       "   'status': 'ACTIVE',\n",
       "   'creationDateTime': datetime.datetime(2019, 6, 10, 0, 0, tzinfo=tzlocal()),\n",
       "   'lastUpdatedDateTime': datetime.datetime(2022, 4, 7, 18, 49, 24, 7000, tzinfo=tzlocal())},\n",
       "  {'name': 'aws-hrnn-metadata',\n",
       "   'recipeArn': 'arn:aws:personalize:::recipe/aws-hrnn-metadata',\n",
       "   'status': 'ACTIVE',\n",
       "   'creationDateTime': datetime.datetime(2019, 6, 10, 0, 0, tzinfo=tzlocal()),\n",
       "   'lastUpdatedDateTime': datetime.datetime(2022, 4, 7, 18, 49, 24, 6000, tzinfo=tzlocal())},\n",
       "  {'name': 'aws-item-affinity',\n",
       "   'recipeArn': 'arn:aws:personalize:::recipe/aws-item-affinity',\n",
       "   'status': 'ACTIVE',\n",
       "   'creationDateTime': datetime.datetime(2021, 7, 15, 0, 0, tzinfo=tzlocal()),\n",
       "   'lastUpdatedDateTime': datetime.datetime(2022, 4, 7, 18, 49, 24, 7000, tzinfo=tzlocal())},\n",
       "  {'name': 'aws-item-attribute-affinity',\n",
       "   'recipeArn': 'arn:aws:personalize:::recipe/aws-item-attribute-affinity',\n",
       "   'status': 'ACTIVE',\n",
       "   'creationDateTime': datetime.datetime(2021, 8, 25, 0, 0, tzinfo=tzlocal()),\n",
       "   'lastUpdatedDateTime': datetime.datetime(2022, 4, 7, 18, 49, 24, 7000, tzinfo=tzlocal())},\n",
       "  {'name': 'aws-personalized-ranking',\n",
       "   'recipeArn': 'arn:aws:personalize:::recipe/aws-personalized-ranking',\n",
       "   'status': 'ACTIVE',\n",
       "   'creationDateTime': datetime.datetime(2019, 6, 10, 0, 0, tzinfo=tzlocal()),\n",
       "   'lastUpdatedDateTime': datetime.datetime(2022, 4, 7, 18, 49, 24, 7000, tzinfo=tzlocal())},\n",
       "  {'name': 'aws-popularity-count',\n",
       "   'recipeArn': 'arn:aws:personalize:::recipe/aws-popularity-count',\n",
       "   'status': 'ACTIVE',\n",
       "   'creationDateTime': datetime.datetime(2019, 6, 10, 0, 0, tzinfo=tzlocal()),\n",
       "   'lastUpdatedDateTime': datetime.datetime(2022, 4, 7, 18, 49, 24, 7000, tzinfo=tzlocal())},\n",
       "  {'name': 'aws-similar-items',\n",
       "   'recipeArn': 'arn:aws:personalize:::recipe/aws-similar-items',\n",
       "   'status': 'ACTIVE',\n",
       "   'creationDateTime': datetime.datetime(2019, 6, 10, 0, 0, tzinfo=tzlocal()),\n",
       "   'lastUpdatedDateTime': datetime.datetime(2022, 4, 7, 18, 49, 24, 7000, tzinfo=tzlocal())},\n",
       "  {'name': 'aws-sims',\n",
       "   'recipeArn': 'arn:aws:personalize:::recipe/aws-sims',\n",
       "   'status': 'ACTIVE',\n",
       "   'creationDateTime': datetime.datetime(2019, 6, 10, 0, 0, tzinfo=tzlocal()),\n",
       "   'lastUpdatedDateTime': datetime.datetime(2022, 4, 7, 18, 49, 24, 7000, tzinfo=tzlocal())}],\n",
       " 'nextToken': 'AYADePYunc+dJhYPTGSYFyXMrMQAXwABABVhd3MtY3J5cHRvLXB1YmxpYy1rZXkAREErd0NBOFF0Yk01V3l2bGlTWHJUSVY3aktnMGtSdlVjTCtsSUZSZVkrY0hiMkJPSHJJaDJYaGdPeWFuRmdMb0JDUT09AAEAB2F3cy1rbXMAUGFybjphd3M6a21zOmFwLW5vcnRoZWFzdC0xOjUwODA2Mjk0MzkyOTprZXkvYzAwN2RiMjktZDljOC00OWNmLWJlOWEtZTA5YWZhY2JhZTE4ALgBAgEAeB32m9tMuq4tD/iHx/H+6uHOtbdXe6SKmG3Wwy4cy6QzAVt1LLAtwDhJcR6SuDq2C3gAAAB+MHwGCSqGSIb3DQEHBqBvMG0CAQAwaAYJKoZIhvcNAQcBMB4GCWCGSAFlAwQBLjARBAx1UVqoJMHro9A3NRcCARCAOzyOtQffjLWx2Ad9gRnTKAQTVX9umw3E2CI+sr/Vsrc2sREkkJXMuEP+RJat07gAZurPK9ljdvGTgcFiAgAAAAAMAAAQAAAAAAAAAAAAAAAAANJy70uNFal8RwBvURwxEAL/////AAAAAQAAAAAAAAAAAAAAAQAAAHM8ZV7OipWB0d0K5RW+KuH4pr0r0w8dki0m9K+3kmyvcTj3kVCcdZnITBQHbn9e45PF1gqs5wAw5IXV7nBv09ZviOfEl1erjxIi5YD/BdeCIAVctF6eUv9LsVWOEclbvIR8jR0SR0v70oNogqaqk3gMlhr9PzDtKpYWldc/Mw/1IAlIAwBnMGUCMD55jAxOEHLdbXdkC9pO7dia9734fjNGLnJCBNZOAqTuMo3rKdLziNb54d7xMED68wIxAKXfYISSUIqGpfbGjKDqw2/08lM66/b/UcsHTpZYBPRCN8neNsWOg0fmcdzN8QUQIQ==',\n",
       " 'ResponseMetadata': {'RequestId': 'ecf5be7d-da43-483c-a610-b384a0ebe1a5',\n",
       "  'HTTPStatusCode': 200,\n",
       "  'HTTPHeaders': {'date': 'Sat, 16 Apr 2022 15:04:58 GMT',\n",
       "   'content-type': 'application/x-amz-json-1.1',\n",
       "   'content-length': '3743',\n",
       "   'connection': 'keep-alive',\n",
       "   'x-amzn-requestid': 'ecf5be7d-da43-483c-a610-b384a0ebe1a5'},\n",
       "  'RetryAttempts': 0}}"
      ]
     },
     "execution_count": 52,
     "metadata": {},
     "output_type": "execute_result"
    }
   ],
   "source": [
    "personalize.list_recipes()"
   ]
  },
  {
   "cell_type": "markdown",
   "id": "ebae9b1e",
   "metadata": {},
   "source": [
    "We will use the `aws-sims` and `aws-similar-items` recipes to train two solutions in this notebook."
   ]
  },
  {
   "cell_type": "code",
   "execution_count": 53,
   "id": "110cb399",
   "metadata": {},
   "outputs": [],
   "source": [
    "sims_recipe_arn = \"arn:aws:personalize:::recipe/aws-sims\"\n",
    "similar_items_recipe_arn = \"arn:aws:personalize:::recipe/aws-similar-items\""
   ]
  },
  {
   "cell_type": "markdown",
   "id": "73a2bda0",
   "metadata": {},
   "source": [
    "First, we will create a solution and solution version for each of the recipes."
   ]
  },
  {
   "cell_type": "code",
   "execution_count": 54,
   "id": "d1e3564c",
   "metadata": {},
   "outputs": [],
   "source": [
    "sims_create_solution_response = personalize.create_solution(\n",
    "    name = \"amazon-pantry-sims-solution-example-ngym\",\n",
    "    datasetGroupArn = dataset_group_arn,\n",
    "    recipeArn = sims_recipe_arn\n",
    ")\n",
    "\n",
    "sims_solution_arn = sims_create_solution_response['solutionArn']"
   ]
  },
  {
   "cell_type": "code",
   "execution_count": 55,
   "id": "a3934358",
   "metadata": {},
   "outputs": [
    {
     "name": "stdout",
     "output_type": "stream",
     "text": [
      "arn:aws:personalize:ap-northeast-1:359123155553:solution/amazon-pantry-sims-solution-example-ngym\n"
     ]
    }
   ],
   "source": [
    "print(sims_solution_arn)"
   ]
  },
  {
   "cell_type": "code",
   "execution_count": 56,
   "id": "79c782fe",
   "metadata": {},
   "outputs": [],
   "source": [
    "sims_solution_version_response = personalize.create_solution_version(\n",
    "    solutionArn = sims_solution_arn\n",
    ")"
   ]
  },
  {
   "cell_type": "code",
   "execution_count": 57,
   "id": "75a996bc",
   "metadata": {},
   "outputs": [
    {
     "name": "stdout",
     "output_type": "stream",
     "text": [
      "{\n",
      "  \"solutionVersionArn\": \"arn:aws:personalize:ap-northeast-1:359123155553:solution/amazon-pantry-sims-solution-example-ngym/6ac1584a\",\n",
      "  \"ResponseMetadata\": {\n",
      "    \"RequestId\": \"2fb2b265-fd8b-4cf0-8288-064a664be470\",\n",
      "    \"HTTPStatusCode\": 200,\n",
      "    \"HTTPHeaders\": {\n",
      "      \"date\": \"Sat, 16 Apr 2022 15:08:15 GMT\",\n",
      "      \"content-type\": \"application/x-amz-json-1.1\",\n",
      "      \"content-length\": \"131\",\n",
      "      \"connection\": \"keep-alive\",\n",
      "      \"x-amzn-requestid\": \"2fb2b265-fd8b-4cf0-8288-064a664be470\"\n",
      "    },\n",
      "    \"RetryAttempts\": 0\n",
      "  }\n",
      "}\n"
     ]
    }
   ],
   "source": [
    "sims_solution_version_arn = sims_solution_version_response['solutionVersionArn']\n",
    "print(json.dumps(sims_solution_version_response, indent=2))"
   ]
  },
  {
   "cell_type": "markdown",
   "id": "485eb27a",
   "metadata": {},
   "source": [
    "Next we will create a solution and solution version in the dataset group that includes the item descriptions."
   ]
  },
  {
   "cell_type": "code",
   "execution_count": 58,
   "id": "4db4cc06",
   "metadata": {},
   "outputs": [],
   "source": [
    "similar_items_create_solution_response = personalize.create_solution(\n",
    "    name = \"amazon-pantry-aws-similar-items-solution-example-ngym\",\n",
    "    datasetGroupArn = dataset_group_arn,\n",
    "    recipeArn = similar_items_recipe_arn\n",
    ")\n",
    "\n",
    "similar_items_solution_arn = similar_items_create_solution_response['solutionArn']"
   ]
  },
  {
   "cell_type": "code",
   "execution_count": 59,
   "id": "c9751ba1",
   "metadata": {},
   "outputs": [],
   "source": [
    "similar_items_solution_version_response = personalize.create_solution_version(\n",
    "    solutionArn = similar_items_solution_arn\n",
    ")"
   ]
  },
  {
   "cell_type": "code",
   "execution_count": 60,
   "id": "7be9d36b",
   "metadata": {},
   "outputs": [
    {
     "name": "stdout",
     "output_type": "stream",
     "text": [
      "{\n",
      "  \"solutionVersionArn\": \"arn:aws:personalize:ap-northeast-1:359123155553:solution/amazon-pantry-aws-similar-items-solution-example-ngym/94dd5073\",\n",
      "  \"ResponseMetadata\": {\n",
      "    \"RequestId\": \"6b8e5b06-a290-48c3-9c7f-65cae6ea9be8\",\n",
      "    \"HTTPStatusCode\": 200,\n",
      "    \"HTTPHeaders\": {\n",
      "      \"date\": \"Sat, 16 Apr 2022 15:08:34 GMT\",\n",
      "      \"content-type\": \"application/x-amz-json-1.1\",\n",
      "      \"content-length\": \"144\",\n",
      "      \"connection\": \"keep-alive\",\n",
      "      \"x-amzn-requestid\": \"6b8e5b06-a290-48c3-9c7f-65cae6ea9be8\"\n",
      "    },\n",
      "    \"RetryAttempts\": 0\n",
      "  }\n",
      "}\n"
     ]
    }
   ],
   "source": [
    "similar_items_solution_version_arn = similar_items_solution_version_response['solutionVersionArn']\n",
    "print(json.dumps(similar_items_solution_version_response, indent=2))"
   ]
  },
  {
   "cell_type": "markdown",
   "id": "1a03d640",
   "metadata": {},
   "source": [
    "### Wait for solution versions to become active\n",
    "\n",
    "Finally, we'll wait for the solution versions to finish being created. This step is where Personalize trains machine learning models based on the datasets and selected recipe. Personalize will also split the interactions datasets into training and evaluation portions so it can evaluate the quality of recommendations against the trained model using held out data.\n",
    "\n",
    "You will notice that the solution version in the dataset group that includes the description data will take longer to train than the one without the description."
   ]
  },
  {
   "cell_type": "code",
   "execution_count": 61,
   "id": "8485b171",
   "metadata": {},
   "outputs": [
    {
     "name": "stdout",
     "output_type": "stream",
     "text": [
      "At least one solution build is still in progress\n",
      "At least one solution build is still in progress\n",
      "At least one solution build is still in progress\n",
      "At least one solution build is still in progress\n",
      "At least one solution build is still in progress\n",
      "At least one solution build is still in progress\n",
      "At least one solution build is still in progress\n",
      "At least one solution build is still in progress\n",
      "At least one solution build is still in progress\n",
      "At least one solution build is still in progress\n",
      "At least one solution build is still in progress\n",
      "At least one solution build is still in progress\n",
      "At least one solution build is still in progress\n",
      "At least one solution build is still in progress\n",
      "At least one solution build is still in progress\n",
      "At least one solution build is still in progress\n",
      "At least one solution build is still in progress\n",
      "At least one solution build is still in progress\n",
      "At least one solution build is still in progress\n",
      "At least one solution build is still in progress\n",
      "Build succeeded for arn:aws:personalize:ap-northeast-1:359123155553:solution/amazon-pantry-sims-solution-example-ngym/6ac1584a\n",
      "At least one solution build is still in progress\n",
      "At least one solution build is still in progress\n",
      "At least one solution build is still in progress\n",
      "At least one solution build is still in progress\n",
      "At least one solution build is still in progress\n",
      "At least one solution build is still in progress\n",
      "At least one solution build is still in progress\n",
      "At least one solution build is still in progress\n",
      "At least one solution build is still in progress\n",
      "At least one solution build is still in progress\n",
      "At least one solution build is still in progress\n",
      "At least one solution build is still in progress\n",
      "At least one solution build is still in progress\n",
      "At least one solution build is still in progress\n",
      "At least one solution build is still in progress\n",
      "At least one solution build is still in progress\n",
      "At least one solution build is still in progress\n",
      "At least one solution build is still in progress\n",
      "At least one solution build is still in progress\n",
      "At least one solution build is still in progress\n",
      "At least one solution build is still in progress\n",
      "At least one solution build is still in progress\n",
      "At least one solution build is still in progress\n",
      "At least one solution build is still in progress\n",
      "At least one solution build is still in progress\n",
      "At least one solution build is still in progress\n",
      "At least one solution build is still in progress\n",
      "At least one solution build is still in progress\n",
      "At least one solution build is still in progress\n",
      "At least one solution build is still in progress\n",
      "Build succeeded for arn:aws:personalize:ap-northeast-1:359123155553:solution/amazon-pantry-aws-similar-items-solution-example-ngym/94dd5073\n",
      "CPU times: user 789 ms, sys: 48.7 ms, total: 838 ms\n",
      "Wall time: 50min 6s\n"
     ]
    }
   ],
   "source": [
    "%%time\n",
    "\n",
    "in_progress_solution_versions = [\n",
    "    sims_solution_version_arn,\n",
    "    similar_items_solution_version_arn\n",
    "]\n",
    "\n",
    "max_time = time.time() + 10*60*60 # 10 hours\n",
    "while time.time() < max_time:\n",
    "    for solution_version_arn in in_progress_solution_versions:\n",
    "        version_response = personalize.describe_solution_version(\n",
    "            solutionVersionArn = solution_version_arn\n",
    "        )\n",
    "        status = version_response[\"solutionVersion\"][\"status\"]\n",
    "        \n",
    "        if status == \"ACTIVE\":\n",
    "            print(\"Build succeeded for {}\".format(solution_version_arn))\n",
    "            in_progress_solution_versions.remove(solution_version_arn)\n",
    "        elif status == \"CREATE FAILED\":\n",
    "            print(\"Build failed for {}\".format(solution_version_arn))\n",
    "            in_progress_solution_versions.remove(solution_version_arn)\n",
    "    \n",
    "    if len(in_progress_solution_versions) <= 0:\n",
    "        break\n",
    "    else:\n",
    "        print(\"At least one solution build is still in progress\")\n",
    "        \n",
    "    time.sleep(60)"
   ]
  },
  {
   "cell_type": "markdown",
   "id": "910a5c49",
   "metadata": {},
   "source": [
    "Generally speaking, the addition of text-based unstructured meta will increase training time. In our case, you can see above that the solution version that trained on the dataset with product descriptions took about 15 minutes longer than the solution version trained on the dataset without production descriptions. This difference will vary based on the composition and text values for your datasets.\n",
    "\n",
    "Let's inspect the training hours for each solution version and compare them as well."
   ]
  },
  {
   "cell_type": "code",
   "execution_count": 11,
   "id": "3103177a",
   "metadata": {},
   "outputs": [
    {
     "data": {
      "application/vnd.jupyter.widget-view+json": {
       "model_id": "992224d0f3bc413887169465b25f3691",
       "version_major": 2,
       "version_minor": 0
      },
      "text/plain": [
       "interactive(children=(Dropdown(description='Select solutionVersion:', options=('arn:aws:personalize:ap-northea…"
      ]
     },
     "metadata": {},
     "output_type": "display_data"
    },
    {
     "data": {
      "application/vnd.jupyter.widget-view+json": {
       "model_id": "269bdd02a0eb4eb88e7ee8c9311a89b2",
       "version_major": 2,
       "version_minor": 0
      },
      "text/plain": [
       "Button(description='Delete Me!', style=ButtonStyle())"
      ]
     },
     "metadata": {},
     "output_type": "display_data"
    },
    {
     "data": {
      "application/vnd.jupyter.widget-view+json": {
       "model_id": "47b79a061a5c4332960717219586782d",
       "version_major": 2,
       "version_minor": 0
      },
      "text/plain": [
       "Output()"
      ]
     },
     "metadata": {},
     "output_type": "display_data"
    }
   ],
   "source": [
    "ARN_konmari(personalize, 'solutionVersion')"
   ]
  },
  {
   "cell_type": "code",
   "execution_count": 15,
   "id": "d7611408",
   "metadata": {},
   "outputs": [],
   "source": [
    "sims_solution_version_arn= 'arn:aws:personalize:ap-northeast-1:359123155553:solution/amazon-pantry-sims-solution-example-ngym/6ac1584a'"
   ]
  },
  {
   "cell_type": "code",
   "execution_count": 16,
   "id": "f9680183",
   "metadata": {},
   "outputs": [],
   "source": [
    "similar_items_solution_version_arn= 'arn:aws:personalize:ap-northeast-1:359123155553:solution/amazon-pantry-aws-similar-items-solution-example-ngym/94dd5073'\n"
   ]
  },
  {
   "cell_type": "code",
   "execution_count": 17,
   "id": "b426afcd",
   "metadata": {},
   "outputs": [
    {
     "name": "stdout",
     "output_type": "stream",
     "text": [
      "Training hours sims: 1.761\n",
      "Training hours similar items: 3.566\n",
      "Difference of -50.62%\n"
     ]
    }
   ],
   "source": [
    "response = personalize.describe_solution_version(solutionVersionArn = sims_solution_version_arn)\n",
    "training_hours_sims = response['solutionVersion']['trainingHours']\n",
    "\n",
    "response = personalize.describe_solution_version(solutionVersionArn = similar_items_solution_version_arn)\n",
    "training_hours_similar_items = response['solutionVersion']['trainingHours']\n",
    "training_diff = (training_hours_sims - training_hours_similar_items) / training_hours_similar_items\n",
    "\n",
    "print(f\"Training hours sims: {training_hours_sims}\")\n",
    "print(f\"Training hours similar items: {training_hours_similar_items}\")\n",
    "\n",
    "print(\"Difference of {:.2%}\".format(training_diff))"
   ]
  },
  {
   "cell_type": "markdown",
   "id": "b84c75d6",
   "metadata": {},
   "source": [
    "The training hours used for cost calculations was about 50% higher for training with the description column. \n",
    "\n",
    "The wall/clock time and training hours will vary depending on the size of your datasets but this information can help you assess the trade off when considering adding unstructured text to your datasets."
   ]
  },
  {
   "cell_type": "code",
   "execution_count": 63,
   "id": "a0a933a0",
   "metadata": {},
   "outputs": [],
   "source": [
    "sims_solution = {\n",
    "        \"solution_arn\": sims_solution_arn,\n",
    "        \"solution_version_arn\": sims_solution_version_arn\n",
    "}\n",
    "sims_v2_solution = {\n",
    "        \"solution_arn\": similar_items_solution_arn,\n",
    "        \"solution_version_arn\": similar_items_solution_version_arn\n",
    "}"
   ]
  },
  {
   "cell_type": "code",
   "execution_count": 64,
   "id": "f9cacb29",
   "metadata": {},
   "outputs": [],
   "source": [
    "def create_campaign(solution,name):\n",
    "    create_campaign_response = personalize.create_campaign(\n",
    "        name = \"personalize-demo-\" + name + \"example\",\n",
    "        solutionVersionArn = solution['solution_version_arn'],\n",
    "        minProvisionedTPS = 1\n",
    "    )\n",
    "\n",
    "    campaign_arn = create_campaign_response['campaignArn']\n",
    "    print('campaign_arn:' + campaign_arn)\n",
    "    return campaign_arn\n",
    "\n",
    "def waitForCampaign(solution):\n",
    "    max_time = time.time() + 3*60*60 # 3 hours\n",
    "    while time.time() < max_time:\n",
    "        describe_campaign_response = personalize.describe_campaign(\n",
    "            campaignArn = solution['campaign_arn']\n",
    "        )\n",
    "        status = describe_campaign_response[\"campaign\"][\"status\"]\n",
    "        print(\"Campaign: {} {}\".format(solution['campaign_arn'], status))\n",
    "\n",
    "        if status == \"ACTIVE\" or status == \"CREATE FAILED\":\n",
    "            break\n",
    "\n",
    "        time.sleep(60)"
   ]
  },
  {
   "cell_type": "markdown",
   "id": "31b8da73",
   "metadata": {},
   "source": [
    "#### Create and wait for the 2 Campaigns\n",
    "Create a campaign for each of the items similarities recipes, but keep all the other settings the same to demonstrate the impact of the addition of metadata."
   ]
  },
  {
   "cell_type": "code",
   "execution_count": 65,
   "id": "b91299a5",
   "metadata": {},
   "outputs": [
    {
     "name": "stdout",
     "output_type": "stream",
     "text": [
      "campaign_arn:arn:aws:personalize:ap-northeast-1:359123155553:campaign/personalize-demo-simsexample\n",
      "campaign_arn:arn:aws:personalize:ap-northeast-1:359123155553:campaign/personalize-demo-aws-similar-itemsexample\n"
     ]
    }
   ],
   "source": [
    "sims_solution['campaign_arn'] = create_campaign(sims_solution, 'sims')\n",
    "sims_v2_solution['campaign_arn'] = create_campaign(sims_v2_solution, 'aws-similar-items')"
   ]
  },
  {
   "cell_type": "code",
   "execution_count": 66,
   "id": "775cf9c2",
   "metadata": {},
   "outputs": [
    {
     "name": "stdout",
     "output_type": "stream",
     "text": [
      "Campaign: arn:aws:personalize:ap-northeast-1:359123155553:campaign/personalize-demo-simsexample CREATE PENDING\n",
      "Campaign: arn:aws:personalize:ap-northeast-1:359123155553:campaign/personalize-demo-simsexample CREATE IN_PROGRESS\n",
      "Campaign: arn:aws:personalize:ap-northeast-1:359123155553:campaign/personalize-demo-simsexample CREATE IN_PROGRESS\n",
      "Campaign: arn:aws:personalize:ap-northeast-1:359123155553:campaign/personalize-demo-simsexample CREATE IN_PROGRESS\n",
      "Campaign: arn:aws:personalize:ap-northeast-1:359123155553:campaign/personalize-demo-simsexample CREATE IN_PROGRESS\n",
      "Campaign: arn:aws:personalize:ap-northeast-1:359123155553:campaign/personalize-demo-simsexample CREATE IN_PROGRESS\n",
      "Campaign: arn:aws:personalize:ap-northeast-1:359123155553:campaign/personalize-demo-simsexample CREATE IN_PROGRESS\n",
      "Campaign: arn:aws:personalize:ap-northeast-1:359123155553:campaign/personalize-demo-simsexample CREATE IN_PROGRESS\n",
      "Campaign: arn:aws:personalize:ap-northeast-1:359123155553:campaign/personalize-demo-simsexample ACTIVE\n",
      "Campaign: arn:aws:personalize:ap-northeast-1:359123155553:campaign/personalize-demo-aws-similar-itemsexample CREATE IN_PROGRESS\n",
      "Campaign: arn:aws:personalize:ap-northeast-1:359123155553:campaign/personalize-demo-aws-similar-itemsexample CREATE IN_PROGRESS\n",
      "Campaign: arn:aws:personalize:ap-northeast-1:359123155553:campaign/personalize-demo-aws-similar-itemsexample ACTIVE\n"
     ]
    }
   ],
   "source": [
    "waitForCampaign(sims_solution)\n",
    "waitForCampaign(sims_v2_solution)"
   ]
  },
  {
   "cell_type": "markdown",
   "id": "73a13ce2",
   "metadata": {},
   "source": [
    "# Getting Recommendations\n",
    "\n",
    "First we are going to select three types of items to infer with\n",
    "1. Item with a high number of interactions\n",
    "1. Item with a low number of interactions\n",
    "1. Random itemId\n",
    "\n",
    "We will then look at how each of the models behave with each of the provided items\n"
   ]
  },
  {
   "cell_type": "code",
   "execution_count": 69,
   "id": "49e1c7f3",
   "metadata": {},
   "outputs": [
    {
     "data": {
      "text/html": [
       "<div>\n",
       "<style scoped>\n",
       "    .dataframe tbody tr th:only-of-type {\n",
       "        vertical-align: middle;\n",
       "    }\n",
       "\n",
       "    .dataframe tbody tr th {\n",
       "        vertical-align: top;\n",
       "    }\n",
       "\n",
       "    .dataframe thead th {\n",
       "        text-align: right;\n",
       "    }\n",
       "</style>\n",
       "<table border=\"1\" class=\"dataframe\">\n",
       "  <thead>\n",
       "    <tr style=\"text-align: right;\">\n",
       "      <th></th>\n",
       "      <th>USER_ID</th>\n",
       "      <th>ITEM_ID</th>\n",
       "      <th>TIMESTAMP</th>\n",
       "      <th>EVENT_VALUE</th>\n",
       "      <th>EVENT_TYPE</th>\n",
       "    </tr>\n",
       "  </thead>\n",
       "  <tbody>\n",
       "    <tr>\n",
       "      <th>0</th>\n",
       "      <td>A1NKJW0TNRVS7O</td>\n",
       "      <td>B0000DIWNZ</td>\n",
       "      <td>1418515200</td>\n",
       "      <td>5</td>\n",
       "      <td>reviewed</td>\n",
       "    </tr>\n",
       "    <tr>\n",
       "      <th>1</th>\n",
       "      <td>A2L6X37E8TFTCC</td>\n",
       "      <td>B0000DIWNZ</td>\n",
       "      <td>1416441600</td>\n",
       "      <td>4</td>\n",
       "      <td>reviewed</td>\n",
       "    </tr>\n",
       "    <tr>\n",
       "      <th>2</th>\n",
       "      <td>A2WPR4W6V48121</td>\n",
       "      <td>B0000DIWNZ</td>\n",
       "      <td>1412985600</td>\n",
       "      <td>4</td>\n",
       "      <td>reviewed</td>\n",
       "    </tr>\n",
       "    <tr>\n",
       "      <th>4</th>\n",
       "      <td>A1OWT4YZGB5GV9</td>\n",
       "      <td>B0000DIWNZ</td>\n",
       "      <td>1407628800</td>\n",
       "      <td>4</td>\n",
       "      <td>reviewed</td>\n",
       "    </tr>\n",
       "    <tr>\n",
       "      <th>5</th>\n",
       "      <td>A1GN2ADKF1IE7K</td>\n",
       "      <td>B0000DIWNZ</td>\n",
       "      <td>1405296000</td>\n",
       "      <td>5</td>\n",
       "      <td>reviewed</td>\n",
       "    </tr>\n",
       "    <tr>\n",
       "      <th>...</th>\n",
       "      <td>...</td>\n",
       "      <td>...</td>\n",
       "      <td>...</td>\n",
       "      <td>...</td>\n",
       "      <td>...</td>\n",
       "    </tr>\n",
       "    <tr>\n",
       "      <th>471609</th>\n",
       "      <td>A19GSVHXVT5NNF</td>\n",
       "      <td>B01HI8JVI8</td>\n",
       "      <td>1494892800</td>\n",
       "      <td>5</td>\n",
       "      <td>reviewed</td>\n",
       "    </tr>\n",
       "    <tr>\n",
       "      <th>471610</th>\n",
       "      <td>ABSCTKLX9F9IU</td>\n",
       "      <td>B01HI8JVI8</td>\n",
       "      <td>1493769600</td>\n",
       "      <td>5</td>\n",
       "      <td>reviewed</td>\n",
       "    </tr>\n",
       "    <tr>\n",
       "      <th>471611</th>\n",
       "      <td>A2R33RCWKDHZ3L</td>\n",
       "      <td>B01HI8JVI8</td>\n",
       "      <td>1492646400</td>\n",
       "      <td>5</td>\n",
       "      <td>reviewed</td>\n",
       "    </tr>\n",
       "    <tr>\n",
       "      <th>471612</th>\n",
       "      <td>A2INGHYEXZDHMC</td>\n",
       "      <td>B01HI8JVI8</td>\n",
       "      <td>1492560000</td>\n",
       "      <td>5</td>\n",
       "      <td>reviewed</td>\n",
       "    </tr>\n",
       "    <tr>\n",
       "      <th>471613</th>\n",
       "      <td>AJ8M6GVFGIRLS</td>\n",
       "      <td>B01HI8JVI8</td>\n",
       "      <td>1487808000</td>\n",
       "      <td>5</td>\n",
       "      <td>reviewed</td>\n",
       "    </tr>\n",
       "  </tbody>\n",
       "</table>\n",
       "<p>387692 rows × 5 columns</p>\n",
       "</div>"
      ],
      "text/plain": [
       "               USER_ID     ITEM_ID   TIMESTAMP  EVENT_VALUE EVENT_TYPE\n",
       "0       A1NKJW0TNRVS7O  B0000DIWNZ  1418515200            5   reviewed\n",
       "1       A2L6X37E8TFTCC  B0000DIWNZ  1416441600            4   reviewed\n",
       "2       A2WPR4W6V48121  B0000DIWNZ  1412985600            4   reviewed\n",
       "4       A1OWT4YZGB5GV9  B0000DIWNZ  1407628800            4   reviewed\n",
       "5       A1GN2ADKF1IE7K  B0000DIWNZ  1405296000            5   reviewed\n",
       "...                ...         ...         ...          ...        ...\n",
       "471609  A19GSVHXVT5NNF  B01HI8JVI8  1494892800            5   reviewed\n",
       "471610   ABSCTKLX9F9IU  B01HI8JVI8  1493769600            5   reviewed\n",
       "471611  A2R33RCWKDHZ3L  B01HI8JVI8  1492646400            5   reviewed\n",
       "471612  A2INGHYEXZDHMC  B01HI8JVI8  1492560000            5   reviewed\n",
       "471613   AJ8M6GVFGIRLS  B01HI8JVI8  1487808000            5   reviewed\n",
       "\n",
       "[387692 rows x 5 columns]"
      ]
     },
     "execution_count": 69,
     "metadata": {},
     "output_type": "execute_result"
    }
   ],
   "source": [
    "items_interacted_df"
   ]
  },
  {
   "cell_type": "markdown",
   "id": "2ae13686",
   "metadata": {},
   "source": [
    "Lets take a look at our interactions dataset and plot the distribution of items that have been interacted with"
   ]
  },
  {
   "cell_type": "code",
   "execution_count": 68,
   "id": "10166131",
   "metadata": {},
   "outputs": [
    {
     "data": {
      "text/html": [
       "<div>\n",
       "<style scoped>\n",
       "    .dataframe tbody tr th:only-of-type {\n",
       "        vertical-align: middle;\n",
       "    }\n",
       "\n",
       "    .dataframe tbody tr th {\n",
       "        vertical-align: top;\n",
       "    }\n",
       "\n",
       "    .dataframe thead th {\n",
       "        text-align: right;\n",
       "    }\n",
       "</style>\n",
       "<table border=\"1\" class=\"dataframe\">\n",
       "  <thead>\n",
       "    <tr style=\"text-align: right;\">\n",
       "      <th></th>\n",
       "      <th>asin</th>\n",
       "      <th>count</th>\n",
       "    </tr>\n",
       "  </thead>\n",
       "  <tbody>\n",
       "    <tr>\n",
       "      <th>0</th>\n",
       "      <td>B00XA9DADC</td>\n",
       "      <td>5288</td>\n",
       "    </tr>\n",
       "    <tr>\n",
       "      <th>1</th>\n",
       "      <td>B00I3MVY9I</td>\n",
       "      <td>5086</td>\n",
       "    </tr>\n",
       "    <tr>\n",
       "      <th>2</th>\n",
       "      <td>B00W6T13OU</td>\n",
       "      <td>4023</td>\n",
       "    </tr>\n",
       "    <tr>\n",
       "      <th>3</th>\n",
       "      <td>B0014CZUZ8</td>\n",
       "      <td>3225</td>\n",
       "    </tr>\n",
       "    <tr>\n",
       "      <th>4</th>\n",
       "      <td>B0014CSIG6</td>\n",
       "      <td>2600</td>\n",
       "    </tr>\n",
       "    <tr>\n",
       "      <th>...</th>\n",
       "      <td>...</td>\n",
       "      <td>...</td>\n",
       "    </tr>\n",
       "    <tr>\n",
       "      <th>10579</th>\n",
       "      <td>B010D06ZNW</td>\n",
       "      <td>1</td>\n",
       "    </tr>\n",
       "    <tr>\n",
       "      <th>10580</th>\n",
       "      <td>B0111KA1MY</td>\n",
       "      <td>1</td>\n",
       "    </tr>\n",
       "    <tr>\n",
       "      <th>10581</th>\n",
       "      <td>B00CQEIJXI</td>\n",
       "      <td>1</td>\n",
       "    </tr>\n",
       "    <tr>\n",
       "      <th>10582</th>\n",
       "      <td>B0029JZ1TA</td>\n",
       "      <td>1</td>\n",
       "    </tr>\n",
       "    <tr>\n",
       "      <th>10583</th>\n",
       "      <td>B00SUC4CRW</td>\n",
       "      <td>1</td>\n",
       "    </tr>\n",
       "  </tbody>\n",
       "</table>\n",
       "<p>10584 rows × 2 columns</p>\n",
       "</div>"
      ],
      "text/plain": [
       "             asin  count\n",
       "0      B00XA9DADC   5288\n",
       "1      B00I3MVY9I   5086\n",
       "2      B00W6T13OU   4023\n",
       "3      B0014CZUZ8   3225\n",
       "4      B0014CSIG6   2600\n",
       "...           ...    ...\n",
       "10579  B010D06ZNW      1\n",
       "10580  B0111KA1MY      1\n",
       "10581  B00CQEIJXI      1\n",
       "10582  B0029JZ1TA      1\n",
       "10583  B00SUC4CRW      1\n",
       "\n",
       "[10584 rows x 2 columns]"
      ]
     },
     "execution_count": 68,
     "metadata": {},
     "output_type": "execute_result"
    }
   ],
   "source": [
    "items_interacted_df = positive_reviews_df.copy()\n",
    "# Getting unique aisns counts\n",
    "asin_interaction_count = items_interacted_df['ITEM_ID'].value_counts()\n",
    "# Transforming panda series to df\n",
    "asin_interaction_count_df = pd.DataFrame({'asin':asin_interaction_count.index, 'count':asin_interaction_count.values})\n",
    "asin_interaction_count_df"
   ]
  },
  {
   "cell_type": "code",
   "execution_count": 59,
   "id": "ddf879c7",
   "metadata": {},
   "outputs": [
    {
     "data": {
      "text/html": [
       "<div>\n",
       "<style scoped>\n",
       "    .dataframe tbody tr th:only-of-type {\n",
       "        vertical-align: middle;\n",
       "    }\n",
       "\n",
       "    .dataframe tbody tr th {\n",
       "        vertical-align: top;\n",
       "    }\n",
       "\n",
       "    .dataframe thead th {\n",
       "        text-align: right;\n",
       "    }\n",
       "</style>\n",
       "<table border=\"1\" class=\"dataframe\">\n",
       "  <thead>\n",
       "    <tr style=\"text-align: right;\">\n",
       "      <th></th>\n",
       "      <th>count</th>\n",
       "    </tr>\n",
       "  </thead>\n",
       "  <tbody>\n",
       "    <tr>\n",
       "      <th>count</th>\n",
       "      <td>10584.000000</td>\n",
       "    </tr>\n",
       "    <tr>\n",
       "      <th>mean</th>\n",
       "      <td>36.630008</td>\n",
       "    </tr>\n",
       "    <tr>\n",
       "      <th>std</th>\n",
       "      <td>123.480233</td>\n",
       "    </tr>\n",
       "    <tr>\n",
       "      <th>min</th>\n",
       "      <td>1.000000</td>\n",
       "    </tr>\n",
       "    <tr>\n",
       "      <th>25%</th>\n",
       "      <td>4.000000</td>\n",
       "    </tr>\n",
       "    <tr>\n",
       "      <th>50%</th>\n",
       "      <td>12.000000</td>\n",
       "    </tr>\n",
       "    <tr>\n",
       "      <th>75%</th>\n",
       "      <td>33.250000</td>\n",
       "    </tr>\n",
       "    <tr>\n",
       "      <th>max</th>\n",
       "      <td>5288.000000</td>\n",
       "    </tr>\n",
       "  </tbody>\n",
       "</table>\n",
       "</div>"
      ],
      "text/plain": [
       "              count\n",
       "count  10584.000000\n",
       "mean      36.630008\n",
       "std      123.480233\n",
       "min        1.000000\n",
       "25%        4.000000\n",
       "50%       12.000000\n",
       "75%       33.250000\n",
       "max     5288.000000"
      ]
     },
     "execution_count": 59,
     "metadata": {},
     "output_type": "execute_result"
    }
   ],
   "source": [
    "asin_interaction_count_df.describe(include='int')"
   ]
  },
  {
   "cell_type": "markdown",
   "id": "adba267a",
   "metadata": {},
   "source": [
    "As we can see above, the highest interacted item has ~5k interactions, lets plot the distribution of all items. Here we can see that there are items with high number of interactions and some with very low to non interactions."
   ]
  },
  {
   "cell_type": "code",
   "execution_count": 60,
   "id": "6bc8469c",
   "metadata": {},
   "outputs": [
    {
     "data": {
      "text/plain": [
       "<AxesSubplot:>"
      ]
     },
     "execution_count": 60,
     "metadata": {},
     "output_type": "execute_result"
    },
    {
     "data": {
      "image/png": "[encoded data removed]",
      "text/plain": [
       "<Figure size 432x288 with 1 Axes>"
      ]
     },
     "metadata": {
      "needs_background": "light"
     },
     "output_type": "display_data"
    }
   ],
   "source": [
    "asin_interaction_count_df.plot()"
   ]
  },
  {
   "cell_type": "markdown",
   "id": "b01ccd0c",
   "metadata": {},
   "source": [
    "Below we can see a closer look at items with 100 to 300 interactions. These are going to give us the most variable results when testing."
   ]
  },
  {
   "cell_type": "code",
   "execution_count": 61,
   "id": "986da950",
   "metadata": {},
   "outputs": [
    {
     "data": {
      "text/plain": [
       "<AxesSubplot:>"
      ]
     },
     "execution_count": 61,
     "metadata": {},
     "output_type": "execute_result"
    },
    {
     "data": {
      "image/png": "[encoded data removed]",
      "text/plain": [
       "<Figure size 432x288 with 1 Axes>"
      ]
     },
     "metadata": {
      "needs_background": "light"
     },
     "output_type": "display_data"
    }
   ],
   "source": [
    "zoom_interactions = asin_interaction_count_df.copy()\n",
    "zoom_interactions = zoom_interactions.loc[(zoom_interactions[\"count\"] > 100) & (zoom_interactions[\"count\"] < 300)]\n",
    "zoom_interactions.plot()"
   ]
  },
  {
   "cell_type": "markdown",
   "id": "a4c13ae0",
   "metadata": {},
   "source": [
    "Now lets define some functions to explore the items metadata"
   ]
  },
  {
   "cell_type": "code",
   "execution_count": 70,
   "id": "7de35d59",
   "metadata": {},
   "outputs": [],
   "source": [
    "# https://www.geeksforgeeks.org/how-to-select-rows-from-a-dataframe-based-on-column-values/\n",
    "def get_item_brand(item_id):\n",
    "    \"\"\"\n",
    "    Takes in an ID, returns its brand\n",
    "    \"\"\"\n",
    "\n",
    "    return items_df.query('ITEM_ID==\"{}\"'.format(item_id))['BRAND'].item()\n",
    "\n",
    "def get_item_price(item_id):\n",
    "    \"\"\"\n",
    "    Takes in an ID, returns its brand\n",
    "    \"\"\"\n",
    "\n",
    "    return items_df.query('ITEM_ID==\"{}\"'.format(item_id))['PRICE'].item()\n",
    "\n",
    "def get_item_description(item_id):\n",
    "    \"\"\"\n",
    "    Takes in an ID, returns its brand\n",
    "    \"\"\"\n",
    "\n",
    "    return items_df.query('ITEM_ID==\"{}\"'.format(item_id))['DESCRIPTION'].item()\n",
    "def get_item_df(item_id):\n",
    "    \"\"\"\n",
    "    Takes in an ID, returns a title\n",
    "    \"\"\"\n",
    "    temp_df = items_df.query('ITEM_ID==\"{}\"'.format(item_id))\n",
    "  \n",
    "    temp_df['INTERACTIONS_COUNT'] = get_item_count(item_id)\n",
    "    return temp_df\n",
    "def get_item_count(item_id):\n",
    "    return asin_interaction_count_df.query('asin==\"{}\"'.format(item_id))['count'].item()\n",
    "    \n",
    "def get_recs_df(item_id, campaign):\n",
    "    response = personalize_runtime.get_recommendations(\n",
    "        campaignArn=campaign,\n",
    "        itemId=item_id,\n",
    "        numResults=10\n",
    "    )\n",
    "    return clean_recs_list(response['itemList'])\n",
    "\n",
    "def clean_recs_list(rec_list):\n",
    "    items = []\n",
    "    for each in rec_list:\n",
    "        items.append([each['itemId'], get_item_brand(each['itemId']), get_item_price(each['itemId']), get_item_description(each['itemId']), get_item_count(each['itemId'])])\n",
    "    return pd.DataFrame (items, columns = ['ITEM_ID', 'BRAND', 'PRICE','DESCRIPTION', 'INTERACTIONS_COUNT'])"
   ]
  },
  {
   "cell_type": "markdown",
   "id": "3eebb0b3",
   "metadata": {},
   "source": [
    "Lets get a random item id and explore each model recommendations"
   ]
  },
  {
   "cell_type": "code",
   "execution_count": 63,
   "id": "67aff735",
   "metadata": {},
   "outputs": [
    {
     "data": {
      "text/plain": [
       "'B012X39R5K'"
      ]
     },
     "execution_count": 63,
     "metadata": {},
     "output_type": "execute_result"
    }
   ],
   "source": [
    "asin_interaction_count_df.sample()['asin'].item()"
   ]
  },
  {
   "cell_type": "code",
   "execution_count": 71,
   "id": "e3d55d73",
   "metadata": {},
   "outputs": [
    {
     "name": "stderr",
     "output_type": "stream",
     "text": [
      "/home/ec2-user/anaconda3/envs/python3/lib/python3.6/site-packages/ipykernel/__main__.py:28: SettingWithCopyWarning: \n",
      "A value is trying to be set on a copy of a slice from a DataFrame.\n",
      "Try using .loc[row_indexer,col_indexer] = value instead\n",
      "\n",
      "See the caveats in the documentation: https://pandas.pydata.org/pandas-docs/stable/user_guide/indexing.html#returning-a-view-versus-a-copy\n"
     ]
    }
   ],
   "source": [
    "asin = asin_interaction_count_df.sample(1)['asin'].item()\n",
    "recommended_item_df = get_item_df(asin)\n",
    "recommendations_sims_df = get_recs_df(asin,sims_solution['campaign_arn'])\n",
    "recommendations_sims_v2_df = get_recs_df(asin,sims_v2_solution['campaign_arn'])"
   ]
  },
  {
   "cell_type": "markdown",
   "id": "927a61e2",
   "metadata": {},
   "source": [
    "This is the item we are going to run inference against, as we can see here we have the brand, price, and number of interactions. The theory is that for items with low interactions SIMS will return mostly popular items, and the new aws-item-similarity recipe will return items more related to the current item metadata"
   ]
  },
  {
   "cell_type": "code",
   "execution_count": 72,
   "id": "55270a03",
   "metadata": {},
   "outputs": [
    {
     "data": {
      "text/html": [
       "<div>\n",
       "<style scoped>\n",
       "    .dataframe tbody tr th:only-of-type {\n",
       "        vertical-align: middle;\n",
       "    }\n",
       "\n",
       "    .dataframe tbody tr th {\n",
       "        vertical-align: top;\n",
       "    }\n",
       "\n",
       "    .dataframe thead th {\n",
       "        text-align: right;\n",
       "    }\n",
       "</style>\n",
       "<table border=\"1\" class=\"dataframe\">\n",
       "  <thead>\n",
       "    <tr style=\"text-align: right;\">\n",
       "      <th></th>\n",
       "      <th>ITEM_ID</th>\n",
       "      <th>BRAND</th>\n",
       "      <th>PRICE</th>\n",
       "      <th>DESCRIPTION</th>\n",
       "      <th>INTERACTIONS_COUNT</th>\n",
       "    </tr>\n",
       "  </thead>\n",
       "  <tbody>\n",
       "    <tr>\n",
       "      <th>3563</th>\n",
       "      <td>B00V1P4O1Y</td>\n",
       "      <td>Quaker</td>\n",
       "      <td>2.99</td>\n",
       "      <td>Enjoy a bowl of Quaker High Fiber Cinnamon Swi...</td>\n",
       "      <td>33</td>\n",
       "    </tr>\n",
       "  </tbody>\n",
       "</table>\n",
       "</div>"
      ],
      "text/plain": [
       "         ITEM_ID   BRAND  PRICE  \\\n",
       "3563  B00V1P4O1Y  Quaker   2.99   \n",
       "\n",
       "                                            DESCRIPTION  INTERACTIONS_COUNT  \n",
       "3563  Enjoy a bowl of Quaker High Fiber Cinnamon Swi...                  33  "
      ]
     },
     "execution_count": 72,
     "metadata": {},
     "output_type": "execute_result"
    }
   ],
   "source": [
    "recommended_item_df"
   ]
  },
  {
   "cell_type": "code",
   "execution_count": 73,
   "id": "16c90069",
   "metadata": {},
   "outputs": [
    {
     "data": {
      "text/plain": [
       "\"Enjoy a bowl of Quaker High Fiber Cinnamon Swirl Instant Oatmeal for energy and nutrition you want for the morning ahead. You can meet 40% of your daily fiber needs (based on a 2,000-calorie diet) with just one serving. A serving of High Fiber Cinnamon Swirl Oatmeal also contains calcium, iron, and five other vitamins and minerals. Quaker oats are made from 100% whole grain oats, with a Cinnamon Swirl flavor for a sweet taste. Getting a bowl of High Fiber Cinnamon Swirl Oatmeal ready is simple enough to do on even the busiest morning. Just put the oatmeal packet contents in a bowl, measure and add boiling water, and stir. Your oatmeal is ready to eat 90 seconds later. And your wholesome breakfast option isn't limited to home. Single-serving packets let you make a hearty and tasty meal anywhere there's hot water. For more than 135 years, Quaker's brands have served as symbols of quality, great taste and nutrition. Holding leadership positions in their respective categories, Quaker Oats and Quaker Rice Cakes are consumer favorites***. For more information, please visit our website, our Facebook page or follow us on Twitter @Quaker. ***According to IRI latest 52 weeks dollar sales data ending April 17, 2016.\""
      ]
     },
     "execution_count": 73,
     "metadata": {},
     "output_type": "execute_result"
    }
   ],
   "source": [
    "recommended_item_df['DESCRIPTION'].item()"
   ]
  },
  {
   "cell_type": "code",
   "execution_count": 74,
   "id": "7ecb0841",
   "metadata": {},
   "outputs": [
    {
     "data": {
      "text/html": [
       "<div>\n",
       "<style scoped>\n",
       "    .dataframe tbody tr th:only-of-type {\n",
       "        vertical-align: middle;\n",
       "    }\n",
       "\n",
       "    .dataframe tbody tr th {\n",
       "        vertical-align: top;\n",
       "    }\n",
       "\n",
       "    .dataframe thead th {\n",
       "        text-align: right;\n",
       "    }\n",
       "</style>\n",
       "<table border=\"1\" class=\"dataframe\">\n",
       "  <thead>\n",
       "    <tr style=\"text-align: right;\">\n",
       "      <th></th>\n",
       "      <th>ITEM_ID</th>\n",
       "      <th>BRAND</th>\n",
       "      <th>PRICE</th>\n",
       "      <th>DESCRIPTION</th>\n",
       "      <th>INTERACTIONS_COUNT</th>\n",
       "    </tr>\n",
       "  </thead>\n",
       "  <tbody>\n",
       "    <tr>\n",
       "      <th>0</th>\n",
       "      <td>B00XA9DADC</td>\n",
       "      <td>Twinings</td>\n",
       "      <td>8.00</td>\n",
       "      <td>Made with 100% pure peppermint leaves. An upli...</td>\n",
       "      <td>5288</td>\n",
       "    </tr>\n",
       "    <tr>\n",
       "      <th>1</th>\n",
       "      <td>B00I3MVY9I</td>\n",
       "      <td>Crest</td>\n",
       "      <td>NaN</td>\n",
       "      <td>Unleash A Brilliantly Dimensional Smile A 3D W...</td>\n",
       "      <td>5086</td>\n",
       "    </tr>\n",
       "    <tr>\n",
       "      <th>2</th>\n",
       "      <td>B00W6T13OU</td>\n",
       "      <td>Brooklyn Beans</td>\n",
       "      <td>NaN</td>\n",
       "      <td>In Brooklyn, we know a thing or two about bein...</td>\n",
       "      <td>4023</td>\n",
       "    </tr>\n",
       "    <tr>\n",
       "      <th>3</th>\n",
       "      <td>B00HZ6X8QU</td>\n",
       "      <td>Tide</td>\n",
       "      <td>11.99</td>\n",
       "      <td>Tide Original liquid laundry detergent provide...</td>\n",
       "      <td>1791</td>\n",
       "    </tr>\n",
       "    <tr>\n",
       "      <th>4</th>\n",
       "      <td>B0014CZUZ8</td>\n",
       "      <td>Planters</td>\n",
       "      <td>5.98</td>\n",
       "      <td>Nuts are the heroes of wholesome snacking. And...</td>\n",
       "      <td>3225</td>\n",
       "    </tr>\n",
       "    <tr>\n",
       "      <th>5</th>\n",
       "      <td>B00I9KR31C</td>\n",
       "      <td>Viva</td>\n",
       "      <td>NaN</td>\n",
       "      <td>View larger Product Description Dinner is over...</td>\n",
       "      <td>1467</td>\n",
       "    </tr>\n",
       "    <tr>\n",
       "      <th>6</th>\n",
       "      <td>B00W6T208I</td>\n",
       "      <td>Celestial Seasonings</td>\n",
       "      <td>NaN</td>\n",
       "      <td>A full-bodied black tea made from ingredients ...</td>\n",
       "      <td>1415</td>\n",
       "    </tr>\n",
       "    <tr>\n",
       "      <th>7</th>\n",
       "      <td>B00I8YJZ4M</td>\n",
       "      <td>Tom's of Maine</td>\n",
       "      <td>3.79</td>\n",
       "      <td>Toms of Maine Goodness Day Mt. Agamenticus loc...</td>\n",
       "      <td>1403</td>\n",
       "    </tr>\n",
       "    <tr>\n",
       "      <th>8</th>\n",
       "      <td>B00ICZZCEE</td>\n",
       "      <td>Pure Protein</td>\n",
       "      <td>7.09</td>\n",
       "      <td>Pure Protein 23 Grams, Vanilla Creme(4 Count, ...</td>\n",
       "      <td>1429</td>\n",
       "    </tr>\n",
       "    <tr>\n",
       "      <th>9</th>\n",
       "      <td>B0014CSIG6</td>\n",
       "      <td>Mauna Loa</td>\n",
       "      <td>NaN</td>\n",
       "      <td>2g Net carbs. Taste of the tropics. Share this...</td>\n",
       "      <td>2600</td>\n",
       "    </tr>\n",
       "  </tbody>\n",
       "</table>\n",
       "</div>"
      ],
      "text/plain": [
       "      ITEM_ID                 BRAND  PRICE  \\\n",
       "0  B00XA9DADC              Twinings   8.00   \n",
       "1  B00I3MVY9I                 Crest    NaN   \n",
       "2  B00W6T13OU        Brooklyn Beans    NaN   \n",
       "3  B00HZ6X8QU                  Tide  11.99   \n",
       "4  B0014CZUZ8              Planters   5.98   \n",
       "5  B00I9KR31C                  Viva    NaN   \n",
       "6  B00W6T208I  Celestial Seasonings    NaN   \n",
       "7  B00I8YJZ4M        Tom's of Maine   3.79   \n",
       "8  B00ICZZCEE          Pure Protein   7.09   \n",
       "9  B0014CSIG6             Mauna Loa    NaN   \n",
       "\n",
       "                                         DESCRIPTION  INTERACTIONS_COUNT  \n",
       "0  Made with 100% pure peppermint leaves. An upli...                5288  \n",
       "1  Unleash A Brilliantly Dimensional Smile A 3D W...                5086  \n",
       "2  In Brooklyn, we know a thing or two about bein...                4023  \n",
       "3  Tide Original liquid laundry detergent provide...                1791  \n",
       "4  Nuts are the heroes of wholesome snacking. And...                3225  \n",
       "5  View larger Product Description Dinner is over...                1467  \n",
       "6  A full-bodied black tea made from ingredients ...                1415  \n",
       "7  Toms of Maine Goodness Day Mt. Agamenticus loc...                1403  \n",
       "8  Pure Protein 23 Grams, Vanilla Creme(4 Count, ...                1429  \n",
       "9  2g Net carbs. Taste of the tropics. Share this...                2600  "
      ]
     },
     "execution_count": 74,
     "metadata": {},
     "output_type": "execute_result"
    }
   ],
   "source": [
    "recommendations_sims_df"
   ]
  },
  {
   "cell_type": "markdown",
   "id": "bf56e749",
   "metadata": {},
   "source": [
    "Cost category and product groupings"
   ]
  },
  {
   "cell_type": "code",
   "execution_count": 75,
   "id": "4752c39b",
   "metadata": {},
   "outputs": [
    {
     "data": {
      "text/html": [
       "<div>\n",
       "<style scoped>\n",
       "    .dataframe tbody tr th:only-of-type {\n",
       "        vertical-align: middle;\n",
       "    }\n",
       "\n",
       "    .dataframe tbody tr th {\n",
       "        vertical-align: top;\n",
       "    }\n",
       "\n",
       "    .dataframe thead th {\n",
       "        text-align: right;\n",
       "    }\n",
       "</style>\n",
       "<table border=\"1\" class=\"dataframe\">\n",
       "  <thead>\n",
       "    <tr style=\"text-align: right;\">\n",
       "      <th></th>\n",
       "      <th>ITEM_ID</th>\n",
       "      <th>BRAND</th>\n",
       "      <th>PRICE</th>\n",
       "      <th>DESCRIPTION</th>\n",
       "      <th>INTERACTIONS_COUNT</th>\n",
       "    </tr>\n",
       "  </thead>\n",
       "  <tbody>\n",
       "    <tr>\n",
       "      <th>0</th>\n",
       "      <td>B015TYDZTE</td>\n",
       "      <td>Bounty</td>\n",
       "      <td>11.42</td>\n",
       "      <td>Ever try one of those bargain' paper towels an...</td>\n",
       "      <td>606</td>\n",
       "    </tr>\n",
       "    <tr>\n",
       "      <th>1</th>\n",
       "      <td>B000SSS6AU</td>\n",
       "      <td>Scotch-Brite</td>\n",
       "      <td>2.56</td>\n",
       "      <td>Keep your cookware performing at its best with...</td>\n",
       "      <td>338</td>\n",
       "    </tr>\n",
       "    <tr>\n",
       "      <th>2</th>\n",
       "      <td>B011DX5G92</td>\n",
       "      <td>Charmin</td>\n",
       "      <td>6.99</td>\n",
       "      <td>Charmin Ultra Strong toilet paper cleans bette...</td>\n",
       "      <td>536</td>\n",
       "    </tr>\n",
       "    <tr>\n",
       "      <th>3</th>\n",
       "      <td>B00NAZ5TW6</td>\n",
       "      <td>Kleenex</td>\n",
       "      <td>2.99</td>\n",
       "      <td>Hands are only as clean as the towels used to ...</td>\n",
       "      <td>73</td>\n",
       "    </tr>\n",
       "    <tr>\n",
       "      <th>4</th>\n",
       "      <td>B00NP79AI8</td>\n",
       "      <td>Nestle Pure Life</td>\n",
       "      <td>2.23</td>\n",
       "      <td>Nestle Pure Life Purified Water (.5-liter / 12...</td>\n",
       "      <td>678</td>\n",
       "    </tr>\n",
       "    <tr>\n",
       "      <th>5</th>\n",
       "      <td>B00R1H0SCA</td>\n",
       "      <td>Nature Valley</td>\n",
       "      <td>2.98</td>\n",
       "      <td>Made with 100% Natural Whole Grain Oats; 16g o...</td>\n",
       "      <td>66</td>\n",
       "    </tr>\n",
       "    <tr>\n",
       "      <th>6</th>\n",
       "      <td>B01BK9MXZE</td>\n",
       "      <td>Nature Valley</td>\n",
       "      <td>2.95</td>\n",
       "      <td>Each biscuit has a delicious crisp texture and...</td>\n",
       "      <td>282</td>\n",
       "    </tr>\n",
       "    <tr>\n",
       "      <th>7</th>\n",
       "      <td>B015O6PSO2</td>\n",
       "      <td>Frito Lay</td>\n",
       "      <td>10.67</td>\n",
       "      <td>With pre-portioned bags of your favorite snack...</td>\n",
       "      <td>394</td>\n",
       "    </tr>\n",
       "    <tr>\n",
       "      <th>8</th>\n",
       "      <td>B013OY25GA</td>\n",
       "      <td>Snack Pack</td>\n",
       "      <td>2.78</td>\n",
       "      <td>Give your kids a delicious treat with the Snac...</td>\n",
       "      <td>249</td>\n",
       "    </tr>\n",
       "    <tr>\n",
       "      <th>9</th>\n",
       "      <td>B0014CZUZ8</td>\n",
       "      <td>Planters</td>\n",
       "      <td>5.98</td>\n",
       "      <td>Nuts are the heroes of wholesome snacking. And...</td>\n",
       "      <td>3225</td>\n",
       "    </tr>\n",
       "  </tbody>\n",
       "</table>\n",
       "</div>"
      ],
      "text/plain": [
       "      ITEM_ID             BRAND  PRICE  \\\n",
       "0  B015TYDZTE            Bounty  11.42   \n",
       "1  B000SSS6AU      Scotch-Brite   2.56   \n",
       "2  B011DX5G92           Charmin   6.99   \n",
       "3  B00NAZ5TW6           Kleenex   2.99   \n",
       "4  B00NP79AI8  Nestle Pure Life   2.23   \n",
       "5  B00R1H0SCA     Nature Valley   2.98   \n",
       "6  B01BK9MXZE     Nature Valley   2.95   \n",
       "7  B015O6PSO2         Frito Lay  10.67   \n",
       "8  B013OY25GA        Snack Pack   2.78   \n",
       "9  B0014CZUZ8          Planters   5.98   \n",
       "\n",
       "                                         DESCRIPTION  INTERACTIONS_COUNT  \n",
       "0  Ever try one of those bargain' paper towels an...                 606  \n",
       "1  Keep your cookware performing at its best with...                 338  \n",
       "2  Charmin Ultra Strong toilet paper cleans bette...                 536  \n",
       "3  Hands are only as clean as the towels used to ...                  73  \n",
       "4  Nestle Pure Life Purified Water (.5-liter / 12...                 678  \n",
       "5  Made with 100% Natural Whole Grain Oats; 16g o...                  66  \n",
       "6  Each biscuit has a delicious crisp texture and...                 282  \n",
       "7  With pre-portioned bags of your favorite snack...                 394  \n",
       "8  Give your kids a delicious treat with the Snac...                 249  \n",
       "9  Nuts are the heroes of wholesome snacking. And...                3225  "
      ]
     },
     "execution_count": 75,
     "metadata": {},
     "output_type": "execute_result"
    }
   ],
   "source": [
    "recommendations_sims_v2_df"
   ]
  },
  {
   "cell_type": "markdown",
   "id": "7235bb42",
   "metadata": {},
   "source": [
    "Let's print the descriptions too see if they match our item theme"
   ]
  },
  {
   "cell_type": "code",
   "execution_count": 76,
   "id": "f154010d",
   "metadata": {},
   "outputs": [
    {
     "name": "stdout",
     "output_type": "stream",
     "text": [
      "----ITEM----\n",
      "Recommendation number 1, BRAND: Bounty, PRICE: 11.42\n",
      "----DESCRIPTION----\n",
      "Ever try one of those bargain' paper towels and go through so many sheets that the roll just disappears? With Bounty, the roll doesnt disappear. Bounty paper towels are 2X more absorbent,* so the roll can last up to 50% longer,* Bounty quickly absorbs messes, so you can clean up and move on without wasting time or towels. Plus, it comes in a variety of sizes and prints, including Bounty Select-A-Size, so you can choose the Bounty paper towel that's best for you and your family. Choose the paper towel you can count on: Bounty, the longer-lasting Quicker Picker Upper.* *Vs. leading ordinary brand. Dont be let down by bargain brand paper towels that tear and disappear in days. Try Bounty instead. Bounty is 2x more absorbent,* so you can pick up messes with as little as one sheet. And that means you dont have to keep pulling on a roll of Bounty, because it can last 50% longer. You'll spend more time doing the things you want and less time worrying about running out. *vs. the leading ordinary brand. Bountys prints are also available in Bounty Napkins. So you can add some fun to the dinner table. Bounty Prints are sold in an assortment of prints for a surprise in every pack!\n",
      "----ITEM----\n",
      "Recommendation number 2, BRAND: Scotch-Brite, PRICE: 2.56\n",
      "----DESCRIPTION----\n",
      "Keep your cookware performing at its best with the help of Scotch-Brite Non-Scratch Scrub Sponge. The scour pad scrubs away tough, baked-on messes like scrambled eggs and cheese while protecting the non-stick properties of your pots and pans. Use the sponge to gently absorb and wipe away messes from your countertops to your sink. Tidy up in a flash with the powerful, yet gentle, cleaning power of Scotch-Brite Non-Scratch Scrub Sponge. The Scotch-Brite Multi-Purpose No Scratch Scrub Sponge is safe for most surfaces in the kitchen such as all Teflon and Silverstone coated cookware, dishes and china, counter tops, aluminum and cast iron, enamel and porcelain, appliances, fruits and vegetables. For the bathroom, the Scrub Sponge will safely scrub tile, shower doors and fixtures. All through the household, Scotch-Brite Scrub Sponge will clean walls, spot clean carpets, spot clean clothing, suede shoes and hats. Take your Scrub Sponge outside for use on automobiles for cleaning chrome and can be used to prepare tires and whitewalls for detailing and can remove insects from bumpers, grills and windows. The Scotch-Brite Non-Scratch Scrub Sponge means no worries, no scratches, no excuses! It wipes away messes from nonstick cookware, countertops or any other surface with a finish you don't want to scratch. And, its wavy shape is comfortable to hold. Just sanitize in the dishwasher and reuse! Check out Scotch-Brites No.1 selling dish wand. It keeps hands out of the mess and can get into the hard to reach areas brushes cant.\n",
      "----ITEM----\n",
      "Recommendation number 3, BRAND: Charmin, PRICE: 6.99\n",
      "----DESCRIPTION----\n",
      "Charmin Ultra Strong toilet paper cleans better versus the leading bargain brand with fewer sheets. Its washcloth-like texture is stronger* and you can use less versus the leading bargain brand. When you buy Charmin Ultra Strong Mega Roll toilet paper you get a big, long-lasting roll because one Charmin Mega Roll equals 4 Regular Rolls**. We all go to the bathroom, those who go with Charmin Ultra Strong toilet paper really Enjoy the Go! (*when wet vs. the leading bargain brand; **Based on number of sheets in Charmin Regular Roll bath tissue)\n",
      "----ITEM----\n",
      "Recommendation number 4, BRAND: Kleenex, PRICE: 2.99\n",
      "----DESCRIPTION----\n",
      "Hands are only as clean as the towels used to dry them. Use a clean, fresh, dry towel every time with Kleenex Hand Towels. Single-use hand towels help reduce the spread of germs. You just toss the germs away! Free of inks, dyes and fragrances, our 1-ply paper hand towels have absorbent dry-touch fibers. Have the confidence of Kleenex in every room in your house.\n",
      "----ITEM----\n",
      "Recommendation number 5, BRAND: Nestle Pure Life, PRICE: 2.23\n",
      "----DESCRIPTION----\n",
      "Nestle Pure Life Purified Water (.5-liter / 12-pack) comes in convenient plastic, resealable bottles, for easy, on-the-go hydration. And, with no calories and no sweeteners, water is a smart choice as a refreshing beverage. Our bottled water undergoes a rigorous 12-step quality process as part of our commitment to consistently delivering crisp, clean water. We also enhance our purified water with a light blend of minerals for a distinctive, refreshing taste everyone can enjoy. No wonder it's the #1 bottled water globally. Pure Life Begins Now. customer support no: 866-599-8980 Website: www.nestle-purelife.us Hydration is important for overall health and well-being, but lets face it, life is busy and sometimes it goes overlooked in frenzied schedules. But it can be so much easier when you find hydration opportunities throughout your day. Start your morning with water. Start snack time with water. Start family time with water. With a variety of sizes that pair perfectly with different activities, its easy to stay hydrated throughout your busy day.\n",
      "----ITEM----\n",
      "Recommendation number 6, BRAND: Nature Valley, PRICE: 2.98\n",
      "----DESCRIPTION----\n",
      "Made with 100% Natural Whole Grain Oats; 16g of Whole Grain per Serving - 48g Whole Grain recommended daily Whole grain oats are the first ingredient in Nature Valley Crunchy Bars. Made with simple ingredients for a pure, simple taste. Nature Valley Crunchy Bars provide the energy you need to conquer everyday challenges.\n",
      "----ITEM----\n",
      "Recommendation number 7, BRAND: Nature Valley, PRICE: 2.95\n",
      "----DESCRIPTION----\n",
      "Each biscuit has a delicious crisp texture and 100% natural whole grain oats combined with the goodness of almond butter. Whole grain oats are the first ingredient in Nature Valley Biscuits. Made with simple ingredients like oats, honey and creamy nut butters for a pure, simple taste. Nature Valley Biscuits provide the energy you need to conquer everyday challenges.\n",
      "----ITEM----\n",
      "Recommendation number 8, BRAND: Frito Lay, PRICE: 10.67\n",
      "----DESCRIPTION----\n",
      "With pre-portioned bags of your favorite snacks, its no wonder why Frito-Lay variety packs are a family tradition! whether youre celebrating a big win on the soccer field, taking a family road trip, or thinking about an afternoon snack, Frito-Lay variety packs have everybodys snack needs covered. When you grab a Frito-Lay variety pack, youre ready for anything. 32 count variety pack of four 1 ounce. Bags of lays classic potato chips, five 1 ounce. Bags of CHEETOS crunchy cheese flavored snacks, three 1 ounce. Bags of FRITOS chili cheese flavored corn chips, three 1 ounce. Bags of lays barbecue flavored potato chips, four ounce. Bags of FUNYUNS snacks, five 1 ounce. Bags of DORITOS nacho cheese flavored tortilla chips, four 1 ounce. Bags of FRITOS original corn chips, four 1 ounce. Bags of lays wavy ranch flavored potato chips. 32 Count Party Mix\n",
      "----ITEM----\n",
      "Recommendation number 9, BRAND: Snack Pack, PRICE: 2.78\n",
      "----DESCRIPTION----\n",
      "Give your kids a delicious treat with the Snack Pack Chocolate and Vanilla Pudding Cups Family Pack. Snack Pack Pudding Cups have all of the creamy goodness you could want in a snack and are sure to bring a smile to snack time. Creamy, delicious Snack Pack pudding is made with real milk and no high-fructose corn syrup for a sweet snack. Take your sack lunch to the next level with this awesome dessert that's perfect for on-the-go snacking. Both Chocolate and Vanilla Snack Pack Pudding Cups have 100 calories with no preservatives and zero grams trans fat per 3.25 oz serving. Each pack contains 6 Chocolate and 6 Vanilla Pudding Cups.\n",
      "----ITEM----\n",
      "Recommendation number 10, BRAND: Planters, PRICE: 5.98\n",
      "----DESCRIPTION----\n",
      "Nuts are the heroes of wholesome snacking. And Planters offers a wide variety of delicious nuts. When you're looking for snacks with protein and nutrients, grab a handful of Planters nuts (or try one of our snack bags).\n"
     ]
    }
   ],
   "source": [
    "for index, row in recommendations_sims_v2_df.iterrows():\n",
    "    print('----ITEM----')\n",
    "    print('Recommendation number {index}, BRAND: {brand}, PRICE: {price}'.format(index=index+1, brand=row['BRAND'], price=row['PRICE']))\n",
    "    print('----DESCRIPTION----')\n",
    "    print(row['DESCRIPTION'])\n"
   ]
  },
  {
   "cell_type": "markdown",
   "id": "0eaa42b0",
   "metadata": {},
   "source": [
    "# Targeted examples\n",
    "\n",
    "Now let's take a look at some more targeted items to see how these two models behave"
   ]
  },
  {
   "cell_type": "markdown",
   "id": "1b110ccc",
   "metadata": {},
   "source": [
    "## Popular item"
   ]
  },
  {
   "cell_type": "code",
   "execution_count": 77,
   "id": "fb22c722",
   "metadata": {},
   "outputs": [
    {
     "name": "stderr",
     "output_type": "stream",
     "text": [
      "/home/ec2-user/anaconda3/envs/python3/lib/python3.6/site-packages/ipykernel/__main__.py:28: SettingWithCopyWarning: \n",
      "A value is trying to be set on a copy of a slice from a DataFrame.\n",
      "Try using .loc[row_indexer,col_indexer] = value instead\n",
      "\n",
      "See the caveats in the documentation: https://pandas.pydata.org/pandas-docs/stable/user_guide/indexing.html#returning-a-view-versus-a-copy\n"
     ]
    },
    {
     "data": {
      "text/html": [
       "<div>\n",
       "<style scoped>\n",
       "    .dataframe tbody tr th:only-of-type {\n",
       "        vertical-align: middle;\n",
       "    }\n",
       "\n",
       "    .dataframe tbody tr th {\n",
       "        vertical-align: top;\n",
       "    }\n",
       "\n",
       "    .dataframe thead th {\n",
       "        text-align: right;\n",
       "    }\n",
       "</style>\n",
       "<table border=\"1\" class=\"dataframe\">\n",
       "  <thead>\n",
       "    <tr style=\"text-align: right;\">\n",
       "      <th></th>\n",
       "      <th>ITEM_ID</th>\n",
       "      <th>BRAND</th>\n",
       "      <th>PRICE</th>\n",
       "      <th>DESCRIPTION</th>\n",
       "      <th>INTERACTIONS_COUNT</th>\n",
       "    </tr>\n",
       "  </thead>\n",
       "  <tbody>\n",
       "    <tr>\n",
       "      <th>709</th>\n",
       "      <td>B00HZ6X8QU</td>\n",
       "      <td>Tide</td>\n",
       "      <td>11.99</td>\n",
       "      <td>Tide Original liquid laundry detergent provide...</td>\n",
       "      <td>1791</td>\n",
       "    </tr>\n",
       "  </tbody>\n",
       "</table>\n",
       "</div>"
      ],
      "text/plain": [
       "        ITEM_ID BRAND  PRICE  \\\n",
       "709  B00HZ6X8QU  Tide  11.99   \n",
       "\n",
       "                                           DESCRIPTION  INTERACTIONS_COUNT  \n",
       "709  Tide Original liquid laundry detergent provide...                1791  "
      ]
     },
     "execution_count": 77,
     "metadata": {},
     "output_type": "execute_result"
    }
   ],
   "source": [
    "asin = 'B00HZ6X8QU'\n",
    "recommended_item_df = get_item_df(asin)\n",
    "recommendations_sims_df = get_recs_df(asin,sims_solution['campaign_arn'])\n",
    "recommendations_sims_v2_df = get_recs_df(asin,sims_v2_solution['campaign_arn'])\n",
    "recommended_item_df"
   ]
  },
  {
   "cell_type": "markdown",
   "id": "ec859ebc",
   "metadata": {},
   "source": [
    "The theory is that for items with low interactions SIMS will return mostly popular items, and the new aws-item-similarity recipe will return items more related to the current item metadata (price and description)\n",
    "\n",
    "**Full description:**\n"
   ]
  },
  {
   "cell_type": "code",
   "execution_count": 78,
   "id": "8e8fc176",
   "metadata": {},
   "outputs": [
    {
     "data": {
      "text/plain": [
       "'Tide Original liquid laundry detergent provides the Tide clean you love, now more concentrated for more stain removal and freshness and less water*. Americas #1 detergent** is specifically designed to cover your many laundry needs. Also try our small but powerful Tide PODS laundry pacs. Measure your loads with cap. For medium loads, fill to bar 1. For large loads, fill to bar 3. For HE full loads, fill to bar 5. Add clothes, pour into dispenser, start washer. * vs. previous formula ** based on sales For an amazing clean you know and love, theres only one original: Tide Original Scent High Efficiency Laundry Detergent which removes over 100 stains in one wash. Its revitalizing scent is infused with aloe and floral notes to help keep your familys clothes smelling as great as they look. The formula also allows you to enjoy Tide even more as it lasts up to 2x longer compared to leading baking soda detergent based on large loads use instructions (175 oz and smaller bottles). View larger View larger View larger View larger'"
      ]
     },
     "execution_count": 78,
     "metadata": {},
     "output_type": "execute_result"
    }
   ],
   "source": [
    "recommended_item_df['DESCRIPTION'].item()"
   ]
  },
  {
   "cell_type": "markdown",
   "id": "e7fe2b4c",
   "metadata": {},
   "source": [
    "#### SIMS"
   ]
  },
  {
   "cell_type": "code",
   "execution_count": 79,
   "id": "b7076b4c",
   "metadata": {},
   "outputs": [
    {
     "data": {
      "text/html": [
       "<div>\n",
       "<style scoped>\n",
       "    .dataframe tbody tr th:only-of-type {\n",
       "        vertical-align: middle;\n",
       "    }\n",
       "\n",
       "    .dataframe tbody tr th {\n",
       "        vertical-align: top;\n",
       "    }\n",
       "\n",
       "    .dataframe thead th {\n",
       "        text-align: right;\n",
       "    }\n",
       "</style>\n",
       "<table border=\"1\" class=\"dataframe\">\n",
       "  <thead>\n",
       "    <tr style=\"text-align: right;\">\n",
       "      <th></th>\n",
       "      <th>ITEM_ID</th>\n",
       "      <th>BRAND</th>\n",
       "      <th>PRICE</th>\n",
       "      <th>DESCRIPTION</th>\n",
       "      <th>INTERACTIONS_COUNT</th>\n",
       "    </tr>\n",
       "  </thead>\n",
       "  <tbody>\n",
       "    <tr>\n",
       "      <th>0</th>\n",
       "      <td>B00JGZBTCI</td>\n",
       "      <td>Downy</td>\n",
       "      <td>8.47</td>\n",
       "      <td>Downy April Fresh Liquid Fabric Conditioner so...</td>\n",
       "      <td>544</td>\n",
       "    </tr>\n",
       "    <tr>\n",
       "      <th>1</th>\n",
       "      <td>B00MTSGYG0</td>\n",
       "      <td>Bounce</td>\n",
       "      <td>8.24</td>\n",
       "      <td>We admit, the outdoors smell great. But with o...</td>\n",
       "      <td>394</td>\n",
       "    </tr>\n",
       "    <tr>\n",
       "      <th>2</th>\n",
       "      <td>B00JGZCLIY</td>\n",
       "      <td>Downy</td>\n",
       "      <td>7.94</td>\n",
       "      <td>No dyes, no perfumes, no worries: Downy Fabric...</td>\n",
       "      <td>278</td>\n",
       "    </tr>\n",
       "    <tr>\n",
       "      <th>3</th>\n",
       "      <td>B00PFPDRRI</td>\n",
       "      <td>Dawn</td>\n",
       "      <td>1.92</td>\n",
       "      <td>Dawn Non-Concentrated dishwashing liquid soap ...</td>\n",
       "      <td>182</td>\n",
       "    </tr>\n",
       "    <tr>\n",
       "      <th>4</th>\n",
       "      <td>B00UBJQHMU</td>\n",
       "      <td>Listerine</td>\n",
       "      <td>5.99</td>\n",
       "      <td>Protect your mouth from germs and get fresh br...</td>\n",
       "      <td>483</td>\n",
       "    </tr>\n",
       "    <tr>\n",
       "      <th>5</th>\n",
       "      <td>B01B4N9Y6C</td>\n",
       "      <td>Cottonelle</td>\n",
       "      <td>6.99</td>\n",
       "      <td>Cottonelle Clean Care toilet paper with Clean ...</td>\n",
       "      <td>570</td>\n",
       "    </tr>\n",
       "    <tr>\n",
       "      <th>6</th>\n",
       "      <td>B00I9JK8GU</td>\n",
       "      <td>Ziploc</td>\n",
       "      <td>4.75</td>\n",
       "      <td>Get more out of your everyday with Ziplocbrand...</td>\n",
       "      <td>475</td>\n",
       "    </tr>\n",
       "    <tr>\n",
       "      <th>7</th>\n",
       "      <td>B00UB7ASK4</td>\n",
       "      <td>Old Spice</td>\n",
       "      <td>7.47</td>\n",
       "      <td>Old Spice Men's Deodorant reduces underarm odo...</td>\n",
       "      <td>49</td>\n",
       "    </tr>\n",
       "    <tr>\n",
       "      <th>8</th>\n",
       "      <td>B00JGZBUPE</td>\n",
       "      <td>Downy</td>\n",
       "      <td>5.11</td>\n",
       "      <td>Downy April Fresh Dryer Sheets fight static cl...</td>\n",
       "      <td>117</td>\n",
       "    </tr>\n",
       "    <tr>\n",
       "      <th>9</th>\n",
       "      <td>B00IA6ILKC</td>\n",
       "      <td>Glad</td>\n",
       "      <td>8.49</td>\n",
       "      <td>Glad OdorShield Trash Bags in Fresh Clean Scen...</td>\n",
       "      <td>380</td>\n",
       "    </tr>\n",
       "  </tbody>\n",
       "</table>\n",
       "</div>"
      ],
      "text/plain": [
       "      ITEM_ID       BRAND  PRICE  \\\n",
       "0  B00JGZBTCI       Downy   8.47   \n",
       "1  B00MTSGYG0      Bounce   8.24   \n",
       "2  B00JGZCLIY       Downy   7.94   \n",
       "3  B00PFPDRRI        Dawn   1.92   \n",
       "4  B00UBJQHMU   Listerine   5.99   \n",
       "5  B01B4N9Y6C  Cottonelle   6.99   \n",
       "6  B00I9JK8GU      Ziploc   4.75   \n",
       "7  B00UB7ASK4   Old Spice   7.47   \n",
       "8  B00JGZBUPE       Downy   5.11   \n",
       "9  B00IA6ILKC        Glad   8.49   \n",
       "\n",
       "                                         DESCRIPTION  INTERACTIONS_COUNT  \n",
       "0  Downy April Fresh Liquid Fabric Conditioner so...                 544  \n",
       "1  We admit, the outdoors smell great. But with o...                 394  \n",
       "2  No dyes, no perfumes, no worries: Downy Fabric...                 278  \n",
       "3  Dawn Non-Concentrated dishwashing liquid soap ...                 182  \n",
       "4  Protect your mouth from germs and get fresh br...                 483  \n",
       "5  Cottonelle Clean Care toilet paper with Clean ...                 570  \n",
       "6  Get more out of your everyday with Ziplocbrand...                 475  \n",
       "7  Old Spice Men's Deodorant reduces underarm odo...                  49  \n",
       "8  Downy April Fresh Dryer Sheets fight static cl...                 117  \n",
       "9  Glad OdorShield Trash Bags in Fresh Clean Scen...                 380  "
      ]
     },
     "execution_count": 79,
     "metadata": {},
     "output_type": "execute_result"
    }
   ],
   "source": [
    "recommendations_sims_df"
   ]
  },
  {
   "cell_type": "markdown",
   "id": "37a73599",
   "metadata": {},
   "source": [
    "We can see here, the SIMS model returns popular items. Which is not optimal"
   ]
  },
  {
   "cell_type": "markdown",
   "id": "3c07ccdd",
   "metadata": {},
   "source": [
    "#### SIMS V2"
   ]
  },
  {
   "cell_type": "code",
   "execution_count": 80,
   "id": "5b02f6b6",
   "metadata": {},
   "outputs": [
    {
     "data": {
      "text/html": [
       "<div>\n",
       "<style scoped>\n",
       "    .dataframe tbody tr th:only-of-type {\n",
       "        vertical-align: middle;\n",
       "    }\n",
       "\n",
       "    .dataframe tbody tr th {\n",
       "        vertical-align: top;\n",
       "    }\n",
       "\n",
       "    .dataframe thead th {\n",
       "        text-align: right;\n",
       "    }\n",
       "</style>\n",
       "<table border=\"1\" class=\"dataframe\">\n",
       "  <thead>\n",
       "    <tr style=\"text-align: right;\">\n",
       "      <th></th>\n",
       "      <th>ITEM_ID</th>\n",
       "      <th>BRAND</th>\n",
       "      <th>PRICE</th>\n",
       "      <th>DESCRIPTION</th>\n",
       "      <th>INTERACTIONS_COUNT</th>\n",
       "    </tr>\n",
       "  </thead>\n",
       "  <tbody>\n",
       "    <tr>\n",
       "      <th>0</th>\n",
       "      <td>B00JGZBTCI</td>\n",
       "      <td>Downy</td>\n",
       "      <td>8.47</td>\n",
       "      <td>Downy April Fresh Liquid Fabric Conditioner so...</td>\n",
       "      <td>544</td>\n",
       "    </tr>\n",
       "    <tr>\n",
       "      <th>1</th>\n",
       "      <td>B00HZYDW5E</td>\n",
       "      <td>Coca-Cola</td>\n",
       "      <td>4.68</td>\n",
       "      <td></td>\n",
       "      <td>408</td>\n",
       "    </tr>\n",
       "    <tr>\n",
       "      <th>2</th>\n",
       "      <td>B00IAE6PWA</td>\n",
       "      <td>Pepperidge Farm</td>\n",
       "      <td>2.98</td>\n",
       "      <td>About Pepperidge Farm: For us, baking is more ...</td>\n",
       "      <td>549</td>\n",
       "    </tr>\n",
       "    <tr>\n",
       "      <th>3</th>\n",
       "      <td>B00099XPD6</td>\n",
       "      <td>Carnation</td>\n",
       "      <td>1.19</td>\n",
       "      <td>Carnation Evaporated Milk is fresh, nutritious...</td>\n",
       "      <td>1291</td>\n",
       "    </tr>\n",
       "    <tr>\n",
       "      <th>4</th>\n",
       "      <td>B00NAZ5RIC</td>\n",
       "      <td>Kleenex</td>\n",
       "      <td>5.99</td>\n",
       "      <td>Express your style in every aspect of your hom...</td>\n",
       "      <td>513</td>\n",
       "    </tr>\n",
       "    <tr>\n",
       "      <th>5</th>\n",
       "      <td>B00NMPN1JC</td>\n",
       "      <td>Thera Tears</td>\n",
       "      <td>12.44</td>\n",
       "      <td>Preservative Lubricant Eye Drops.</td>\n",
       "      <td>992</td>\n",
       "    </tr>\n",
       "    <tr>\n",
       "      <th>6</th>\n",
       "      <td>B00UB6T2I4</td>\n",
       "      <td>Colgate</td>\n",
       "      <td>2.96</td>\n",
       "      <td>Colgate Extra Clean Full Head Medium Toothbrus...</td>\n",
       "      <td>396</td>\n",
       "    </tr>\n",
       "    <tr>\n",
       "      <th>7</th>\n",
       "      <td>B00UBJQHMU</td>\n",
       "      <td>Listerine</td>\n",
       "      <td>5.99</td>\n",
       "      <td>Protect your mouth from germs and get fresh br...</td>\n",
       "      <td>483</td>\n",
       "    </tr>\n",
       "    <tr>\n",
       "      <th>8</th>\n",
       "      <td>B000SSS6AU</td>\n",
       "      <td>Scotch-Brite</td>\n",
       "      <td>2.56</td>\n",
       "      <td>Keep your cookware performing at its best with...</td>\n",
       "      <td>338</td>\n",
       "    </tr>\n",
       "    <tr>\n",
       "      <th>9</th>\n",
       "      <td>B00UFUYTMK</td>\n",
       "      <td>Honey Maid</td>\n",
       "      <td>3.00</td>\n",
       "      <td>For nearly 90 years, Honey Maid has been a who...</td>\n",
       "      <td>307</td>\n",
       "    </tr>\n",
       "  </tbody>\n",
       "</table>\n",
       "</div>"
      ],
      "text/plain": [
       "      ITEM_ID            BRAND  PRICE  \\\n",
       "0  B00JGZBTCI            Downy   8.47   \n",
       "1  B00HZYDW5E        Coca-Cola   4.68   \n",
       "2  B00IAE6PWA  Pepperidge Farm   2.98   \n",
       "3  B00099XPD6        Carnation   1.19   \n",
       "4  B00NAZ5RIC          Kleenex   5.99   \n",
       "5  B00NMPN1JC      Thera Tears  12.44   \n",
       "6  B00UB6T2I4          Colgate   2.96   \n",
       "7  B00UBJQHMU        Listerine   5.99   \n",
       "8  B000SSS6AU     Scotch-Brite   2.56   \n",
       "9  B00UFUYTMK       Honey Maid   3.00   \n",
       "\n",
       "                                         DESCRIPTION  INTERACTIONS_COUNT  \n",
       "0  Downy April Fresh Liquid Fabric Conditioner so...                 544  \n",
       "1                                                                    408  \n",
       "2  About Pepperidge Farm: For us, baking is more ...                 549  \n",
       "3  Carnation Evaporated Milk is fresh, nutritious...                1291  \n",
       "4  Express your style in every aspect of your hom...                 513  \n",
       "5                  Preservative Lubricant Eye Drops.                 992  \n",
       "6  Colgate Extra Clean Full Head Medium Toothbrus...                 396  \n",
       "7  Protect your mouth from germs and get fresh br...                 483  \n",
       "8  Keep your cookware performing at its best with...                 338  \n",
       "9  For nearly 90 years, Honey Maid has been a who...                 307  "
      ]
     },
     "execution_count": 80,
     "metadata": {},
     "output_type": "execute_result"
    }
   ],
   "source": [
    "recommendations_sims_v2_df"
   ]
  },
  {
   "cell_type": "markdown",
   "id": "24a0a01e",
   "metadata": {},
   "source": [
    "We see very comparable recommendations across both models! Which is an expected behavior considering the item is one of the most popular across the interactions dataset. Now less take a look at recommendations of an item not as popular"
   ]
  },
  {
   "cell_type": "markdown",
   "id": "2290c41a",
   "metadata": {},
   "source": [
    "## Unpopular item"
   ]
  },
  {
   "cell_type": "code",
   "execution_count": 81,
   "id": "2f751d3e",
   "metadata": {},
   "outputs": [
    {
     "name": "stderr",
     "output_type": "stream",
     "text": [
      "/home/ec2-user/anaconda3/envs/python3/lib/python3.6/site-packages/ipykernel/__main__.py:28: SettingWithCopyWarning: \n",
      "A value is trying to be set on a copy of a slice from a DataFrame.\n",
      "Try using .loc[row_indexer,col_indexer] = value instead\n",
      "\n",
      "See the caveats in the documentation: https://pandas.pydata.org/pandas-docs/stable/user_guide/indexing.html#returning-a-view-versus-a-copy\n"
     ]
    },
    {
     "data": {
      "text/html": [
       "<div>\n",
       "<style scoped>\n",
       "    .dataframe tbody tr th:only-of-type {\n",
       "        vertical-align: middle;\n",
       "    }\n",
       "\n",
       "    .dataframe tbody tr th {\n",
       "        vertical-align: top;\n",
       "    }\n",
       "\n",
       "    .dataframe thead th {\n",
       "        text-align: right;\n",
       "    }\n",
       "</style>\n",
       "<table border=\"1\" class=\"dataframe\">\n",
       "  <thead>\n",
       "    <tr style=\"text-align: right;\">\n",
       "      <th></th>\n",
       "      <th>ITEM_ID</th>\n",
       "      <th>BRAND</th>\n",
       "      <th>PRICE</th>\n",
       "      <th>DESCRIPTION</th>\n",
       "      <th>INTERACTIONS_COUNT</th>\n",
       "    </tr>\n",
       "  </thead>\n",
       "  <tbody>\n",
       "    <tr>\n",
       "      <th>10456</th>\n",
       "      <td>B01GCT22E4</td>\n",
       "      <td>Pepsi</td>\n",
       "      <td>3.07</td>\n",
       "      <td>With its light, crisp taste, Diet Pepsi gives ...</td>\n",
       "      <td>6</td>\n",
       "    </tr>\n",
       "  </tbody>\n",
       "</table>\n",
       "</div>"
      ],
      "text/plain": [
       "          ITEM_ID  BRAND  PRICE  \\\n",
       "10456  B01GCT22E4  Pepsi   3.07   \n",
       "\n",
       "                                             DESCRIPTION  INTERACTIONS_COUNT  \n",
       "10456  With its light, crisp taste, Diet Pepsi gives ...                   6  "
      ]
     },
     "execution_count": 81,
     "metadata": {},
     "output_type": "execute_result"
    }
   ],
   "source": [
    "# B017BGLXYC - SODA - low price - low interactions\n",
    "asin = 'B01GCT22E4'\n",
    "recommended_item_df = get_item_df(asin)\n",
    "recommendations_sims_df = get_recs_df(asin,sims_solution['campaign_arn'])\n",
    "recommendations_sims_v2_df = get_recs_df(asin,sims_v2_solution['campaign_arn'])\n",
    "recommended_item_df"
   ]
  },
  {
   "cell_type": "markdown",
   "id": "5586dd46",
   "metadata": {},
   "source": [
    "The theory is that for items with low interactions SIMS will return mostly popular items, and the new aws-item-similarity recipe will return items more related to the current item metadata (price and description)\n",
    "\n",
    "**Full description:**\n"
   ]
  },
  {
   "cell_type": "code",
   "execution_count": 82,
   "id": "c8b72985",
   "metadata": {},
   "outputs": [
    {
     "data": {
      "text/plain": [
       "'With its light, crisp taste, Diet Pepsi gives you all the refreshment you need - with zero sugar, zero calories and zero carbs. Light. Crisp. Refreshing. Diet Pepsi. Nothing refreshes like a Diet Pepsi'"
      ]
     },
     "execution_count": 82,
     "metadata": {},
     "output_type": "execute_result"
    }
   ],
   "source": [
    "recommended_item_df['DESCRIPTION'].item()"
   ]
  },
  {
   "cell_type": "markdown",
   "id": "1a629f08",
   "metadata": {},
   "source": [
    "#### SIMS"
   ]
  },
  {
   "cell_type": "code",
   "execution_count": 83,
   "id": "70568b02",
   "metadata": {},
   "outputs": [
    {
     "data": {
      "text/html": [
       "<div>\n",
       "<style scoped>\n",
       "    .dataframe tbody tr th:only-of-type {\n",
       "        vertical-align: middle;\n",
       "    }\n",
       "\n",
       "    .dataframe tbody tr th {\n",
       "        vertical-align: top;\n",
       "    }\n",
       "\n",
       "    .dataframe thead th {\n",
       "        text-align: right;\n",
       "    }\n",
       "</style>\n",
       "<table border=\"1\" class=\"dataframe\">\n",
       "  <thead>\n",
       "    <tr style=\"text-align: right;\">\n",
       "      <th></th>\n",
       "      <th>ITEM_ID</th>\n",
       "      <th>BRAND</th>\n",
       "      <th>PRICE</th>\n",
       "      <th>DESCRIPTION</th>\n",
       "      <th>INTERACTIONS_COUNT</th>\n",
       "    </tr>\n",
       "  </thead>\n",
       "  <tbody>\n",
       "    <tr>\n",
       "      <th>0</th>\n",
       "      <td>B00XA9DADC</td>\n",
       "      <td>Twinings</td>\n",
       "      <td>8.00</td>\n",
       "      <td>Made with 100% pure peppermint leaves. An upli...</td>\n",
       "      <td>5288</td>\n",
       "    </tr>\n",
       "    <tr>\n",
       "      <th>1</th>\n",
       "      <td>B00I3MVY9I</td>\n",
       "      <td>Crest</td>\n",
       "      <td>NaN</td>\n",
       "      <td>Unleash A Brilliantly Dimensional Smile A 3D W...</td>\n",
       "      <td>5086</td>\n",
       "    </tr>\n",
       "    <tr>\n",
       "      <th>2</th>\n",
       "      <td>B00W6T13OU</td>\n",
       "      <td>Brooklyn Beans</td>\n",
       "      <td>NaN</td>\n",
       "      <td>In Brooklyn, we know a thing or two about bein...</td>\n",
       "      <td>4023</td>\n",
       "    </tr>\n",
       "    <tr>\n",
       "      <th>3</th>\n",
       "      <td>B00HZ6X8QU</td>\n",
       "      <td>Tide</td>\n",
       "      <td>11.99</td>\n",
       "      <td>Tide Original liquid laundry detergent provide...</td>\n",
       "      <td>1791</td>\n",
       "    </tr>\n",
       "    <tr>\n",
       "      <th>4</th>\n",
       "      <td>B0014CZUZ8</td>\n",
       "      <td>Planters</td>\n",
       "      <td>5.98</td>\n",
       "      <td>Nuts are the heroes of wholesome snacking. And...</td>\n",
       "      <td>3225</td>\n",
       "    </tr>\n",
       "    <tr>\n",
       "      <th>5</th>\n",
       "      <td>B00I9KR31C</td>\n",
       "      <td>Viva</td>\n",
       "      <td>NaN</td>\n",
       "      <td>View larger Product Description Dinner is over...</td>\n",
       "      <td>1467</td>\n",
       "    </tr>\n",
       "    <tr>\n",
       "      <th>6</th>\n",
       "      <td>B00W6T208I</td>\n",
       "      <td>Celestial Seasonings</td>\n",
       "      <td>NaN</td>\n",
       "      <td>A full-bodied black tea made from ingredients ...</td>\n",
       "      <td>1415</td>\n",
       "    </tr>\n",
       "    <tr>\n",
       "      <th>7</th>\n",
       "      <td>B00I8YJZ4M</td>\n",
       "      <td>Tom's of Maine</td>\n",
       "      <td>3.79</td>\n",
       "      <td>Toms of Maine Goodness Day Mt. Agamenticus loc...</td>\n",
       "      <td>1403</td>\n",
       "    </tr>\n",
       "    <tr>\n",
       "      <th>8</th>\n",
       "      <td>B00ICZZCEE</td>\n",
       "      <td>Pure Protein</td>\n",
       "      <td>7.09</td>\n",
       "      <td>Pure Protein 23 Grams, Vanilla Creme(4 Count, ...</td>\n",
       "      <td>1429</td>\n",
       "    </tr>\n",
       "    <tr>\n",
       "      <th>9</th>\n",
       "      <td>B0014CSIG6</td>\n",
       "      <td>Mauna Loa</td>\n",
       "      <td>NaN</td>\n",
       "      <td>2g Net carbs. Taste of the tropics. Share this...</td>\n",
       "      <td>2600</td>\n",
       "    </tr>\n",
       "  </tbody>\n",
       "</table>\n",
       "</div>"
      ],
      "text/plain": [
       "      ITEM_ID                 BRAND  PRICE  \\\n",
       "0  B00XA9DADC              Twinings   8.00   \n",
       "1  B00I3MVY9I                 Crest    NaN   \n",
       "2  B00W6T13OU        Brooklyn Beans    NaN   \n",
       "3  B00HZ6X8QU                  Tide  11.99   \n",
       "4  B0014CZUZ8              Planters   5.98   \n",
       "5  B00I9KR31C                  Viva    NaN   \n",
       "6  B00W6T208I  Celestial Seasonings    NaN   \n",
       "7  B00I8YJZ4M        Tom's of Maine   3.79   \n",
       "8  B00ICZZCEE          Pure Protein   7.09   \n",
       "9  B0014CSIG6             Mauna Loa    NaN   \n",
       "\n",
       "                                         DESCRIPTION  INTERACTIONS_COUNT  \n",
       "0  Made with 100% pure peppermint leaves. An upli...                5288  \n",
       "1  Unleash A Brilliantly Dimensional Smile A 3D W...                5086  \n",
       "2  In Brooklyn, we know a thing or two about bein...                4023  \n",
       "3  Tide Original liquid laundry detergent provide...                1791  \n",
       "4  Nuts are the heroes of wholesome snacking. And...                3225  \n",
       "5  View larger Product Description Dinner is over...                1467  \n",
       "6  A full-bodied black tea made from ingredients ...                1415  \n",
       "7  Toms of Maine Goodness Day Mt. Agamenticus loc...                1403  \n",
       "8  Pure Protein 23 Grams, Vanilla Creme(4 Count, ...                1429  \n",
       "9  2g Net carbs. Taste of the tropics. Share this...                2600  "
      ]
     },
     "execution_count": 83,
     "metadata": {},
     "output_type": "execute_result"
    }
   ],
   "source": [
    "recommendations_sims_df"
   ]
  },
  {
   "cell_type": "markdown",
   "id": "3520c0b2",
   "metadata": {},
   "source": [
    "We can see here, the SIMS model returns popular items. Which is not optimal"
   ]
  },
  {
   "cell_type": "markdown",
   "id": "d48a2ee7",
   "metadata": {},
   "source": [
    "#### SIMS V2"
   ]
  },
  {
   "cell_type": "code",
   "execution_count": 84,
   "id": "16d0599c",
   "metadata": {},
   "outputs": [
    {
     "data": {
      "text/html": [
       "<div>\n",
       "<style scoped>\n",
       "    .dataframe tbody tr th:only-of-type {\n",
       "        vertical-align: middle;\n",
       "    }\n",
       "\n",
       "    .dataframe tbody tr th {\n",
       "        vertical-align: top;\n",
       "    }\n",
       "\n",
       "    .dataframe thead th {\n",
       "        text-align: right;\n",
       "    }\n",
       "</style>\n",
       "<table border=\"1\" class=\"dataframe\">\n",
       "  <thead>\n",
       "    <tr style=\"text-align: right;\">\n",
       "      <th></th>\n",
       "      <th>ITEM_ID</th>\n",
       "      <th>BRAND</th>\n",
       "      <th>PRICE</th>\n",
       "      <th>DESCRIPTION</th>\n",
       "      <th>INTERACTIONS_COUNT</th>\n",
       "    </tr>\n",
       "  </thead>\n",
       "  <tbody>\n",
       "    <tr>\n",
       "      <th>0</th>\n",
       "      <td>B015O6PSO2</td>\n",
       "      <td>Frito Lay</td>\n",
       "      <td>10.67</td>\n",
       "      <td>With pre-portioned bags of your favorite snack...</td>\n",
       "      <td>394</td>\n",
       "    </tr>\n",
       "    <tr>\n",
       "      <th>1</th>\n",
       "      <td>B00R1H0AYQ</td>\n",
       "      <td>Nature Valley</td>\n",
       "      <td>4.93</td>\n",
       "      <td>Made with 100% Natural Whole Grain Oats; 16g o...</td>\n",
       "      <td>322</td>\n",
       "    </tr>\n",
       "    <tr>\n",
       "      <th>2</th>\n",
       "      <td>B00R1H0HKI</td>\n",
       "      <td>Nature Valley</td>\n",
       "      <td>2.95</td>\n",
       "      <td>Made with 100% Natural Oats Whole grain oats a...</td>\n",
       "      <td>168</td>\n",
       "    </tr>\n",
       "    <tr>\n",
       "      <th>3</th>\n",
       "      <td>B00R1H0SCA</td>\n",
       "      <td>Nature Valley</td>\n",
       "      <td>2.98</td>\n",
       "      <td>Made with 100% Natural Whole Grain Oats; 16g o...</td>\n",
       "      <td>66</td>\n",
       "    </tr>\n",
       "    <tr>\n",
       "      <th>4</th>\n",
       "      <td>B01E3VJ8L8</td>\n",
       "      <td>Premium</td>\n",
       "      <td>2.74</td>\n",
       "      <td>Premium Original Saltine Crackers are the clas...</td>\n",
       "      <td>92</td>\n",
       "    </tr>\n",
       "    <tr>\n",
       "      <th>5</th>\n",
       "      <td>B0014CZUZ8</td>\n",
       "      <td>Planters</td>\n",
       "      <td>5.98</td>\n",
       "      <td>Nuts are the heroes of wholesome snacking. And...</td>\n",
       "      <td>3225</td>\n",
       "    </tr>\n",
       "    <tr>\n",
       "      <th>6</th>\n",
       "      <td>B013OY25GA</td>\n",
       "      <td>Snack Pack</td>\n",
       "      <td>2.78</td>\n",
       "      <td>Give your kids a delicious treat with the Snac...</td>\n",
       "      <td>249</td>\n",
       "    </tr>\n",
       "    <tr>\n",
       "      <th>7</th>\n",
       "      <td>B015TYDZTE</td>\n",
       "      <td>Bounty</td>\n",
       "      <td>11.42</td>\n",
       "      <td>Ever try one of those bargain' paper towels an...</td>\n",
       "      <td>606</td>\n",
       "    </tr>\n",
       "    <tr>\n",
       "      <th>8</th>\n",
       "      <td>B011DX5G92</td>\n",
       "      <td>Charmin</td>\n",
       "      <td>6.99</td>\n",
       "      <td>Charmin Ultra Strong toilet paper cleans bette...</td>\n",
       "      <td>536</td>\n",
       "    </tr>\n",
       "    <tr>\n",
       "      <th>9</th>\n",
       "      <td>B00RGVOUIO</td>\n",
       "      <td>Ritz</td>\n",
       "      <td>2.78</td>\n",
       "      <td>A Treat for All AgesFrom meats and cheeses to ...</td>\n",
       "      <td>406</td>\n",
       "    </tr>\n",
       "  </tbody>\n",
       "</table>\n",
       "</div>"
      ],
      "text/plain": [
       "      ITEM_ID          BRAND  PRICE  \\\n",
       "0  B015O6PSO2      Frito Lay  10.67   \n",
       "1  B00R1H0AYQ  Nature Valley   4.93   \n",
       "2  B00R1H0HKI  Nature Valley   2.95   \n",
       "3  B00R1H0SCA  Nature Valley   2.98   \n",
       "4  B01E3VJ8L8        Premium   2.74   \n",
       "5  B0014CZUZ8       Planters   5.98   \n",
       "6  B013OY25GA     Snack Pack   2.78   \n",
       "7  B015TYDZTE         Bounty  11.42   \n",
       "8  B011DX5G92        Charmin   6.99   \n",
       "9  B00RGVOUIO           Ritz   2.78   \n",
       "\n",
       "                                         DESCRIPTION  INTERACTIONS_COUNT  \n",
       "0  With pre-portioned bags of your favorite snack...                 394  \n",
       "1  Made with 100% Natural Whole Grain Oats; 16g o...                 322  \n",
       "2  Made with 100% Natural Oats Whole grain oats a...                 168  \n",
       "3  Made with 100% Natural Whole Grain Oats; 16g o...                  66  \n",
       "4  Premium Original Saltine Crackers are the clas...                  92  \n",
       "5  Nuts are the heroes of wholesome snacking. And...                3225  \n",
       "6  Give your kids a delicious treat with the Snac...                 249  \n",
       "7  Ever try one of those bargain' paper towels an...                 606  \n",
       "8  Charmin Ultra Strong toilet paper cleans bette...                 536  \n",
       "9  A Treat for All AgesFrom meats and cheeses to ...                 406  "
      ]
     },
     "execution_count": 84,
     "metadata": {},
     "output_type": "execute_result"
    }
   ],
   "source": [
    "recommendations_sims_v2_df"
   ]
  },
  {
   "cell_type": "markdown",
   "id": "fa6dbe33",
   "metadata": {},
   "source": [
    "Let's print the descriptions too see if they match our item theme"
   ]
  },
  {
   "cell_type": "code",
   "execution_count": 85,
   "id": "7cc8c340",
   "metadata": {},
   "outputs": [
    {
     "name": "stdout",
     "output_type": "stream",
     "text": [
      "----ITEM----\n",
      "Recommendation number 1, BRAND: Frito Lay, PRICE: 10.67\n",
      "----DESCRIPTION----\n",
      "With pre-portioned bags of your favorite snacks, its no wonder why Frito-Lay variety packs are a family tradition! whether youre celebrating a big win on the soccer field, taking a family road trip, or thinking about an afternoon snack, Frito-Lay variety packs have everybodys snack needs covered. When you grab a Frito-Lay variety pack, youre ready for anything. 32 count variety pack of four 1 ounce. Bags of lays classic potato chips, five 1 ounce. Bags of CHEETOS crunchy cheese flavored snacks, three 1 ounce. Bags of FRITOS chili cheese flavored corn chips, three 1 ounce. Bags of lays barbecue flavored potato chips, four ounce. Bags of FUNYUNS snacks, five 1 ounce. Bags of DORITOS nacho cheese flavored tortilla chips, four 1 ounce. Bags of FRITOS original corn chips, four 1 ounce. Bags of lays wavy ranch flavored potato chips. 32 Count Party Mix\n",
      "----ITEM----\n",
      "Recommendation number 2, BRAND: Nature Valley, PRICE: 4.93\n",
      "----DESCRIPTION----\n",
      "Made with 100% Natural Whole Grain Oats; 16g of Whole Grain per Serving - 48g Whole Grain recommended daily Whole grain oats are the first ingredient in Nature Valley Crunchy Bars. Made with simple ingredients for a pure, simple taste. Nature Valley Crunchy Bars provide the energy you need to conquer everyday challenges.\n",
      "----ITEM----\n",
      "Recommendation number 3, BRAND: Nature Valley, PRICE: 2.95\n",
      "----DESCRIPTION----\n",
      "Made with 100% Natural Oats Whole grain oats are the first ingredient in Nature Valley Chewy Bars. Made with simple ingredients like oats, nuts, dark chocolate and fruit for a pure, simple taste. Nature Valley Chewy Bars provide the energy you need to conquer everyday challenges.\n",
      "----ITEM----\n",
      "Recommendation number 4, BRAND: Nature Valley, PRICE: 2.98\n",
      "----DESCRIPTION----\n",
      "Made with 100% Natural Whole Grain Oats; 16g of Whole Grain per Serving - 48g Whole Grain recommended daily Whole grain oats are the first ingredient in Nature Valley Crunchy Bars. Made with simple ingredients for a pure, simple taste. Nature Valley Crunchy Bars provide the energy you need to conquer everyday challenges.\n",
      "----ITEM----\n",
      "Recommendation number 5, BRAND: Premium, PRICE: 2.74\n",
      "----DESCRIPTION----\n",
      "Premium Original Saltine Crackers are the classic salty, crunchy snack. Enjoy Premium Saltines dipped or crumbled into your favorite stews, soups or dips.\n",
      "----ITEM----\n",
      "Recommendation number 6, BRAND: Planters, PRICE: 5.98\n",
      "----DESCRIPTION----\n",
      "Nuts are the heroes of wholesome snacking. And Planters offers a wide variety of delicious nuts. When you're looking for snacks with protein and nutrients, grab a handful of Planters nuts (or try one of our snack bags).\n",
      "----ITEM----\n",
      "Recommendation number 7, BRAND: Snack Pack, PRICE: 2.78\n",
      "----DESCRIPTION----\n",
      "Give your kids a delicious treat with the Snack Pack Chocolate and Vanilla Pudding Cups Family Pack. Snack Pack Pudding Cups have all of the creamy goodness you could want in a snack and are sure to bring a smile to snack time. Creamy, delicious Snack Pack pudding is made with real milk and no high-fructose corn syrup for a sweet snack. Take your sack lunch to the next level with this awesome dessert that's perfect for on-the-go snacking. Both Chocolate and Vanilla Snack Pack Pudding Cups have 100 calories with no preservatives and zero grams trans fat per 3.25 oz serving. Each pack contains 6 Chocolate and 6 Vanilla Pudding Cups.\n",
      "----ITEM----\n",
      "Recommendation number 8, BRAND: Bounty, PRICE: 11.42\n",
      "----DESCRIPTION----\n",
      "Ever try one of those bargain' paper towels and go through so many sheets that the roll just disappears? With Bounty, the roll doesnt disappear. Bounty paper towels are 2X more absorbent,* so the roll can last up to 50% longer,* Bounty quickly absorbs messes, so you can clean up and move on without wasting time or towels. Plus, it comes in a variety of sizes and prints, including Bounty Select-A-Size, so you can choose the Bounty paper towel that's best for you and your family. Choose the paper towel you can count on: Bounty, the longer-lasting Quicker Picker Upper.* *Vs. leading ordinary brand. Dont be let down by bargain brand paper towels that tear and disappear in days. Try Bounty instead. Bounty is 2x more absorbent,* so you can pick up messes with as little as one sheet. And that means you dont have to keep pulling on a roll of Bounty, because it can last 50% longer. You'll spend more time doing the things you want and less time worrying about running out. *vs. the leading ordinary brand. Bountys prints are also available in Bounty Napkins. So you can add some fun to the dinner table. Bounty Prints are sold in an assortment of prints for a surprise in every pack!\n",
      "----ITEM----\n",
      "Recommendation number 9, BRAND: Charmin, PRICE: 6.99\n",
      "----DESCRIPTION----\n",
      "Charmin Ultra Strong toilet paper cleans better versus the leading bargain brand with fewer sheets. Its washcloth-like texture is stronger* and you can use less versus the leading bargain brand. When you buy Charmin Ultra Strong Mega Roll toilet paper you get a big, long-lasting roll because one Charmin Mega Roll equals 4 Regular Rolls**. We all go to the bathroom, those who go with Charmin Ultra Strong toilet paper really Enjoy the Go! (*when wet vs. the leading bargain brand; **Based on number of sheets in Charmin Regular Roll bath tissue)\n",
      "----ITEM----\n",
      "Recommendation number 10, BRAND: Ritz, PRICE: 2.78\n",
      "----DESCRIPTION----\n",
      "A Treat for All AgesFrom meats and cheeses to spreads and more, the classic taste of Ritz sandwich crackers pairs perfectly with just about any topping. Ritz sandwich crackers snack packs are welcome at any gathering, no matter if it’s a formal party or if you’re just watching the game. Crispy and supremely snackable all on their own, these Ritz sandwich crackers are a tasty addition to any meal. Kids love them as an after school snack. This savory snack pack contains 8 individual packs of Ritz cracker sandwiches. Each pack includes 6 cracker sandwiches stuffed with a mouthwatering peanut butter spread. Go-To Snacks On-The-GoGetting your kids ready for school in the morning is hard enough. Make your life easier during those rushing-out-the-door moments by ordering Ritz cracker sandwiches in bulk. Just grab a snack pack from the box and toss it into your kid’s lunchbox. Pairing snack packs with balanced meals makes meal prepping easier than ever before. Anytime & AnywhereThese treats satisfy your taste buds wherever you go. Whether it’s your afternoon snack or a lunchtime treat, these individual packs are perfectly portioned, without going overboard. Real peanut butter is used to create that delicious creamy filling between the two crackers. As a cholesterol-free snack with 0 trans-fat, you can hand out these sandwich crackers without feeling guilty! No more worrying about finishing the whole sleeve of crackers, either. The snacks in this 8 count pack are individually wrapped and one serving size per pouch. Make your life more delicious and hassle-free with Ritz peanut butter cracker sandwich snack packs! BBQ with friends makes life rich. Start by thinly slicing 2 small jalapeno peppers. Next, mix pulled chicken or pork with BBQ sauce and pop in the microwave until warm. Using a spoon, spread a base layer of coleslaw (about cup) onto crackers. Take the warmed barbecue mixture and spoon on top of the coleslaw. Lastly, garnish with a jalapeno sliver, making about 5 servings of 5 crackers each. Smile and enjoy! Show your guests how much you love them with this sweet Berries and Crme recipe. To make 25, youll need about cup of thawed frozen whipped topping and cup of fresh raspberries. Start by spreading the whipped topping onto the crackers. Top each one with a raspberry and voila! All you need for this hit recipe is 15 cocktail franks (cut lengthwise in half), 1/3 cup sweet pickle relish (drained), 2 tsp of yellow mustard and 30 Ritz Crackers. To start, place the franks, cut side down, in a single layer on a microwaveable plate. Microwave on high for about 20 to 30 seconds (or until heated through). Transfer them each to a cracker, and then top with relish and mustard.\n"
     ]
    }
   ],
   "source": [
    "for index, row in recommendations_sims_v2_df.iterrows():\n",
    "    print('----ITEM----')\n",
    "    print('Recommendation number {index}, BRAND: {brand}, PRICE: {price}'.format(index=index+1, brand=row['BRAND'], price=row['PRICE']))\n",
    "    print('----DESCRIPTION----')\n",
    "    print(row['DESCRIPTION'])\n"
   ]
  },
  {
   "cell_type": "markdown",
   "id": "f2575d9c",
   "metadata": {},
   "source": [
    "## Conclusion\n",
    "\n",
    "As we can see from the examples above, the new recipe `aws-similar-items` is able to infer on item similarities including their metadata information. This is a big improvement to unlock additional signals to your similar items deployments."
   ]
  },
  {
   "cell_type": "code",
   "execution_count": null,
   "id": "24ddebc9",
   "metadata": {},
   "outputs": [],
   "source": []
  }
 ],
 "metadata": {
  "kernelspec": {
   "display_name": "conda_python3",
   "language": "python",
   "name": "conda_python3"
  },
  "language_info": {
   "codemirror_mode": {
    "name": "ipython",
    "version": 3
   },
   "file_extension": ".py",
   "mimetype": "text/x-python",
   "name": "python",
   "nbconvert_exporter": "python",
   "pygments_lexer": "ipython3",
   "version": "3.6.13"
  }
 },
 "nbformat": 4,
 "nbformat_minor": 5
}
