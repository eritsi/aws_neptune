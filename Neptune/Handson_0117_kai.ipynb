{
 "cells": [
  {
   "cell_type": "markdown",
   "id": "e3f5af86",
   "metadata": {},
   "source": [
    "## slackから会話履歴とメンバーリストを読み込み、.jsonファイルに書き出します"
   ]
  },
  {
   "cell_type": "code",
   "execution_count": 1,
   "id": "80db5b56",
   "metadata": {},
   "outputs": [],
   "source": [
    "# slackデータを抽出するslackアプリのトークンと、読み出し対象のチャンネルIDを設定します\n",
    "TOKEN = \"SLACK_API_TOKEN\"\n",
    "CHANNEL = \"SLACK_CHANNEL_CODE\"\n",
    "\n",
    "# NEPTUNEの「接続とセキュリティ」の書き込みエンドポイントを設定します\n",
    "ENDPOINT = \"NEPTUNE_ENDPOINT_WRITE\""
   ]
  },
  {
   "cell_type": "code",
   "execution_count": 2,
   "id": "033f5590",
   "metadata": {},
   "outputs": [
    {
     "name": "stdout",
     "output_type": "stream",
     "text": [
      "Collecting slack_sdk\n",
      "  Downloading slack_sdk-3.13.0-py2.py3-none-any.whl (260 kB)\n",
      "     |████████████████████████████████| 260 kB 21.9 MB/s            \n",
      "\u001b[?25hInstalling collected packages: slack-sdk\n",
      "Successfully installed slack-sdk-3.13.0\n"
     ]
    }
   ],
   "source": [
    "# Neptuneクラスターにつき一回だけ実行すれば良いです\n",
    "!pip install slack_sdk"
   ]
  },
  {
   "cell_type": "code",
   "execution_count": 3,
   "id": "a323a372",
   "metadata": {},
   "outputs": [],
   "source": [
    "import json\n",
    "from slack_sdk import WebClient"
   ]
  },
  {
   "cell_type": "code",
   "execution_count": 4,
   "id": "0eeecdce",
   "metadata": {},
   "outputs": [],
   "source": [
    "def import_slack_for_neptune(token_str, channel_id):\n",
    "    client = WebClient(token=token_str)\n",
    "    response = client.conversations_history(channel=channel_id)\n",
    "    user = client.users_list()\n",
    "    members = user[\"members\"]\n",
    "    \n",
    "    with open('./slack_for_neptune.json','w') as outfile:\n",
    "        json.dump(response['messages'], outfile, indent=4)   \n",
    "        outfile.write('\\n')\n",
    "    with open('./slack_users.json','w') as outfile:\n",
    "        json.dump(user['members'], outfile, indent=4) \n",
    "        outfile.write('\\n')"
   ]
  },
  {
   "cell_type": "code",
   "execution_count": 5,
   "id": "9d500c29",
   "metadata": {},
   "outputs": [],
   "source": [
    "# Jupyter Notebook内にjsonファイルが二つ出来ます（後段の関数との兼ね合い）\n",
    "import_slack_for_neptune(TOKEN, CHANNEL)"
   ]
  },
  {
   "cell_type": "code",
   "execution_count": 6,
   "id": "ed8d3e9b",
   "metadata": {},
   "outputs": [],
   "source": [
    "# 先ほどのjsonのうちusersの方は、csvへ変更しておきます（後段の関数との兼ね合い）\n",
    "import csv\n",
    "\n",
    "def create_csv_slack_members(json_path):\n",
    "    write_fp=csv.writer(open(\"userIDs.csv\", \"w\"))\n",
    "    write_fp.writerow(['ID','name','name_e'])\n",
    "    with open(json_path) as f:\n",
    "        msgs = json.load(f)\n",
    "    for msg in msgs:\n",
    "        if (\"name\" in msg.keys()) & (\"is_restricted\" in msg.keys()):\n",
    "            if msg[\"is_restricted\"]==False:\n",
    "                write_fp.writerow([msg[\"id\"],msg[\"profile\"][\"display_name\"],msg[\"name\"]])"
   ]
  },
  {
   "cell_type": "code",
   "execution_count": 7,
   "id": "8a6b2dd2",
   "metadata": {},
   "outputs": [],
   "source": [
    "create_csv_slack_members(\"slack_users.json\")"
   ]
  },
  {
   "cell_type": "code",
   "execution_count": 8,
   "id": "457a3f69",
   "metadata": {},
   "outputs": [],
   "source": [
    "def full_members(json_path):\n",
    "    with open(json_path) as f:\n",
    "        msgs = json.load(f)\n",
    "    for msg in msgs:\n",
    "        if \"name\" in msg.keys():\n",
    "            print('{},{}'.format(msg[\"id\"],msg[\"profile\"][\"display_name\"]))"
   ]
  },
  {
   "cell_type": "code",
   "execution_count": 9,
   "id": "7ccb65a1",
   "metadata": {},
   "outputs": [],
   "source": [
    "def slack_members(json_path):\n",
    "    with open(json_path) as f:\n",
    "        msgs = json.load(f)\n",
    "    for msg in msgs:\n",
    "        if (\"name\" in msg.keys()) & (\"is_restricted\" in msg.keys()):\n",
    "            if (msg[\"is_restricted\"]==False) & (msg[\"profile\"][\"display_name\"]!=''):\n",
    "                print('{},{},{}'.format(msg[\"id\"],msg[\"profile\"][\"display_name\"],msg[\"name\"]))"
   ]
  },
  {
   "cell_type": "code",
   "execution_count": null,
   "id": "1b6f2d47",
   "metadata": {
    "scrolled": true
   },
   "outputs": [],
   "source": [
    "slack_members(\"slack_users.json\")"
   ]
  },
  {
   "cell_type": "markdown",
   "id": "a92f447c",
   "metadata": {},
   "source": [
    "# ここから、jsonデータを再読み込みしてDataFrameにいれます"
   ]
  },
  {
   "cell_type": "code",
   "execution_count": 11,
   "id": "0bf0ca29",
   "metadata": {},
   "outputs": [],
   "source": [
    "import pandas as pd"
   ]
  },
  {
   "cell_type": "code",
   "execution_count": 12,
   "id": "12bed87c",
   "metadata": {},
   "outputs": [],
   "source": [
    "def extract_node_users(msgs):\n",
    "    usernames = set([])\n",
    "    for msg in msgs:\n",
    "        if \"user\" in msg.keys():\n",
    "            usernames.add(msg[\"user\"])\n",
    "    return pd.DataFrame({\"ID\": list(usernames)})\n",
    "\n",
    "def extract_node_posts(msgs):\n",
    "    texts = []\n",
    "    ts =[]\n",
    "\n",
    "    for msg in msgs:\n",
    "        if \"text\" in msg.keys() and \"ts\" in msg.keys():\n",
    "            ts.append(msg[\"ts\"])\n",
    "            texts.append(msg[\"text\"])\n",
    "\n",
    "    return pd.DataFrame({\"post_id\": ts,  \"text\":list(texts)})\n",
    "\n",
    "def extract_edge_reactions(msgs):\n",
    "    from_users = []\n",
    "    to_posts = []\n",
    "    names =[]\n",
    "\n",
    "    for msg in msgs:\n",
    "\n",
    "        if \"reactions\" in msg.keys():\n",
    "            for reaction in msg[\"reactions\"]:\n",
    "                for user in reaction[\"users\"]:\n",
    "                    from_users.append(user)\n",
    "                    to_posts.append(msg[\"ts\"])\n",
    "                    names.append(reaction[\"name\"])\n",
    "\n",
    "\n",
    "    #return pd.DataFrame({\"~id\": assign_index(to_posts), \"from\": from_users, \"to\":to_posts,\"stamp_name\":names})\n",
    "    return pd.DataFrame({\"ID\": from_users, \"post_id\":to_posts,\"stamp_name\":names})\n",
    "\n",
    "def extract_edge_post_actions(msgs):\n",
    "    from_users = []\n",
    "    to_posts = []\n",
    "    types = []\n",
    "    subtypes=[]\n",
    "\n",
    "    for msg in msgs:\n",
    "        if \"ts\" in msg.keys() and \"user\" in msg.keys():\n",
    "            from_users.append(msg[\"user\"])\n",
    "            to_posts.append(msg[\"ts\"])\n",
    "            types.append(msg.get(\"types\", \"\"))\n",
    "            subtypes.append(msg.get(\"subtypes\", \"\"))\n",
    "\n",
    "    #return pd.DataFrame({\"~id\": assign_index(to_posts), \"from\": from_users,\"to\":to_posts, \"type\": types,\"subtype\": subtypes})\n",
    "    return pd.DataFrame({\"ID\": from_users,\"post_id\":to_posts})\n",
    "\n",
    "\n",
    "def dump_csv(df_name,df,path=\"./\"):\n",
    "    df.to_csv(os.path.join(path,f\"{df_name}.csv\"),index=False)\n",
    "def send_users_to_neptune(json_path):\n",
    "    with open(json_path) as f:\n",
    "        return extract_node_users(json.load(f))\n",
    "def send_posts_to_neptune(json_path):\n",
    "    with open(json_path) as f:\n",
    "        return extract_node_posts(json.load(f))\n",
    "def send_edges_to_neptune(json_path):\n",
    "    with open(json_path) as f:\n",
    "        return extract_edge_reactions(json.load(f))\n",
    "def send_edgeposts_to_neptune(json_path):\n",
    "    with open(json_path) as f:\n",
    "        return extract_edge_post_actions(json.load(f))\n"
   ]
  },
  {
   "cell_type": "code",
   "execution_count": 13,
   "id": "f20bb144",
   "metadata": {},
   "outputs": [],
   "source": [
    "vertex_posts=send_posts_to_neptune(\"slack_for_neptune.json\")\n",
    "edge_reactions=send_edges_to_neptune(\"slack_for_neptune.json\")\n",
    "edge_posts=send_edgeposts_to_neptune(\"slack_for_neptune.json\")\n",
    "users = pd.merge(send_users_to_neptune(\"slack_for_neptune.json\"), pd.read_csv(\"userIDs.csv\"), on=['ID'])\n"
   ]
  },
  {
   "cell_type": "code",
   "execution_count": null,
   "id": "dbd78215",
   "metadata": {},
   "outputs": [],
   "source": [
    "users"
   ]
  },
  {
   "cell_type": "markdown",
   "id": "ed157ef6",
   "metadata": {},
   "source": [
    "## ここからNeptune"
   ]
  },
  {
   "cell_type": "code",
   "execution_count": 15,
   "id": "d3e7a3da",
   "metadata": {},
   "outputs": [
    {
     "data": {
      "text/plain": [
       "{'status': 'healthy',\n",
       " 'startTime': 'Mon Jan 17 04:25:09 UTC 2022',\n",
       " 'dbEngineVersion': '1.0.5.1.R3',\n",
       " 'role': 'writer',\n",
       " 'gremlin': {'version': 'tinkerpop-3.4.11'},\n",
       " 'sparql': {'version': 'sparql-1.1'},\n",
       " 'labMode': {'ObjectIndex': 'disabled',\n",
       "  'DFEQueryEngine': 'viaQueryHint',\n",
       "  'ReadWriteConflictDetection': 'enabled'},\n",
       " 'features': {'ResultCache': {'status': 'disabled'},\n",
       "  'IAMAuthentication': 'disabled',\n",
       "  'Streams': 'disabled',\n",
       "  'AuditLog': 'disabled'},\n",
       " 'settings': {'clusterQueryTimeoutInMs': '120000'}}"
      ]
     },
     "execution_count": 15,
     "metadata": {},
     "output_type": "execute_result"
    }
   ],
   "source": [
    "%status"
   ]
  },
  {
   "cell_type": "code",
   "execution_count": 17,
   "id": "b47ad8ce",
   "metadata": {},
   "outputs": [
    {
     "data": {
      "application/vnd.jupyter.widget-view+json": {
       "model_id": "5f8925b176b24d329bb21fb88dd146ac",
       "version_major": 2,
       "version_minor": 0
      },
      "text/plain": [
       "Tab(children=(Output(layout=Layout(max_height='600px', overflow='scroll', width='100%')), Output(layout=Layout…"
      ]
     },
     "metadata": {},
     "output_type": "display_data"
    }
   ],
   "source": [
    "%%gremlin\n",
    "g.addV('character').property(id,'c1').property('name', 'アンパンマン').property('side', 'good').toSet()"
   ]
  },
  {
   "cell_type": "code",
   "execution_count": 18,
   "id": "3a2b45fc",
   "metadata": {},
   "outputs": [
    {
     "data": {
      "application/vnd.jupyter.widget-view+json": {
       "model_id": "a2c45cdacc13459fbe4920301e071a63",
       "version_major": 2,
       "version_minor": 0
      },
      "text/plain": [
       "Tab(children=(Output(layout=Layout(max_height='600px', overflow='scroll', width='100%')), Output(layout=Layout…"
      ]
     },
     "metadata": {},
     "output_type": "display_data"
    }
   ],
   "source": [
    "%%gremlin\n",
    "g.E().limit(10)"
   ]
  },
  {
   "cell_type": "code",
   "execution_count": 19,
   "id": "449d5312",
   "metadata": {},
   "outputs": [],
   "source": [
    "from gremlin_python import statics\n",
    "from gremlin_python.structure.graph import Graph\n",
    "from gremlin_python.process.graph_traversal import __\n",
    "from gremlin_python.process.strategies import *\n",
    "from gremlin_python.driver.driver_remote_connection import DriverRemoteConnection\n"
   ]
  },
  {
   "cell_type": "code",
   "execution_count": 20,
   "id": "8be5fa21",
   "metadata": {},
   "outputs": [],
   "source": [
    "DB_ENDPOINT=ENDPOINT\n",
    "DB_PORT=8182\n",
    "remoteConn = DriverRemoteConnection(f'wss://{DB_ENDPOINT}:{DB_PORT}/gremlin','g')\n",
    "graph = Graph()\n",
    "g = graph.traversal().withRemote(remoteConn)"
   ]
  },
  {
   "cell_type": "code",
   "execution_count": 21,
   "id": "0dcd9429",
   "metadata": {},
   "outputs": [
    {
     "data": {
      "text/plain": [
       "[['E'], ['drop'], ['none'], ['values', '_ipython_canary_method_should_not_exist_'], ['values', '_ipython_canary_method_should_not_exist_']]"
      ]
     },
     "execution_count": 21,
     "metadata": {},
     "output_type": "execute_result"
    }
   ],
   "source": [
    "g.V().drop().iterate()\n",
    "g.E().drop().iterate()"
   ]
  },
  {
   "cell_type": "code",
   "execution_count": 22,
   "id": "d9afc115",
   "metadata": {},
   "outputs": [],
   "source": [
    "# userの頂点追加\n",
    "for idx,user in users.iterrows():\n",
    "\n",
    "    g.addV(\"user\").property(\"user_id\",user.ID).property('name', user[1]).toSet()\n",
    "#postの頂点追加\n",
    "for idx,post in vertex_posts.iterrows():\n",
    "    g.addV(\"post\").property(\"post_id\",post.post_id).property('text', post.text).toSet()\n"
   ]
  },
  {
   "cell_type": "code",
   "execution_count": null,
   "id": "dbbabb8f",
   "metadata": {},
   "outputs": [],
   "source": [
    "g.V().valueMap().toList()"
   ]
  },
  {
   "cell_type": "code",
   "execution_count": 24,
   "id": "52d5855a",
   "metadata": {
    "scrolled": true
   },
   "outputs": [
    {
     "name": "stdout",
     "output_type": "stream",
     "text": [
      "U0208FDCKG8 1642394693.040700\n",
      "U0208FDCKG8 1642392097.039700\n",
      "U0208FDCKG8 1642389106.038400\n",
      "U0208FDCKG8 1642387343.037600\n",
      "UMX1CPD6Y 1642386968.036800\n",
      "UMX1CPD6Y 1642386617.033900\n",
      "UMX1CPD6Y 1642382967.028900\n",
      "UMX1CPD6Y 1642123507.027200\n",
      "USLACKBOT 1642114801.026600\n",
      "U02D3LXJEGN 1641963962.006400\n",
      "UMX1CPD6Y 1641961974.003200\n",
      "U0179UVTBQU 1641896414.002600\n",
      "U0179UVTBQU 1641891769.002500\n",
      "U02P03KAEM9 1641889882.000800\n",
      "USLACKBOT 1640905230.081800\n",
      "U02P03KAEM9 1640743371.078700\n",
      "U02P03KAEM9 1640687938.076500\n",
      "U0179UVTBQU 1640685956.073100\n",
      "U0179UVTBQU 1640682169.071600\n",
      "U01705LTTSB 1640675465.070600\n",
      "U012DMZSBJ7 1640591975.066000\n",
      "U02P03KAEM9 1640583433.063800\n",
      "U012DMZSBJ7 1640066105.060500\n",
      "UMX1CPD6Y 1640065398.059900\n",
      "U02D3LXJEGN 1640065278.058600\n",
      "UMX1CPD6Y 1640064972.057100\n",
      "ULHA84QT1 1640064441.055700\n",
      "ULHA84QT1 1640064403.055100\n",
      "UMX1CPD6Y 1640064207.054900\n",
      "ULHA84QT1 1640063272.053800\n",
      "USLACKBOT 1639695604.052000\n",
      "U012DMZSBJ7 1639478955.046200\n",
      "ULHA84QT1 1639470314.040500\n",
      "USLACKBOT 1638486027.037700\n",
      "U012DMZSBJ7 1638442067.037600\n",
      "UMX1CPD6Y 1638440834.036700\n",
      "U0179UVTBQU 1638440323.036100\n",
      "UMX1CPD6Y 1638440001.034700\n",
      "UFLUZ76JX 1638436430.034200\n",
      "UMX1CPD6Y 1638436147.033500\n",
      "UFLUZ76JX 1638436038.032800\n",
      "ULHA84QT1 1638435941.031700\n",
      "UFLUZ76JX 1638344296.031200\n",
      "ULHA84QT1 1638344095.030700\n",
      "U012DMZSBJ7 1637280554.027900\n",
      "USLACKBOT 1637276409.026900\n",
      "ULHA84QT1 1637274045.026800\n",
      "U0179UVTBQU 1637272148.025700\n",
      "U012DMZSBJ7 1636075725.019700\n",
      "U012DMZSBJ7 1636075630.019500\n",
      "U0179UVTBQU 1636074473.019200\n",
      "U0179UVTBQU 1636074416.019000\n",
      "U0179UVTBQU 1636074274.018600\n",
      "U012DMZSBJ7 1636071955.013200\n",
      "URB2JTH0F 1636023271.011600\n",
      "URB2JTH0F 1636023215.010500\n",
      "U028Q4D8DMH 1636022567.007900\n",
      "U0179UVTBQU 1634882431.002600\n",
      "ULHA84QT1 1634882208.002100\n",
      "U012DMZSBJ7 1634864457.001600\n",
      "UMX1CPD6Y 1634863338.001200\n",
      "UMX1CPD6Y 1634863088.000900\n",
      "U012DMZSBJ7 1634861727.000300\n",
      "ULHA84QT1 1633681917.002600\n",
      "U0179UVTBQU 1633681890.002200\n",
      "ULHA84QT1 1633427077.005200\n",
      "U012DMZSBJ7 1633426454.004800\n",
      "U012DMZSBJ7 1633425374.003400\n",
      "ULHA84QT1 1633425270.002800\n",
      "ULHA84QT1 1633424511.002400\n",
      "ULHA84QT1 1633418924.002000\n",
      "UMX1CPD6Y 1632708620.030400\n",
      "UMX1CPD6Y 1632454453.028200\n",
      "U01705LTTSB 1632301712.025800\n",
      "UMX1CPD6Y 1631264570.021000\n",
      "UMX1CPD6Y 1630661837.016600\n",
      "UMX1CPD6Y 1630631063.011900\n",
      "UFLUZ76JX 1630057629.011200\n",
      "UMX1CPD6Y 1630056167.010400\n",
      "UMX1CPD6Y 1630055720.009100\n",
      "UMX1CPD6Y 1630055670.008300\n",
      "U012DMZSBJ7 1630055019.007200\n",
      "U0179UVTBQU 1630044829.002700\n",
      "UMX1CPD6Y 1629451215.000800\n",
      "UMX1CPD6Y 1629450204.000400\n",
      "U012DMZSBJ7 1628847572.011800\n",
      "ULHA84QT1 1628845261.010600\n",
      "UMX1CPD6Y 1628244142.008100\n",
      "U012DMZSBJ7 1628243337.007100\n",
      "U012DMZSBJ7 1628242778.006500\n",
      "U012DMZSBJ7 1628242748.006300\n",
      "ULHA84QT1 1628240042.005500\n",
      "UMX1CPD6Y 1628239941.004800\n",
      "UMX1CPD6Y 1628239921.004300\n",
      "ULHA84QT1 1628239232.003800\n",
      "U08PK4JK0 1628041944.002600\n",
      "UMX1CPD6Y 1626846147.140800\n",
      "U012DMZSBJ7 1626427642.133600\n",
      "U012DMZSBJ7 1626427441.132900\n",
      "UMX1CPD6Y 1626427045.131700\n"
     ]
    }
   ],
   "source": [
    "for idx , edge in edge_posts.iterrows():\n",
    "    \n",
    "    print(edge.ID, edge.post_id)\n",
    "    user = g.V().has('user_id', edge.ID).toList()\n",
    "    \n",
    "    if len(user):\n",
    "        user = user[0]\n",
    "    \n",
    "    post = g.V().has('post_id', edge.post_id).toList()[0]\n",
    "    g.addE('post').from_(user).to(post).toSet()"
   ]
  },
  {
   "cell_type": "code",
   "execution_count": 31,
   "id": "0f1bab9d",
   "metadata": {
    "scrolled": true
   },
   "outputs": [
    {
     "name": "stdout",
     "output_type": "stream",
     "text": [
      "UMX1CPD6Y 1642386968.036800\n",
      "UFLUZ76JX 1642386617.033900\n",
      "U02P03KAEM9 1642123507.027200\n",
      "UFLUZ76JX 1642123507.027200\n",
      "U0179UVTBQU 1642123507.027200\n",
      "U012DMZSBJ7 1641963962.006400\n",
      "U02D3LXJEGN 1641961974.003200\n",
      "U02P03KAEM9 1641961974.003200\n",
      "U012DMZSBJ7 1641896414.002600\n",
      "UMX1CPD6Y 1641896414.002600\n",
      "U01705LTTSB 1640687938.076500\n",
      "U0179UVTBQU 1640687938.076500\n",
      "UMX1CPD6Y 1640687938.076500\n",
      "U0179UVTBQU 1640687938.076500\n",
      "UMX1CPD6Y 1640687938.076500\n",
      "UD14Q3P6W 1640675465.070600\n",
      "U012DMZSBJ7 1640675465.070600\n",
      "UMX1CPD6Y 1640675465.070600\n",
      "UF2N9JF7H 1640675465.070600\n",
      "U02P03KAEM9 1640591975.066000\n",
      "ULHA84QT1 1640583433.063800\n",
      "UMX1CPD6Y 1640583433.063800\n",
      "U019DE4M562 1640583433.063800\n",
      "ULHA84QT1 1640066105.060500\n",
      "UMX1CPD6Y 1640066105.060500\n",
      "U02D3LXJEGN 1640065398.059900\n",
      "U02D3LXJEGN 1640065398.059900\n",
      "U01705LTTSB 1640065398.059900\n",
      "ULHA84QT1 1640064972.057100\n",
      "UMX1CPD6Y 1640064441.055700\n",
      "UMX1CPD6Y 1639478955.046200\n",
      "U012DMZSBJ7 1639470314.040500\n",
      "U0179UVTBQU 1639470314.040500\n",
      "UMX1CPD6Y 1638440323.036100\n",
      "UMX1CPD6Y 1638436038.032800\n",
      "UL7G5V86L 1638436038.032800\n",
      "UFLUZ76JX 1636075630.019500\n",
      "UMX1CPD6Y 1636023215.010500\n",
      "URB2JTH0F 1636022567.007900\n",
      "U0179UVTBQU 1636022567.007900\n",
      "UMX1CPD6Y 1636022567.007900\n",
      "U01705LTTSB 1636022567.007900\n",
      "UMX1CPD6Y 1634864457.001600\n",
      "UL7G5V86L 1634863088.000900\n",
      "UMX1CPD6Y 1634861727.000300\n",
      "UMX1CPD6Y 1633681890.002200\n",
      "UMX1CPD6Y 1633681890.002200\n",
      "UFLUZ76JX 1633681890.002200\n",
      "ULHA84QT1 1633426454.004800\n",
      "UFLUZ76JX 1633425374.003400\n",
      "ULHA84QT1 1633425374.003400\n",
      "UFLUZ76JX 1633418924.002000\n",
      "U012DMZSBJ7 1630661837.016600\n",
      "UM0DN64H5 1630661837.016600\n",
      "ULHA84QT1 1630631063.011900\n",
      "U012DMZSBJ7 1630631063.011900\n",
      "UFLUZ76JX 1630631063.011900\n",
      "U0179UVTBQU 1630631063.011900\n",
      "UL7G5V86L 1630056167.010400\n",
      "UFLUZ76JX 1630055670.008300\n",
      "UMX1CPD6Y 1630044829.002700\n",
      "U012DMZSBJ7 1630044829.002700\n",
      "U012DMZSBJ7 1629451215.000800\n",
      "UMX1CPD6Y 1628847572.011800\n",
      "U012DMZSBJ7 1626846147.140800\n",
      "ULHA84QT1 1626846147.140800\n",
      "UFLUZ76JX 1626846147.140800\n",
      "U012DMZSBJ7 1626846147.140800\n",
      "U0179UVTBQU 1626846147.140800\n",
      "UFLUZ76JX 1626846147.140800\n",
      "UMX1CPD6Y 1626427441.132900\n",
      "U0179UVTBQU 1626427045.131700\n"
     ]
    }
   ],
   "source": [
    "for idx , edge in edge_reactions.iterrows():\n",
    "    \n",
    "    print(edge.ID, edge.post_id)\n",
    "    user = g.V().hasLabel('user').has('user_id', edge.ID).toList()\n",
    "    #userの検索に引っかからないのがある。要調査\n",
    "    if len(user):\n",
    "        user = user[0]\n",
    "    #以下のpostは読み込めない。IT-Admin系？\n",
    "    if edge.post_id in [\n",
    "    \"1640675465.070600\",\n",
    "    \"1640583433.063800\",\n",
    "    \"1638436038.032800\",\n",
    "    \"1634863088.000900\",\n",
    "    \"1630661837.016600\",\n",
    "    \"1630056167.010400\"\n",
    "    ]:\n",
    "        continue\n",
    "    post = g.V().hasLabel('post').has('post_id', edge.post_id).toList()[0]\n",
    "\n",
    "    g.addE('stamp').from_(user).to(post).property('name',edge.stamp_name).toSet()\n"
   ]
  },
  {
   "cell_type": "code",
   "execution_count": 32,
   "id": "e43b529f",
   "metadata": {},
   "outputs": [
    {
     "data": {
      "application/vnd.jupyter.widget-view+json": {
       "model_id": "52e31ac62a374bb2beecdd3b5b345666",
       "version_major": 2,
       "version_minor": 0
      },
      "text/plain": [
       "Tab(children=(Output(layout=Layout(max_height='600px', overflow='scroll', width='100%')), Output(layout=Layout…"
      ]
     },
     "metadata": {},
     "output_type": "display_data"
    }
   ],
   "source": [
    "%%gremlin\n",
    "g.V().valueMap()"
   ]
  },
  {
   "cell_type": "code",
   "execution_count": 33,
   "id": "83acfddd",
   "metadata": {},
   "outputs": [
    {
     "data": {
      "application/vnd.jupyter.widget-view+json": {
       "model_id": "293a483f02494621b6c9fb55de897c61",
       "version_major": 2,
       "version_minor": 0
      },
      "text/plain": [
       "Tab(children=(Output(layout=Layout(max_height='600px', overflow='scroll', width='100%')), Output(layout=Layout…"
      ]
     },
     "metadata": {},
     "output_type": "display_data"
    }
   ],
   "source": [
    "%%gremlin\n",
    "g.V().hasLabel('user').has('name', 'アンパンマン')"
   ]
  },
  {
   "cell_type": "code",
   "execution_count": 34,
   "id": "77b0303c",
   "metadata": {},
   "outputs": [
    {
     "data": {
      "application/vnd.jupyter.widget-view+json": {
       "model_id": "5e405889730a467f8cb4915631869fc2",
       "version_major": 2,
       "version_minor": 0
      },
      "text/plain": [
       "Tab(children=(Output(layout=Layout(max_height='600px', overflow='scroll', width='100%')), Output(layout=Layout…"
      ]
     },
     "metadata": {},
     "output_type": "display_data"
    }
   ],
   "source": [
    "%%gremlin\n",
    "g.V().hasLabel('user').has('name', 'ばいきんまん').outE('post').inV().values('text')"
   ]
  },
  {
   "cell_type": "code",
   "execution_count": 35,
   "id": "902c73fd",
   "metadata": {},
   "outputs": [
    {
     "data": {
      "application/vnd.jupyter.widget-view+json": {
       "model_id": "21990e3c757244db8fee3ab2e92a74dd",
       "version_major": 2,
       "version_minor": 0
      },
      "text/plain": [
       "Tab(children=(Output(layout=Layout(max_height='600px', overflow='scroll', width='100%')), Output(layout=Layout…"
      ]
     },
     "metadata": {},
     "output_type": "display_data"
    }
   ],
   "source": [
    "%%gremlin\n",
    "g.E().valueMap()"
   ]
  },
  {
   "cell_type": "code",
   "execution_count": 36,
   "id": "34025ffd",
   "metadata": {},
   "outputs": [
    {
     "data": {
      "application/vnd.jupyter.widget-view+json": {
       "model_id": "f7abf5f3aab241f1a480bcf6394931a8",
       "version_major": 2,
       "version_minor": 0
      },
      "text/plain": [
       "Tab(children=(Output(layout=Layout(max_height='600px', overflow='scroll', width='100%')), Output(layout=Layout…"
      ]
     },
     "metadata": {},
     "output_type": "display_data"
    }
   ],
   "source": [
    "%%gremlin\n",
    "g.E().hasLabel('stamp').has('name', 'eyes').inV()"
   ]
  },
  {
   "cell_type": "code",
   "execution_count": 37,
   "id": "dd661b3d",
   "metadata": {},
   "outputs": [],
   "source": [
    "my_node_labels = '{\"user\":\"name\"}'\n",
    "my_edge_labels = '{\"stamp\":\"name\"}'"
   ]
  },
  {
   "cell_type": "code",
   "execution_count": 38,
   "id": "b5cc78f8",
   "metadata": {},
   "outputs": [
    {
     "data": {
      "application/vnd.jupyter.widget-view+json": {
       "model_id": "637ed816e1124be6b6d7c06f1e6047fb",
       "version_major": 2,
       "version_minor": 0
      },
      "text/plain": [
       "Tab(children=(Output(layout=Layout(max_height='600px', overflow='scroll', width='100%')), Force(network=<graph…"
      ]
     },
     "metadata": {},
     "output_type": "display_data"
    }
   ],
   "source": [
    "%%gremlin -p v,oute,inv \n",
    "g.V().hasLabel(\"user\").outE().inV().path().by(elementMap())"
   ]
  },
  {
   "cell_type": "code",
   "execution_count": 39,
   "id": "0fde6928",
   "metadata": {},
   "outputs": [
    {
     "data": {
      "application/vnd.jupyter.widget-view+json": {
       "model_id": "371bda6d55714a0897c3d52a98f7e77d",
       "version_major": 2,
       "version_minor": 0
      },
      "text/plain": [
       "Tab(children=(Output(layout=Layout(max_height='600px', overflow='scroll', width='100%')), Force(network=<graph…"
      ]
     },
     "metadata": {},
     "output_type": "display_data"
    }
   ],
   "source": [
    "%%gremlin -p v,oute,inv -d $my_node_labels -de $my_edge_labels\n",
    "g.V().hasLabel(\"user\").outE().inV().path().by(elementMap())"
   ]
  },
  {
   "cell_type": "code",
   "execution_count": null,
   "id": "2378671a",
   "metadata": {},
   "outputs": [],
   "source": []
  }
 ],
 "metadata": {
  "kernelspec": {
   "display_name": "Python 3",
   "language": "python",
   "name": "python3"
  },
  "language_info": {
   "codemirror_mode": {
    "name": "ipython",
    "version": 3
   },
   "file_extension": ".py",
   "mimetype": "text/x-python",
   "name": "python",
   "nbconvert_exporter": "python",
   "pygments_lexer": "ipython3",
   "version": "3.7.12"
  }
 },
 "nbformat": 4,
 "nbformat_minor": 5
}
